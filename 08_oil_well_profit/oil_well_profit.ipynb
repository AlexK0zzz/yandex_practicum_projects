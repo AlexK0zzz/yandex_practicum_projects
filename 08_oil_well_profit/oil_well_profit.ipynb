{
 "cells": [
  {
   "cell_type": "markdown",
   "metadata": {},
   "source": [
    "# Выбор локации для скважины\n",
    "\n",
    "Перед добывающей компанией стоит вопрос, где бурить новую скважину.\n",
    "\n",
    "В нашем распоряжении имеются пробы нефти в трёх регионах: в каждом 10 000 месторождений, где измерили качество нефти и объём её запасов. Необходимо построить модель машинного обучения, которая поможет определить регион, где добыча принесёт наибольшую прибыль. Возможную прибыль и риски необходимо проанализировать техникой *Bootstrap.*\n",
    "\n",
    "Шаги для выбора локации:\n",
    "\n",
    " - поиск месторождений в избранном регионе, определение признаков для каждого;\n",
    " - построение модели и оценка объёма запасов;\n",
    " - выбор месторождений с самыми высокими оценками значений (количество зависит от бюджета компании и стоимости разработки одной скважины);\n",
    " - определение прибыли как суммы прибылей оторанных месторождений."
   ]
  },
  {
   "cell_type": "markdown",
   "metadata": {},
   "source": [
    "## Загрузка и подготовка данных"
   ]
  },
  {
   "cell_type": "code",
   "execution_count": 1,
   "metadata": {},
   "outputs": [],
   "source": [
    "# импорт необходимых библиотек\n",
    "import pandas as pd\n",
    "import numpy as np\n",
    "import matplotlib.pyplot as plt\n",
    "from sklearn.model_selection import train_test_split\n",
    "from sklearn.preprocessing import StandardScaler\n",
    "from sklearn.linear_model import LinearRegression\n",
    "from sklearn.metrics import mean_squared_error\n",
    "from sklearn.utils import shuffle\n",
    "from tqdm import tqdm"
   ]
  },
  {
   "cell_type": "code",
   "execution_count": 2,
   "metadata": {},
   "outputs": [],
   "source": [
    "seed = 6\n",
    "state = np.random.RandomState(seed)"
   ]
  },
  {
   "cell_type": "code",
   "execution_count": 3,
   "metadata": {},
   "outputs": [],
   "source": [
    "try:\n",
    "    df_0 = pd.read_csv('geo_data_0.csv')\n",
    "except:\n",
    "    df_0 = pd.read_csv('/datasets/geo_data_0.csv')"
   ]
  },
  {
   "cell_type": "code",
   "execution_count": 4,
   "metadata": {},
   "outputs": [
    {
     "data": {
      "text/html": [
       "<div>\n",
       "<style scoped>\n",
       "    .dataframe tbody tr th:only-of-type {\n",
       "        vertical-align: middle;\n",
       "    }\n",
       "\n",
       "    .dataframe tbody tr th {\n",
       "        vertical-align: top;\n",
       "    }\n",
       "\n",
       "    .dataframe thead th {\n",
       "        text-align: right;\n",
       "    }\n",
       "</style>\n",
       "<table border=\"1\" class=\"dataframe\">\n",
       "  <thead>\n",
       "    <tr style=\"text-align: right;\">\n",
       "      <th></th>\n",
       "      <th>id</th>\n",
       "      <th>f0</th>\n",
       "      <th>f1</th>\n",
       "      <th>f2</th>\n",
       "      <th>product</th>\n",
       "    </tr>\n",
       "  </thead>\n",
       "  <tbody>\n",
       "    <tr>\n",
       "      <th>0</th>\n",
       "      <td>txEyH</td>\n",
       "      <td>0.705745</td>\n",
       "      <td>-0.497823</td>\n",
       "      <td>1.221170</td>\n",
       "      <td>105.280062</td>\n",
       "    </tr>\n",
       "    <tr>\n",
       "      <th>1</th>\n",
       "      <td>2acmU</td>\n",
       "      <td>1.334711</td>\n",
       "      <td>-0.340164</td>\n",
       "      <td>4.365080</td>\n",
       "      <td>73.037750</td>\n",
       "    </tr>\n",
       "    <tr>\n",
       "      <th>2</th>\n",
       "      <td>409Wp</td>\n",
       "      <td>1.022732</td>\n",
       "      <td>0.151990</td>\n",
       "      <td>1.419926</td>\n",
       "      <td>85.265647</td>\n",
       "    </tr>\n",
       "    <tr>\n",
       "      <th>3</th>\n",
       "      <td>iJLyR</td>\n",
       "      <td>-0.032172</td>\n",
       "      <td>0.139033</td>\n",
       "      <td>2.978566</td>\n",
       "      <td>168.620776</td>\n",
       "    </tr>\n",
       "    <tr>\n",
       "      <th>4</th>\n",
       "      <td>Xdl7t</td>\n",
       "      <td>1.988431</td>\n",
       "      <td>0.155413</td>\n",
       "      <td>4.751769</td>\n",
       "      <td>154.036647</td>\n",
       "    </tr>\n",
       "  </tbody>\n",
       "</table>\n",
       "</div>"
      ],
      "text/plain": [
       "      id        f0        f1        f2     product\n",
       "0  txEyH  0.705745 -0.497823  1.221170  105.280062\n",
       "1  2acmU  1.334711 -0.340164  4.365080   73.037750\n",
       "2  409Wp  1.022732  0.151990  1.419926   85.265647\n",
       "3  iJLyR -0.032172  0.139033  2.978566  168.620776\n",
       "4  Xdl7t  1.988431  0.155413  4.751769  154.036647"
      ]
     },
     "execution_count": 4,
     "metadata": {},
     "output_type": "execute_result"
    }
   ],
   "source": [
    "df_0.head()"
   ]
  },
  {
   "cell_type": "code",
   "execution_count": 5,
   "metadata": {},
   "outputs": [
    {
     "name": "stdout",
     "output_type": "stream",
     "text": [
      "<class 'pandas.core.frame.DataFrame'>\n",
      "RangeIndex: 100000 entries, 0 to 99999\n",
      "Data columns (total 5 columns):\n",
      " #   Column   Non-Null Count   Dtype  \n",
      "---  ------   --------------   -----  \n",
      " 0   id       100000 non-null  object \n",
      " 1   f0       100000 non-null  float64\n",
      " 2   f1       100000 non-null  float64\n",
      " 3   f2       100000 non-null  float64\n",
      " 4   product  100000 non-null  float64\n",
      "dtypes: float64(4), object(1)\n",
      "memory usage: 3.8+ MB\n"
     ]
    }
   ],
   "source": [
    "df_0.info()"
   ]
  },
  {
   "cell_type": "code",
   "execution_count": 6,
   "metadata": {},
   "outputs": [],
   "source": [
    "try:\n",
    "    df_1 = pd.read_csv('geo_data_1.csv')\n",
    "except:\n",
    "    df_1 = pd.read_csv('/datasets/geo_data_1.csv')"
   ]
  },
  {
   "cell_type": "code",
   "execution_count": 7,
   "metadata": {},
   "outputs": [
    {
     "data": {
      "text/html": [
       "<div>\n",
       "<style scoped>\n",
       "    .dataframe tbody tr th:only-of-type {\n",
       "        vertical-align: middle;\n",
       "    }\n",
       "\n",
       "    .dataframe tbody tr th {\n",
       "        vertical-align: top;\n",
       "    }\n",
       "\n",
       "    .dataframe thead th {\n",
       "        text-align: right;\n",
       "    }\n",
       "</style>\n",
       "<table border=\"1\" class=\"dataframe\">\n",
       "  <thead>\n",
       "    <tr style=\"text-align: right;\">\n",
       "      <th></th>\n",
       "      <th>id</th>\n",
       "      <th>f0</th>\n",
       "      <th>f1</th>\n",
       "      <th>f2</th>\n",
       "      <th>product</th>\n",
       "    </tr>\n",
       "  </thead>\n",
       "  <tbody>\n",
       "    <tr>\n",
       "      <th>0</th>\n",
       "      <td>kBEdx</td>\n",
       "      <td>-15.001348</td>\n",
       "      <td>-8.276000</td>\n",
       "      <td>-0.005876</td>\n",
       "      <td>3.179103</td>\n",
       "    </tr>\n",
       "    <tr>\n",
       "      <th>1</th>\n",
       "      <td>62mP7</td>\n",
       "      <td>14.272088</td>\n",
       "      <td>-3.475083</td>\n",
       "      <td>0.999183</td>\n",
       "      <td>26.953261</td>\n",
       "    </tr>\n",
       "    <tr>\n",
       "      <th>2</th>\n",
       "      <td>vyE1P</td>\n",
       "      <td>6.263187</td>\n",
       "      <td>-5.948386</td>\n",
       "      <td>5.001160</td>\n",
       "      <td>134.766305</td>\n",
       "    </tr>\n",
       "    <tr>\n",
       "      <th>3</th>\n",
       "      <td>KcrkZ</td>\n",
       "      <td>-13.081196</td>\n",
       "      <td>-11.506057</td>\n",
       "      <td>4.999415</td>\n",
       "      <td>137.945408</td>\n",
       "    </tr>\n",
       "    <tr>\n",
       "      <th>4</th>\n",
       "      <td>AHL4O</td>\n",
       "      <td>12.702195</td>\n",
       "      <td>-8.147433</td>\n",
       "      <td>5.004363</td>\n",
       "      <td>134.766305</td>\n",
       "    </tr>\n",
       "  </tbody>\n",
       "</table>\n",
       "</div>"
      ],
      "text/plain": [
       "      id         f0         f1        f2     product\n",
       "0  kBEdx -15.001348  -8.276000 -0.005876    3.179103\n",
       "1  62mP7  14.272088  -3.475083  0.999183   26.953261\n",
       "2  vyE1P   6.263187  -5.948386  5.001160  134.766305\n",
       "3  KcrkZ -13.081196 -11.506057  4.999415  137.945408\n",
       "4  AHL4O  12.702195  -8.147433  5.004363  134.766305"
      ]
     },
     "execution_count": 7,
     "metadata": {},
     "output_type": "execute_result"
    }
   ],
   "source": [
    "df_1.head()"
   ]
  },
  {
   "cell_type": "code",
   "execution_count": 8,
   "metadata": {},
   "outputs": [
    {
     "name": "stdout",
     "output_type": "stream",
     "text": [
      "<class 'pandas.core.frame.DataFrame'>\n",
      "RangeIndex: 100000 entries, 0 to 99999\n",
      "Data columns (total 5 columns):\n",
      " #   Column   Non-Null Count   Dtype  \n",
      "---  ------   --------------   -----  \n",
      " 0   id       100000 non-null  object \n",
      " 1   f0       100000 non-null  float64\n",
      " 2   f1       100000 non-null  float64\n",
      " 3   f2       100000 non-null  float64\n",
      " 4   product  100000 non-null  float64\n",
      "dtypes: float64(4), object(1)\n",
      "memory usage: 3.8+ MB\n"
     ]
    }
   ],
   "source": [
    "df_1.info()"
   ]
  },
  {
   "cell_type": "code",
   "execution_count": 9,
   "metadata": {},
   "outputs": [],
   "source": [
    "try:\n",
    "    df_2 = pd.read_csv('geo_data_2.csv')\n",
    "except:\n",
    "    df_2 = pd.read_csv('/datasets/geo_data_2.csv')"
   ]
  },
  {
   "cell_type": "code",
   "execution_count": 10,
   "metadata": {},
   "outputs": [
    {
     "data": {
      "text/html": [
       "<div>\n",
       "<style scoped>\n",
       "    .dataframe tbody tr th:only-of-type {\n",
       "        vertical-align: middle;\n",
       "    }\n",
       "\n",
       "    .dataframe tbody tr th {\n",
       "        vertical-align: top;\n",
       "    }\n",
       "\n",
       "    .dataframe thead th {\n",
       "        text-align: right;\n",
       "    }\n",
       "</style>\n",
       "<table border=\"1\" class=\"dataframe\">\n",
       "  <thead>\n",
       "    <tr style=\"text-align: right;\">\n",
       "      <th></th>\n",
       "      <th>id</th>\n",
       "      <th>f0</th>\n",
       "      <th>f1</th>\n",
       "      <th>f2</th>\n",
       "      <th>product</th>\n",
       "    </tr>\n",
       "  </thead>\n",
       "  <tbody>\n",
       "    <tr>\n",
       "      <th>0</th>\n",
       "      <td>fwXo0</td>\n",
       "      <td>-1.146987</td>\n",
       "      <td>0.963328</td>\n",
       "      <td>-0.828965</td>\n",
       "      <td>27.758673</td>\n",
       "    </tr>\n",
       "    <tr>\n",
       "      <th>1</th>\n",
       "      <td>WJtFt</td>\n",
       "      <td>0.262778</td>\n",
       "      <td>0.269839</td>\n",
       "      <td>-2.530187</td>\n",
       "      <td>56.069697</td>\n",
       "    </tr>\n",
       "    <tr>\n",
       "      <th>2</th>\n",
       "      <td>ovLUW</td>\n",
       "      <td>0.194587</td>\n",
       "      <td>0.289035</td>\n",
       "      <td>-5.586433</td>\n",
       "      <td>62.871910</td>\n",
       "    </tr>\n",
       "    <tr>\n",
       "      <th>3</th>\n",
       "      <td>q6cA6</td>\n",
       "      <td>2.236060</td>\n",
       "      <td>-0.553760</td>\n",
       "      <td>0.930038</td>\n",
       "      <td>114.572842</td>\n",
       "    </tr>\n",
       "    <tr>\n",
       "      <th>4</th>\n",
       "      <td>WPMUX</td>\n",
       "      <td>-0.515993</td>\n",
       "      <td>1.716266</td>\n",
       "      <td>5.899011</td>\n",
       "      <td>149.600746</td>\n",
       "    </tr>\n",
       "  </tbody>\n",
       "</table>\n",
       "</div>"
      ],
      "text/plain": [
       "      id        f0        f1        f2     product\n",
       "0  fwXo0 -1.146987  0.963328 -0.828965   27.758673\n",
       "1  WJtFt  0.262778  0.269839 -2.530187   56.069697\n",
       "2  ovLUW  0.194587  0.289035 -5.586433   62.871910\n",
       "3  q6cA6  2.236060 -0.553760  0.930038  114.572842\n",
       "4  WPMUX -0.515993  1.716266  5.899011  149.600746"
      ]
     },
     "execution_count": 10,
     "metadata": {},
     "output_type": "execute_result"
    }
   ],
   "source": [
    "df_2.head()"
   ]
  },
  {
   "cell_type": "code",
   "execution_count": 11,
   "metadata": {},
   "outputs": [
    {
     "name": "stdout",
     "output_type": "stream",
     "text": [
      "<class 'pandas.core.frame.DataFrame'>\n",
      "RangeIndex: 100000 entries, 0 to 99999\n",
      "Data columns (total 5 columns):\n",
      " #   Column   Non-Null Count   Dtype  \n",
      "---  ------   --------------   -----  \n",
      " 0   id       100000 non-null  object \n",
      " 1   f0       100000 non-null  float64\n",
      " 2   f1       100000 non-null  float64\n",
      " 3   f2       100000 non-null  float64\n",
      " 4   product  100000 non-null  float64\n",
      "dtypes: float64(4), object(1)\n",
      "memory usage: 3.8+ MB\n"
     ]
    }
   ],
   "source": [
    "df_2.info()"
   ]
  },
  {
   "cell_type": "markdown",
   "metadata": {},
   "source": [
    "В каждой таблице по 5 столбцов с различными типами данных. Согласно документации к данным:\n",
    " - `id` — уникальный идентификатор скважины;\n",
    " - `f0`, `f1`, `f2` —  три признака точек;\n",
    " - `product` — объём запасов в скважине (тыс. баррелей).\n",
    " \n",
    "Пропусков в данных не обнаружено.\n",
    "\n",
    "Информация об идентификаторе скважины не потребуется для дальнейшего анализа, поэтому удалим из таблиц столбец `id`."
   ]
  },
  {
   "cell_type": "code",
   "execution_count": 12,
   "metadata": {},
   "outputs": [],
   "source": [
    "for df in [df_0, df_1, df_2]:\n",
    "    df.drop('id', axis=1, inplace=True)"
   ]
  },
  {
   "cell_type": "code",
   "execution_count": 13,
   "metadata": {
    "scrolled": false
   },
   "outputs": [
    {
     "name": "stdout",
     "output_type": "stream",
     "text": [
      "<class 'pandas.core.frame.DataFrame'>\n",
      "RangeIndex: 100000 entries, 0 to 99999\n",
      "Data columns (total 4 columns):\n",
      " #   Column   Non-Null Count   Dtype  \n",
      "---  ------   --------------   -----  \n",
      " 0   f0       100000 non-null  float64\n",
      " 1   f1       100000 non-null  float64\n",
      " 2   f2       100000 non-null  float64\n",
      " 3   product  100000 non-null  float64\n",
      "dtypes: float64(4)\n",
      "memory usage: 3.1 MB\n"
     ]
    },
    {
     "data": {
      "text/plain": [
       "None"
      ]
     },
     "metadata": {},
     "output_type": "display_data"
    },
    {
     "name": "stdout",
     "output_type": "stream",
     "text": [
      "<class 'pandas.core.frame.DataFrame'>\n",
      "RangeIndex: 100000 entries, 0 to 99999\n",
      "Data columns (total 4 columns):\n",
      " #   Column   Non-Null Count   Dtype  \n",
      "---  ------   --------------   -----  \n",
      " 0   f0       100000 non-null  float64\n",
      " 1   f1       100000 non-null  float64\n",
      " 2   f2       100000 non-null  float64\n",
      " 3   product  100000 non-null  float64\n",
      "dtypes: float64(4)\n",
      "memory usage: 3.1 MB\n"
     ]
    },
    {
     "data": {
      "text/plain": [
       "None"
      ]
     },
     "metadata": {},
     "output_type": "display_data"
    },
    {
     "name": "stdout",
     "output_type": "stream",
     "text": [
      "<class 'pandas.core.frame.DataFrame'>\n",
      "RangeIndex: 100000 entries, 0 to 99999\n",
      "Data columns (total 4 columns):\n",
      " #   Column   Non-Null Count   Dtype  \n",
      "---  ------   --------------   -----  \n",
      " 0   f0       100000 non-null  float64\n",
      " 1   f1       100000 non-null  float64\n",
      " 2   f2       100000 non-null  float64\n",
      " 3   product  100000 non-null  float64\n",
      "dtypes: float64(4)\n",
      "memory usage: 3.1 MB\n"
     ]
    },
    {
     "data": {
      "text/plain": [
       "None"
      ]
     },
     "metadata": {},
     "output_type": "display_data"
    }
   ],
   "source": [
    "for df in [df_0, df_1, df_2]:\n",
    "    display(df.info())"
   ]
  },
  {
   "cell_type": "markdown",
   "metadata": {},
   "source": [
    "Перейдём к обучению и проверке модели."
   ]
  },
  {
   "cell_type": "markdown",
   "metadata": {},
   "source": [
    "## Обучение и проверка модели"
   ]
  },
  {
   "cell_type": "code",
   "execution_count": 14,
   "metadata": {},
   "outputs": [],
   "source": [
    "# функция подготовки данных, обучения модели и предсказания результатов\n",
    "# входной параметр - датасет\n",
    "# возвращаемые значения - датасет с предсказанными значениями, правильными\n",
    "# ответами и PMSE модели\n",
    "\n",
    "def prepare_and_predict(df):\n",
    "    # выделение признаков и целевого признака\n",
    "    features = df.drop('product', axis=1)\n",
    "    target = df['product']\n",
    "\n",
    "    # разбиение на обучающую и валидационную выборки\n",
    "    (features_train, features_valid,\n",
    "     target_train, target_valid) = train_test_split(features, target,\n",
    "                                                    test_size=0.25,\n",
    "                                                    random_state=seed)\n",
    "    # масштабирование данных\n",
    "    scaler = StandardScaler()\n",
    "    scaler.fit(features_train)\n",
    "    for f in [features_train, features_valid]:\n",
    "        f = scaler.transform(f)\n",
    "\n",
    "    # обучение модели и предсказание\n",
    "    model = LinearRegression()\n",
    "    model.fit(features_train, target_train)\n",
    "    predictions_valid = model.predict(features_valid)\n",
    "    \n",
    "    # подготовка возвращаемых значений\n",
    "    results = pd.DataFrame(data={'predicted':predictions_valid,\n",
    "                                 'target':target_valid},\n",
    "                                 columns=['predicted', 'target'])\n",
    "    rmse = mean_squared_error(target_valid, predictions_valid) ** 0.5\n",
    "    return results, rmse"
   ]
  },
  {
   "cell_type": "code",
   "execution_count": 15,
   "metadata": {},
   "outputs": [],
   "source": [
    "results_on_valid = []"
   ]
  },
  {
   "cell_type": "code",
   "execution_count": 16,
   "metadata": {},
   "outputs": [
    {
     "name": "stdout",
     "output_type": "stream",
     "text": [
      "Регион 1:\n",
      "Сред. запас: 92.46866515483404\n",
      "RMSE модели: 37.50092951247967\n",
      "\n",
      "Регион 2:\n",
      "Сред. запас: 68.77217858390492\n",
      "RMSE модели: 0.8899637258179824\n",
      "\n",
      "Регион 3:\n",
      "Сред. запас: 94.68357707424651\n",
      "RMSE модели: 40.05955871704578\n",
      "\n"
     ]
    }
   ],
   "source": [
    "i = 1\n",
    "for df in [df_0, df_1, df_2]:\n",
    "    results, rmse = prepare_and_predict(df)\n",
    "    results_on_valid.append(results)\n",
    "    print(f'Регион {i}:')\n",
    "    print(f'Сред. запас: {results[\"predicted\"].mean()}')\n",
    "    print(f'RMSE модели: {rmse}')\n",
    "    print()\n",
    "    i += 1"
   ]
  },
  {
   "cell_type": "markdown",
   "metadata": {},
   "source": [
    "Точнее всего запасы сырья модель предсказала для второго региона - корень из среднеквадратичной ошибки оказался меньше 1 тыс. баррелей (RMSE = 0.89). Далее идут первый и третий регионы со значениями RMSE равными соответственно 37.5 и 40.1."
   ]
  },
  {
   "cell_type": "markdown",
   "metadata": {},
   "source": [
    "## Подготовка к расчёту прибыли"
   ]
  },
  {
   "cell_type": "code",
   "execution_count": 17,
   "metadata": {},
   "outputs": [],
   "source": [
    "BUDGET = 10_000_000_000\n",
    "INCOME_PER_BARREL = 450_000\n",
    "\n",
    "RESEARCH_WELLS = 500\n",
    "SELECTED_WELLS = 200\n",
    "SAMPLES = 1000"
   ]
  },
  {
   "cell_type": "code",
   "execution_count": 18,
   "metadata": {},
   "outputs": [
    {
     "name": "stdout",
     "output_type": "stream",
     "text": [
      "Необходимый объём сырья для безубыточной разработки:\n",
      " на регион - 22222.2 тыс.баррелей\n",
      " на скважину - 111.1 тыс.баррелей\n"
     ]
    }
   ],
   "source": [
    "region_profit_barrels = BUDGET / INCOME_PER_BARREL\n",
    "well_profit_barrels = region_profit_barrels / SELECTED_WELLS\n",
    "print('Необходимый объём сырья для безубыточной разработки:')\n",
    "print(f' на регион - {region_profit_barrels:.1f} тыс.баррелей')\n",
    "print(f' на скважину - {well_profit_barrels:.1f} тыс.баррелей')"
   ]
  },
  {
   "cell_type": "markdown",
   "metadata": {},
   "source": [
    "Видим, что запасы в скважинах во всех регионах в среднем меньше, чем необходимо для безубыточной разработки новой скважины."
   ]
  },
  {
   "cell_type": "markdown",
   "metadata": {},
   "source": [
    "## Расчёт прибыли и рисков "
   ]
  },
  {
   "cell_type": "code",
   "execution_count": 19,
   "metadata": {},
   "outputs": [],
   "source": [
    "# функция для расчёта прибыли по выбранным скважинам и предсказаниям модели\n",
    "def profit(target, predicted):\n",
    "    predicted_sorted = predicted.sort_values(ascending=False)\n",
    "    selected = target[predicted_sorted.index][:SELECTED_WELLS]\n",
    "    return INCOME_PER_BARREL * selected.sum() - BUDGET"
   ]
  },
  {
   "cell_type": "code",
   "execution_count": 20,
   "metadata": {},
   "outputs": [],
   "source": [
    "def bootstrap(target, predicted):\n",
    "    values = []\n",
    "    for _ in range(SAMPLES):\n",
    "        target_sub = target.sample(frac=(RESEARCH_WELLS / len(target)),\n",
    "                                   replace=True, random_state=state)\n",
    "        pred_sub = predicted[target_sub.index]\n",
    "        income = profit(target_sub, pred_sub)\n",
    "        values.append(income)\n",
    "    values = pd.Series(values)\n",
    "    mean = values.mean()\n",
    "    lower = values.quantile(0.025)\n",
    "    upper = values.quantile(0.975)\n",
    "    loss_risk = (values < 0).mean()\n",
    "    return mean, (lower, upper), loss_risk"
   ]
  },
  {
   "cell_type": "code",
   "execution_count": 21,
   "metadata": {},
   "outputs": [
    {
     "name": "stdout",
     "output_type": "stream",
     "text": [
      "Регион 1:\n",
      "Средняя прибыль: 449226331.6977277\n",
      "95%-й доверительный интервал: (-74060657.26505223, 990322137.3103389)\n",
      "Риск убытков: 5.30%\n",
      "\n",
      "Регион 2:\n",
      "Средняя прибыль: 496877990.0529474\n",
      "95%-й доверительный интервал: (100097541.61165586, 920151026.8281939)\n",
      "Риск убытков: 0.90%\n",
      "\n",
      "Регион 3:\n",
      "Средняя прибыль: 383213244.775705\n",
      "95%-й доверительный интервал: (-168786451.18593073, 906615292.3482236)\n",
      "Риск убытков: 8.30%\n",
      "\n"
     ]
    }
   ],
   "source": [
    "i = 1\n",
    "for region in results_on_valid:\n",
    "    mean, interval, loss_risk = bootstrap(region['target'],\n",
    "                                          region['predicted'])\n",
    "    print(f'Регион {i}:')\n",
    "    print(f'Средняя прибыль: {mean}')\n",
    "    print(f'95%-й доверительный интервал: {interval}')\n",
    "    print(f'Риск убытков: {loss_risk:.2%}')\n",
    "    print()\n",
    "    i += 1"
   ]
  },
  {
   "cell_type": "markdown",
   "metadata": {},
   "source": [
    "Наиболее привлекательным для разработки является второй регион. Здесь наибольшая средняя прибыль и наименьший риск убытков. Также 95%-й доверительный интервал выглядит лучше, чем для других регионов - он целиком расположен в области положительной прибыли."
   ]
  },
  {
   "cell_type": "markdown",
   "metadata": {},
   "source": [
    "## Выводы"
   ]
  },
  {
   "cell_type": "markdown",
   "metadata": {},
   "source": [
    "На первом шаге были загружены данные. Предварительный анализ не показал каких-либо проблем с данными. Лишь были удалены неинформативные столбцы. \n",
    "\n",
    "Затем для каждого региона были подготовлены данные и обучена модель линейной регресии. На валидационной выборке были получены следующие результаты:\n",
    "\n",
    " - Регион 1:\n",
    "   - Сред. запас: 92.46866515483404\n",
    "   - RMSE модели: 37.50092951247967\n",
    " - Регион 2:\n",
    "   - Сред. запас: 68.77217858390489\n",
    "   - RMSE модели: 0.8899637258179826\n",
    " - Регион 3:\n",
    "   - Сред. запас: 94.68357707424651\n",
    "   - RMSE модели: 40.05955871704578\n",
    "   \n",
    "Далее был рассчитан необходимый объём сырья для безубыточной разработки скважины:\n",
    " - на регион - 22222.2 тыс.баррелей\n",
    " - на скважину - 111.1 тыс.баррелей\n",
    "\n",
    "В среднем запасы в скважинах во всех регионах меньше, чем необходимо для безубыточной разработки новой скважины.\n",
    "\n",
    "Наконец, с применением техники Bootstrap для каждого региона были рассчитаны прибыль и риски. С учётом полученных результатов наиболее привлекательным для разработки новых скважин оказался второй регион: здесь лучшие из трёх регионов показатели прибыли и наименьший риск убытков."
   ]
  }
 ],
 "metadata": {
  "ExecuteTimeLog": [
   {
    "duration": 1486,
    "start_time": "2022-07-01T19:52:38.000Z"
   },
   {
    "duration": 3,
    "start_time": "2022-07-01T19:52:39.488Z"
   },
   {
    "duration": 516,
    "start_time": "2022-07-01T19:52:39.493Z"
   },
   {
    "duration": 15,
    "start_time": "2022-07-01T19:52:40.011Z"
   },
   {
    "duration": 17,
    "start_time": "2022-07-01T19:52:40.028Z"
   },
   {
    "duration": 200,
    "start_time": "2022-07-01T19:52:40.047Z"
   },
   {
    "duration": 9,
    "start_time": "2022-07-01T19:52:40.249Z"
   },
   {
    "duration": 22,
    "start_time": "2022-07-01T19:52:40.259Z"
   },
   {
    "duration": 221,
    "start_time": "2022-07-01T19:52:40.283Z"
   },
   {
    "duration": 11,
    "start_time": "2022-07-01T19:52:40.505Z"
   },
   {
    "duration": 18,
    "start_time": "2022-07-01T19:52:40.517Z"
   },
   {
    "duration": 11,
    "start_time": "2022-07-01T19:52:40.537Z"
   },
   {
    "duration": 28,
    "start_time": "2022-07-01T19:52:40.549Z"
   },
   {
    "duration": 5,
    "start_time": "2022-07-01T19:52:40.579Z"
   },
   {
    "duration": 12,
    "start_time": "2022-07-01T19:52:40.586Z"
   },
   {
    "duration": 445,
    "start_time": "2022-07-01T19:52:40.600Z"
   },
   {
    "duration": 80,
    "start_time": "2022-07-01T19:52:41.047Z"
   },
   {
    "duration": 113,
    "start_time": "2022-07-01T19:52:41.130Z"
   },
   {
    "duration": 8,
    "start_time": "2022-07-01T19:52:41.245Z"
   },
   {
    "duration": 16,
    "start_time": "2022-07-01T19:52:41.256Z"
   },
   {
    "duration": 3926,
    "start_time": "2022-07-01T19:52:41.274Z"
   },
   {
    "duration": 1355,
    "start_time": "2022-07-01T19:54:09.199Z"
   },
   {
    "duration": 3,
    "start_time": "2022-07-01T19:54:10.556Z"
   },
   {
    "duration": 153,
    "start_time": "2022-07-01T19:54:10.561Z"
   },
   {
    "duration": 13,
    "start_time": "2022-07-01T19:54:10.716Z"
   },
   {
    "duration": 18,
    "start_time": "2022-07-01T19:54:10.730Z"
   },
   {
    "duration": 140,
    "start_time": "2022-07-01T19:54:10.750Z"
   },
   {
    "duration": 9,
    "start_time": "2022-07-01T19:54:10.892Z"
   },
   {
    "duration": 17,
    "start_time": "2022-07-01T19:54:10.903Z"
   },
   {
    "duration": 136,
    "start_time": "2022-07-01T19:54:10.926Z"
   },
   {
    "duration": 9,
    "start_time": "2022-07-01T19:54:11.065Z"
   },
   {
    "duration": 19,
    "start_time": "2022-07-01T19:54:11.076Z"
   },
   {
    "duration": 13,
    "start_time": "2022-07-01T19:54:11.097Z"
   },
   {
    "duration": 44,
    "start_time": "2022-07-01T19:54:11.112Z"
   },
   {
    "duration": 5,
    "start_time": "2022-07-01T19:54:11.157Z"
   },
   {
    "duration": 11,
    "start_time": "2022-07-01T19:54:11.164Z"
   },
   {
    "duration": 472,
    "start_time": "2022-07-01T19:54:11.176Z"
   },
   {
    "duration": 3,
    "start_time": "2022-07-01T19:54:11.728Z"
   },
   {
    "duration": 103,
    "start_time": "2022-07-01T19:54:11.733Z"
   },
   {
    "duration": 7,
    "start_time": "2022-07-01T19:54:11.838Z"
   },
   {
    "duration": 7,
    "start_time": "2022-07-01T19:54:11.846Z"
   },
   {
    "duration": 3992,
    "start_time": "2022-07-01T19:54:11.854Z"
   },
   {
    "duration": 1585,
    "start_time": "2022-07-02T16:53:59.819Z"
   },
   {
    "duration": 2,
    "start_time": "2022-07-02T16:54:01.407Z"
   },
   {
    "duration": 551,
    "start_time": "2022-07-02T16:54:01.411Z"
   },
   {
    "duration": 14,
    "start_time": "2022-07-02T16:54:01.964Z"
   },
   {
    "duration": 17,
    "start_time": "2022-07-02T16:54:01.979Z"
   },
   {
    "duration": 1045,
    "start_time": "2022-07-02T16:54:01.997Z"
   },
   {
    "duration": 8,
    "start_time": "2022-07-02T16:54:03.044Z"
   },
   {
    "duration": 15,
    "start_time": "2022-07-02T16:54:03.054Z"
   },
   {
    "duration": 604,
    "start_time": "2022-07-02T16:54:03.071Z"
   },
   {
    "duration": 10,
    "start_time": "2022-07-02T16:54:03.678Z"
   },
   {
    "duration": 14,
    "start_time": "2022-07-02T16:54:03.690Z"
   },
   {
    "duration": 10,
    "start_time": "2022-07-02T16:54:03.706Z"
   },
   {
    "duration": 29,
    "start_time": "2022-07-02T16:54:03.718Z"
   },
   {
    "duration": 5,
    "start_time": "2022-07-02T16:54:03.748Z"
   },
   {
    "duration": 24,
    "start_time": "2022-07-02T16:54:03.754Z"
   },
   {
    "duration": 456,
    "start_time": "2022-07-02T16:54:03.779Z"
   },
   {
    "duration": 3,
    "start_time": "2022-07-02T16:54:04.236Z"
   },
   {
    "duration": 13,
    "start_time": "2022-07-02T16:54:04.329Z"
   },
   {
    "duration": 5,
    "start_time": "2022-07-02T16:54:04.343Z"
   },
   {
    "duration": 8,
    "start_time": "2022-07-02T16:54:04.351Z"
   },
   {
    "duration": 4062,
    "start_time": "2022-07-02T16:54:04.361Z"
   }
  ],
  "kernelspec": {
   "display_name": "Python 3 (ipykernel)",
   "language": "python",
   "name": "python3"
  },
  "language_info": {
   "codemirror_mode": {
    "name": "ipython",
    "version": 3
   },
   "file_extension": ".py",
   "mimetype": "text/x-python",
   "name": "python",
   "nbconvert_exporter": "python",
   "pygments_lexer": "ipython3",
   "version": "3.9.10"
  },
  "toc": {
   "base_numbering": 1,
   "nav_menu": {},
   "number_sections": true,
   "sideBar": true,
   "skip_h1_title": true,
   "title_cell": "Table of Contents",
   "title_sidebar": "Contents",
   "toc_cell": false,
   "toc_position": {},
   "toc_section_display": true,
   "toc_window_display": false
  }
 },
 "nbformat": 4,
 "nbformat_minor": 2
}
