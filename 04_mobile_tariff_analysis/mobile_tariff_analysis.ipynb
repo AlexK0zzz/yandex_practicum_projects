{
 "cells": [
  {
   "cell_type": "markdown",
   "id": "6b0c58c0",
   "metadata": {},
   "source": [
    "# Определение перспективного тарифа для телеком-компании"
   ]
  },
  {
   "cell_type": "markdown",
   "id": "1270e6d9",
   "metadata": {},
   "source": [
    "Чтобы скорректировать рекламный бюджет, коммерческому департаменту компании \"Мегалайн\" необходимо понять, какой тариф приносит больше денег. Необходимо провести предварительный анализ тарифов на небольшой выборке клиентов. На основании данных о клиентах (регион, тариф, количесвтво звонков и сообщений) за 2018 год необходимо проанализировать поведение клиентов и сделать вывод — какой тариф лучше.\n",
    "\n",
    "**Цель исследования:**\n",
    "\n",
    " 1. определить поведение клиентов оператора (уровни потребления минут разговора, сообщений, объёма интернет-трафика);\n",
    " 2. проверить гипотезы:\n",
    "  1. средняя выручка пользователей тарифов \"Ультра\" и \"Смарт\" различаются;\n",
    "  2. средняя выручка пользователей из Москвы отличается от выручки пользователей из других регионов.\n",
    " \n",
    "**Ход исследования**\n",
    "\n",
    "Входные данные - информация о пятистах пользователях: регион, тариф, сколько звонков, сообщений и интернет-трафика использовали за 2018 год. Информации о качестве данных нет, поэтому перед основным исследованием будет проведён обзор данных, а также их предобработка."
   ]
  },
  {
   "cell_type": "markdown",
   "id": "444752be",
   "metadata": {},
   "source": [
    "## Обзор данных"
   ]
  },
  {
   "cell_type": "code",
   "execution_count": 4,
   "id": "fcbe5aff",
   "metadata": {},
   "outputs": [],
   "source": [
    "# импорт необходимых библиотек\n",
    "import pandas as pd\n",
    "import numpy as np\n",
    "import matplotlib.pyplot as plt\n",
    "from scipy import stats as st"
   ]
  },
  {
   "cell_type": "markdown",
   "id": "69886e80",
   "metadata": {},
   "source": [
    "### Информация о пользователях"
   ]
  },
  {
   "cell_type": "code",
   "execution_count": 5,
   "id": "0da85044",
   "metadata": {},
   "outputs": [],
   "source": [
    "# чтение файла с данными с сохранением в users\n",
    "try:\n",
    "    users = pd.read_csv('datasets/users.csv')\n",
    "except:\n",
    "    users = pd.read_csv('/datasets/users.csv')"
   ]
  },
  {
   "cell_type": "code",
   "execution_count": 6,
   "id": "bf20262e",
   "metadata": {
    "scrolled": false
   },
   "outputs": [
    {
     "data": {
      "text/html": [
       "<div>\n",
       "<style scoped>\n",
       "    .dataframe tbody tr th:only-of-type {\n",
       "        vertical-align: middle;\n",
       "    }\n",
       "\n",
       "    .dataframe tbody tr th {\n",
       "        vertical-align: top;\n",
       "    }\n",
       "\n",
       "    .dataframe thead th {\n",
       "        text-align: right;\n",
       "    }\n",
       "</style>\n",
       "<table border=\"1\" class=\"dataframe\">\n",
       "  <thead>\n",
       "    <tr style=\"text-align: right;\">\n",
       "      <th></th>\n",
       "      <th>user_id</th>\n",
       "      <th>age</th>\n",
       "      <th>churn_date</th>\n",
       "      <th>city</th>\n",
       "      <th>first_name</th>\n",
       "      <th>last_name</th>\n",
       "      <th>reg_date</th>\n",
       "      <th>tariff</th>\n",
       "    </tr>\n",
       "  </thead>\n",
       "  <tbody>\n",
       "    <tr>\n",
       "      <th>0</th>\n",
       "      <td>1000</td>\n",
       "      <td>52</td>\n",
       "      <td>NaN</td>\n",
       "      <td>Краснодар</td>\n",
       "      <td>Рафаил</td>\n",
       "      <td>Верещагин</td>\n",
       "      <td>2018-05-25</td>\n",
       "      <td>ultra</td>\n",
       "    </tr>\n",
       "    <tr>\n",
       "      <th>1</th>\n",
       "      <td>1001</td>\n",
       "      <td>41</td>\n",
       "      <td>NaN</td>\n",
       "      <td>Москва</td>\n",
       "      <td>Иван</td>\n",
       "      <td>Ежов</td>\n",
       "      <td>2018-11-01</td>\n",
       "      <td>smart</td>\n",
       "    </tr>\n",
       "    <tr>\n",
       "      <th>2</th>\n",
       "      <td>1002</td>\n",
       "      <td>59</td>\n",
       "      <td>NaN</td>\n",
       "      <td>Стерлитамак</td>\n",
       "      <td>Евгений</td>\n",
       "      <td>Абрамович</td>\n",
       "      <td>2018-06-17</td>\n",
       "      <td>smart</td>\n",
       "    </tr>\n",
       "    <tr>\n",
       "      <th>3</th>\n",
       "      <td>1003</td>\n",
       "      <td>23</td>\n",
       "      <td>NaN</td>\n",
       "      <td>Москва</td>\n",
       "      <td>Белла</td>\n",
       "      <td>Белякова</td>\n",
       "      <td>2018-08-17</td>\n",
       "      <td>ultra</td>\n",
       "    </tr>\n",
       "    <tr>\n",
       "      <th>4</th>\n",
       "      <td>1004</td>\n",
       "      <td>68</td>\n",
       "      <td>NaN</td>\n",
       "      <td>Новокузнецк</td>\n",
       "      <td>Татьяна</td>\n",
       "      <td>Авдеенко</td>\n",
       "      <td>2018-05-14</td>\n",
       "      <td>ultra</td>\n",
       "    </tr>\n",
       "  </tbody>\n",
       "</table>\n",
       "</div>"
      ],
      "text/plain": [
       "   user_id  age churn_date         city first_name  last_name    reg_date  \\\n",
       "0     1000   52        NaN    Краснодар     Рафаил  Верещагин  2018-05-25   \n",
       "1     1001   41        NaN       Москва       Иван       Ежов  2018-11-01   \n",
       "2     1002   59        NaN  Стерлитамак    Евгений  Абрамович  2018-06-17   \n",
       "3     1003   23        NaN       Москва      Белла   Белякова  2018-08-17   \n",
       "4     1004   68        NaN  Новокузнецк    Татьяна   Авдеенко  2018-05-14   \n",
       "\n",
       "  tariff  \n",
       "0  ultra  \n",
       "1  smart  \n",
       "2  smart  \n",
       "3  ultra  \n",
       "4  ultra  "
      ]
     },
     "execution_count": 6,
     "metadata": {},
     "output_type": "execute_result"
    }
   ],
   "source": [
    "users.head()"
   ]
  },
  {
   "cell_type": "code",
   "execution_count": 7,
   "id": "c7c364bc",
   "metadata": {},
   "outputs": [
    {
     "data": {
      "text/plain": [
       "0"
      ]
     },
     "execution_count": 7,
     "metadata": {},
     "output_type": "execute_result"
    }
   ],
   "source": [
    "users.duplicated().sum()"
   ]
  },
  {
   "cell_type": "code",
   "execution_count": 8,
   "id": "c5eb1b03",
   "metadata": {
    "scrolled": true
   },
   "outputs": [
    {
     "name": "stdout",
     "output_type": "stream",
     "text": [
      "<class 'pandas.core.frame.DataFrame'>\n",
      "RangeIndex: 500 entries, 0 to 499\n",
      "Data columns (total 8 columns):\n",
      " #   Column      Non-Null Count  Dtype \n",
      "---  ------      --------------  ----- \n",
      " 0   user_id     500 non-null    int64 \n",
      " 1   age         500 non-null    int64 \n",
      " 2   churn_date  38 non-null     object\n",
      " 3   city        500 non-null    object\n",
      " 4   first_name  500 non-null    object\n",
      " 5   last_name   500 non-null    object\n",
      " 6   reg_date    500 non-null    object\n",
      " 7   tariff      500 non-null    object\n",
      "dtypes: int64(2), object(6)\n",
      "memory usage: 31.4+ KB\n"
     ]
    }
   ],
   "source": [
    "users.info()"
   ]
  },
  {
   "cell_type": "markdown",
   "id": "c9fc986e",
   "metadata": {},
   "source": [
    "Согласно документации к данным в таблице `users` представлена следующая информация:\n",
    " - `user_id` — уникальный идентификатор пользователя;\n",
    " - `first_name` — имя пользователя;\n",
    " - `last_name` — фамилия пользователя;\n",
    " - `age` — возраст пользователя (годы);\n",
    " - `reg_date` — дата подключения тарифа (день, месяц, год);\n",
    " - `churn_date` — дата прекращения пользования тарифом;\n",
    " - `city` — город проживания пользователя;\n",
    " - `tariff` — название тарифного плана.\n",
    " \n",
    "Пропущенныее значения в столбце `churn_date` говорят о том, что тариф ещё действовал на момент выгрузки данных.\n",
    "Явных дубликатов не обнаружено. "
   ]
  },
  {
   "cell_type": "markdown",
   "id": "17ee9d5b",
   "metadata": {},
   "source": [
    "### Информация о звонках"
   ]
  },
  {
   "cell_type": "code",
   "execution_count": 9,
   "id": "d0315bf8",
   "metadata": {},
   "outputs": [],
   "source": [
    "# чтение файла с данными с сохранением в calls\n",
    "try:\n",
    "    calls = pd.read_csv('datasets/calls.csv')\n",
    "except:\n",
    "    calls = pd.read_csv('/datasets/calls.csv')"
   ]
  },
  {
   "cell_type": "code",
   "execution_count": 10,
   "id": "ad97a2c8",
   "metadata": {},
   "outputs": [
    {
     "data": {
      "text/html": [
       "<div>\n",
       "<style scoped>\n",
       "    .dataframe tbody tr th:only-of-type {\n",
       "        vertical-align: middle;\n",
       "    }\n",
       "\n",
       "    .dataframe tbody tr th {\n",
       "        vertical-align: top;\n",
       "    }\n",
       "\n",
       "    .dataframe thead th {\n",
       "        text-align: right;\n",
       "    }\n",
       "</style>\n",
       "<table border=\"1\" class=\"dataframe\">\n",
       "  <thead>\n",
       "    <tr style=\"text-align: right;\">\n",
       "      <th></th>\n",
       "      <th>id</th>\n",
       "      <th>call_date</th>\n",
       "      <th>duration</th>\n",
       "      <th>user_id</th>\n",
       "    </tr>\n",
       "  </thead>\n",
       "  <tbody>\n",
       "    <tr>\n",
       "      <th>0</th>\n",
       "      <td>1000_0</td>\n",
       "      <td>2018-07-25</td>\n",
       "      <td>0.00</td>\n",
       "      <td>1000</td>\n",
       "    </tr>\n",
       "    <tr>\n",
       "      <th>1</th>\n",
       "      <td>1000_1</td>\n",
       "      <td>2018-08-17</td>\n",
       "      <td>0.00</td>\n",
       "      <td>1000</td>\n",
       "    </tr>\n",
       "    <tr>\n",
       "      <th>2</th>\n",
       "      <td>1000_2</td>\n",
       "      <td>2018-06-11</td>\n",
       "      <td>2.85</td>\n",
       "      <td>1000</td>\n",
       "    </tr>\n",
       "    <tr>\n",
       "      <th>3</th>\n",
       "      <td>1000_3</td>\n",
       "      <td>2018-09-21</td>\n",
       "      <td>13.80</td>\n",
       "      <td>1000</td>\n",
       "    </tr>\n",
       "    <tr>\n",
       "      <th>4</th>\n",
       "      <td>1000_4</td>\n",
       "      <td>2018-12-15</td>\n",
       "      <td>5.18</td>\n",
       "      <td>1000</td>\n",
       "    </tr>\n",
       "  </tbody>\n",
       "</table>\n",
       "</div>"
      ],
      "text/plain": [
       "       id   call_date  duration  user_id\n",
       "0  1000_0  2018-07-25      0.00     1000\n",
       "1  1000_1  2018-08-17      0.00     1000\n",
       "2  1000_2  2018-06-11      2.85     1000\n",
       "3  1000_3  2018-09-21     13.80     1000\n",
       "4  1000_4  2018-12-15      5.18     1000"
      ]
     },
     "execution_count": 10,
     "metadata": {},
     "output_type": "execute_result"
    }
   ],
   "source": [
    "calls.head()"
   ]
  },
  {
   "cell_type": "code",
   "execution_count": 11,
   "id": "692731ca",
   "metadata": {},
   "outputs": [
    {
     "data": {
      "text/plain": [
       "0"
      ]
     },
     "execution_count": 11,
     "metadata": {},
     "output_type": "execute_result"
    }
   ],
   "source": [
    "calls.duplicated().sum()"
   ]
  },
  {
   "cell_type": "code",
   "execution_count": 12,
   "id": "1c158d10",
   "metadata": {},
   "outputs": [
    {
     "name": "stdout",
     "output_type": "stream",
     "text": [
      "<class 'pandas.core.frame.DataFrame'>\n",
      "RangeIndex: 202607 entries, 0 to 202606\n",
      "Data columns (total 4 columns):\n",
      " #   Column     Non-Null Count   Dtype  \n",
      "---  ------     --------------   -----  \n",
      " 0   id         202607 non-null  object \n",
      " 1   call_date  202607 non-null  object \n",
      " 2   duration   202607 non-null  float64\n",
      " 3   user_id    202607 non-null  int64  \n",
      "dtypes: float64(1), int64(1), object(2)\n",
      "memory usage: 6.2+ MB\n"
     ]
    }
   ],
   "source": [
    "calls.info()"
   ]
  },
  {
   "cell_type": "markdown",
   "id": "904efbe3",
   "metadata": {},
   "source": [
    "Согласно документации к данным в таблице `calls` представлена следующая информация:\n",
    " - `id` — уникальный номер звонка;\n",
    " - `call_date` — дата звонка;\n",
    " - `duration` — длительность звонка в минутах;\n",
    " - `user_id` — идентификатор пользователя, сделавшего звонок.\n",
    " \n",
    "Пропусков нет. Нулевые значения в столбце `duration` - это пропущенные вызовы. Явных дубликатов нет."
   ]
  },
  {
   "cell_type": "markdown",
   "id": "aac61883",
   "metadata": {},
   "source": [
    "### Информация о сообщениях"
   ]
  },
  {
   "cell_type": "code",
   "execution_count": 13,
   "id": "c2e8e276",
   "metadata": {},
   "outputs": [],
   "source": [
    "# чтение файла с данными с сохранением в messages\n",
    "try:\n",
    "    messages = pd.read_csv('datasets/messages.csv')\n",
    "except:\n",
    "    messages = pd.read_csv('/datasets/messages.csv')"
   ]
  },
  {
   "cell_type": "code",
   "execution_count": 14,
   "id": "2796b1cc",
   "metadata": {},
   "outputs": [
    {
     "data": {
      "text/html": [
       "<div>\n",
       "<style scoped>\n",
       "    .dataframe tbody tr th:only-of-type {\n",
       "        vertical-align: middle;\n",
       "    }\n",
       "\n",
       "    .dataframe tbody tr th {\n",
       "        vertical-align: top;\n",
       "    }\n",
       "\n",
       "    .dataframe thead th {\n",
       "        text-align: right;\n",
       "    }\n",
       "</style>\n",
       "<table border=\"1\" class=\"dataframe\">\n",
       "  <thead>\n",
       "    <tr style=\"text-align: right;\">\n",
       "      <th></th>\n",
       "      <th>id</th>\n",
       "      <th>message_date</th>\n",
       "      <th>user_id</th>\n",
       "    </tr>\n",
       "  </thead>\n",
       "  <tbody>\n",
       "    <tr>\n",
       "      <th>0</th>\n",
       "      <td>1000_0</td>\n",
       "      <td>2018-06-27</td>\n",
       "      <td>1000</td>\n",
       "    </tr>\n",
       "    <tr>\n",
       "      <th>1</th>\n",
       "      <td>1000_1</td>\n",
       "      <td>2018-10-08</td>\n",
       "      <td>1000</td>\n",
       "    </tr>\n",
       "    <tr>\n",
       "      <th>2</th>\n",
       "      <td>1000_2</td>\n",
       "      <td>2018-08-04</td>\n",
       "      <td>1000</td>\n",
       "    </tr>\n",
       "    <tr>\n",
       "      <th>3</th>\n",
       "      <td>1000_3</td>\n",
       "      <td>2018-06-16</td>\n",
       "      <td>1000</td>\n",
       "    </tr>\n",
       "    <tr>\n",
       "      <th>4</th>\n",
       "      <td>1000_4</td>\n",
       "      <td>2018-12-05</td>\n",
       "      <td>1000</td>\n",
       "    </tr>\n",
       "  </tbody>\n",
       "</table>\n",
       "</div>"
      ],
      "text/plain": [
       "       id message_date  user_id\n",
       "0  1000_0   2018-06-27     1000\n",
       "1  1000_1   2018-10-08     1000\n",
       "2  1000_2   2018-08-04     1000\n",
       "3  1000_3   2018-06-16     1000\n",
       "4  1000_4   2018-12-05     1000"
      ]
     },
     "execution_count": 14,
     "metadata": {},
     "output_type": "execute_result"
    }
   ],
   "source": [
    "messages.head()"
   ]
  },
  {
   "cell_type": "code",
   "execution_count": 15,
   "id": "357d58b1",
   "metadata": {},
   "outputs": [
    {
     "data": {
      "text/plain": [
       "0"
      ]
     },
     "execution_count": 15,
     "metadata": {},
     "output_type": "execute_result"
    }
   ],
   "source": [
    "messages.duplicated().sum()"
   ]
  },
  {
   "cell_type": "code",
   "execution_count": 16,
   "id": "8121e70f",
   "metadata": {},
   "outputs": [
    {
     "name": "stdout",
     "output_type": "stream",
     "text": [
      "<class 'pandas.core.frame.DataFrame'>\n",
      "RangeIndex: 123036 entries, 0 to 123035\n",
      "Data columns (total 3 columns):\n",
      " #   Column        Non-Null Count   Dtype \n",
      "---  ------        --------------   ----- \n",
      " 0   id            123036 non-null  object\n",
      " 1   message_date  123036 non-null  object\n",
      " 2   user_id       123036 non-null  int64 \n",
      "dtypes: int64(1), object(2)\n",
      "memory usage: 2.8+ MB\n"
     ]
    }
   ],
   "source": [
    "messages.info()"
   ]
  },
  {
   "cell_type": "markdown",
   "id": "79cb39d7",
   "metadata": {},
   "source": [
    "Согласно документации к данным в таблице `messages` представлена следующая информация:\n",
    " - `id` — уникальный номер сообщения;\n",
    " - `message_date` — дата сообщения;\n",
    " - `user_id` — идентификатор пользователя, отправившего сообщение.\n",
    "\n",
    "Пропусков и явных дубликатов не обнаружено."
   ]
  },
  {
   "cell_type": "markdown",
   "id": "88326a28",
   "metadata": {},
   "source": [
    "### Информация об интернет-сессиях"
   ]
  },
  {
   "cell_type": "code",
   "execution_count": 17,
   "id": "e147d353",
   "metadata": {},
   "outputs": [],
   "source": [
    "# чтение файла с данными с сохранением в internet\n",
    "try:\n",
    "    internet = pd.read_csv('datasets/internet.csv')\n",
    "except:\n",
    "    internet = pd.read_csv('/datasets/internet.csv')"
   ]
  },
  {
   "cell_type": "code",
   "execution_count": 18,
   "id": "26848faa",
   "metadata": {},
   "outputs": [
    {
     "data": {
      "text/html": [
       "<div>\n",
       "<style scoped>\n",
       "    .dataframe tbody tr th:only-of-type {\n",
       "        vertical-align: middle;\n",
       "    }\n",
       "\n",
       "    .dataframe tbody tr th {\n",
       "        vertical-align: top;\n",
       "    }\n",
       "\n",
       "    .dataframe thead th {\n",
       "        text-align: right;\n",
       "    }\n",
       "</style>\n",
       "<table border=\"1\" class=\"dataframe\">\n",
       "  <thead>\n",
       "    <tr style=\"text-align: right;\">\n",
       "      <th></th>\n",
       "      <th>Unnamed: 0</th>\n",
       "      <th>id</th>\n",
       "      <th>mb_used</th>\n",
       "      <th>session_date</th>\n",
       "      <th>user_id</th>\n",
       "    </tr>\n",
       "  </thead>\n",
       "  <tbody>\n",
       "    <tr>\n",
       "      <th>0</th>\n",
       "      <td>0</td>\n",
       "      <td>1000_0</td>\n",
       "      <td>112.95</td>\n",
       "      <td>2018-11-25</td>\n",
       "      <td>1000</td>\n",
       "    </tr>\n",
       "    <tr>\n",
       "      <th>1</th>\n",
       "      <td>1</td>\n",
       "      <td>1000_1</td>\n",
       "      <td>1052.81</td>\n",
       "      <td>2018-09-07</td>\n",
       "      <td>1000</td>\n",
       "    </tr>\n",
       "    <tr>\n",
       "      <th>2</th>\n",
       "      <td>2</td>\n",
       "      <td>1000_2</td>\n",
       "      <td>1197.26</td>\n",
       "      <td>2018-06-25</td>\n",
       "      <td>1000</td>\n",
       "    </tr>\n",
       "    <tr>\n",
       "      <th>3</th>\n",
       "      <td>3</td>\n",
       "      <td>1000_3</td>\n",
       "      <td>550.27</td>\n",
       "      <td>2018-08-22</td>\n",
       "      <td>1000</td>\n",
       "    </tr>\n",
       "    <tr>\n",
       "      <th>4</th>\n",
       "      <td>4</td>\n",
       "      <td>1000_4</td>\n",
       "      <td>302.56</td>\n",
       "      <td>2018-09-24</td>\n",
       "      <td>1000</td>\n",
       "    </tr>\n",
       "  </tbody>\n",
       "</table>\n",
       "</div>"
      ],
      "text/plain": [
       "   Unnamed: 0      id  mb_used session_date  user_id\n",
       "0           0  1000_0   112.95   2018-11-25     1000\n",
       "1           1  1000_1  1052.81   2018-09-07     1000\n",
       "2           2  1000_2  1197.26   2018-06-25     1000\n",
       "3           3  1000_3   550.27   2018-08-22     1000\n",
       "4           4  1000_4   302.56   2018-09-24     1000"
      ]
     },
     "execution_count": 18,
     "metadata": {},
     "output_type": "execute_result"
    }
   ],
   "source": [
    "internet.head()"
   ]
  },
  {
   "cell_type": "code",
   "execution_count": 19,
   "id": "120acc3b",
   "metadata": {},
   "outputs": [
    {
     "data": {
      "text/plain": [
       "0"
      ]
     },
     "execution_count": 19,
     "metadata": {},
     "output_type": "execute_result"
    }
   ],
   "source": [
    "internet.duplicated().sum()"
   ]
  },
  {
   "cell_type": "code",
   "execution_count": 20,
   "id": "03da6fe1",
   "metadata": {},
   "outputs": [
    {
     "name": "stdout",
     "output_type": "stream",
     "text": [
      "<class 'pandas.core.frame.DataFrame'>\n",
      "RangeIndex: 149396 entries, 0 to 149395\n",
      "Data columns (total 5 columns):\n",
      " #   Column        Non-Null Count   Dtype  \n",
      "---  ------        --------------   -----  \n",
      " 0   Unnamed: 0    149396 non-null  int64  \n",
      " 1   id            149396 non-null  object \n",
      " 2   mb_used       149396 non-null  float64\n",
      " 3   session_date  149396 non-null  object \n",
      " 4   user_id       149396 non-null  int64  \n",
      "dtypes: float64(1), int64(2), object(2)\n",
      "memory usage: 5.7+ MB\n"
     ]
    }
   ],
   "source": [
    "internet.info()"
   ]
  },
  {
   "cell_type": "markdown",
   "id": "a8b4390b",
   "metadata": {},
   "source": [
    "Согласно документации к данным в таблице `internet` представлена следующая информация:\n",
    " - `id` — уникальный номер сессии;\n",
    " - `mb_used` — объём потраченного за сессию интернет-трафика (в мегабайтах);\n",
    " - `session_date` — дата интернет-сессии;\n",
    " - `user_id` — идентификатор пользователя.\n",
    " \n",
    " \n",
    "Пропусков и дубликатов нет."
   ]
  },
  {
   "cell_type": "markdown",
   "id": "d9d88ff0",
   "metadata": {},
   "source": [
    "### Информация о тарифах"
   ]
  },
  {
   "cell_type": "code",
   "execution_count": 21,
   "id": "8613a4d8",
   "metadata": {},
   "outputs": [],
   "source": [
    "# чтение файла с данными с сохранением в tariffs\n",
    "try:\n",
    "    tariffs = pd.read_csv('datasets/tariffs.csv')\n",
    "except:\n",
    "    tariffs = pd.read_csv('/datasets/tariffs.csv')"
   ]
  },
  {
   "cell_type": "code",
   "execution_count": 22,
   "id": "997beac7",
   "metadata": {
    "scrolled": true
   },
   "outputs": [
    {
     "data": {
      "text/html": [
       "<div>\n",
       "<style scoped>\n",
       "    .dataframe tbody tr th:only-of-type {\n",
       "        vertical-align: middle;\n",
       "    }\n",
       "\n",
       "    .dataframe tbody tr th {\n",
       "        vertical-align: top;\n",
       "    }\n",
       "\n",
       "    .dataframe thead th {\n",
       "        text-align: right;\n",
       "    }\n",
       "</style>\n",
       "<table border=\"1\" class=\"dataframe\">\n",
       "  <thead>\n",
       "    <tr style=\"text-align: right;\">\n",
       "      <th></th>\n",
       "      <th>messages_included</th>\n",
       "      <th>mb_per_month_included</th>\n",
       "      <th>minutes_included</th>\n",
       "      <th>rub_monthly_fee</th>\n",
       "      <th>rub_per_gb</th>\n",
       "      <th>rub_per_message</th>\n",
       "      <th>rub_per_minute</th>\n",
       "      <th>tariff_name</th>\n",
       "    </tr>\n",
       "  </thead>\n",
       "  <tbody>\n",
       "    <tr>\n",
       "      <th>0</th>\n",
       "      <td>50</td>\n",
       "      <td>15360</td>\n",
       "      <td>500</td>\n",
       "      <td>550</td>\n",
       "      <td>200</td>\n",
       "      <td>3</td>\n",
       "      <td>3</td>\n",
       "      <td>smart</td>\n",
       "    </tr>\n",
       "    <tr>\n",
       "      <th>1</th>\n",
       "      <td>1000</td>\n",
       "      <td>30720</td>\n",
       "      <td>3000</td>\n",
       "      <td>1950</td>\n",
       "      <td>150</td>\n",
       "      <td>1</td>\n",
       "      <td>1</td>\n",
       "      <td>ultra</td>\n",
       "    </tr>\n",
       "  </tbody>\n",
       "</table>\n",
       "</div>"
      ],
      "text/plain": [
       "   messages_included  mb_per_month_included  minutes_included  \\\n",
       "0                 50                  15360               500   \n",
       "1               1000                  30720              3000   \n",
       "\n",
       "   rub_monthly_fee  rub_per_gb  rub_per_message  rub_per_minute tariff_name  \n",
       "0              550         200                3               3       smart  \n",
       "1             1950         150                1               1       ultra  "
      ]
     },
     "execution_count": 22,
     "metadata": {},
     "output_type": "execute_result"
    }
   ],
   "source": [
    "tariffs.head()"
   ]
  },
  {
   "cell_type": "code",
   "execution_count": 23,
   "id": "9ee728e0",
   "metadata": {},
   "outputs": [
    {
     "name": "stdout",
     "output_type": "stream",
     "text": [
      "<class 'pandas.core.frame.DataFrame'>\n",
      "RangeIndex: 2 entries, 0 to 1\n",
      "Data columns (total 8 columns):\n",
      " #   Column                 Non-Null Count  Dtype \n",
      "---  ------                 --------------  ----- \n",
      " 0   messages_included      2 non-null      int64 \n",
      " 1   mb_per_month_included  2 non-null      int64 \n",
      " 2   minutes_included       2 non-null      int64 \n",
      " 3   rub_monthly_fee        2 non-null      int64 \n",
      " 4   rub_per_gb             2 non-null      int64 \n",
      " 5   rub_per_message        2 non-null      int64 \n",
      " 6   rub_per_minute         2 non-null      int64 \n",
      " 7   tariff_name            2 non-null      object\n",
      "dtypes: int64(7), object(1)\n",
      "memory usage: 256.0+ bytes\n"
     ]
    }
   ],
   "source": [
    "tariffs.info()"
   ]
  },
  {
   "cell_type": "markdown",
   "id": "8ecbe918",
   "metadata": {},
   "source": [
    "Согласно документации к данным в таблице `tariffs` представлена следующая информация:\n",
    " - `tariff_name` — название тарифа;\n",
    " - `rub_monthly_fee` — ежемесячная абонентская плата в рублях;\n",
    " - `minutes_included` — количество минут разговора в месяц, включённых в абонентскую плату;\n",
    " - `messages_included` — количество сообщений в месяц, включённых в абонентскую плату;\n",
    " - `mb_per_month_included` — объём интернет-трафика, включённого в абонентскую плату (в мегабайтах);\n",
    " - `rub_per_minute` — стоимость минуты разговора сверх тарифного пакета;\n",
    " - `rub_per_message` — стоимость отправки сообщения сверх тарифного пакета;\n",
    " - `rub_per_gb` — стоимость дополнительного гигабайта интернет-трафика сверх тарифного пакета.\n",
    " \n",
    "Также известно, что секунды округляются до минут, а мегабайты - до гигабайт. Каждый звонок округляется отдельно. Для веб-трафика отдельные сессии не считаются - округляется (в бОльшую сторону) общая сумма за месяц."
   ]
  },
  {
   "cell_type": "markdown",
   "id": "4bd69a4a",
   "metadata": {},
   "source": [
    "## Предобработка"
   ]
  },
  {
   "cell_type": "markdown",
   "id": "b5d11802",
   "metadata": {},
   "source": [
    "В таблице `internet` обнаружен лишний безымянный столбец (дублирование индексов строк). Удалим его."
   ]
  },
  {
   "cell_type": "code",
   "execution_count": 24,
   "id": "c43f9bc6",
   "metadata": {},
   "outputs": [
    {
     "name": "stdout",
     "output_type": "stream",
     "text": [
      "<class 'pandas.core.frame.DataFrame'>\n",
      "RangeIndex: 149396 entries, 0 to 149395\n",
      "Data columns (total 4 columns):\n",
      " #   Column        Non-Null Count   Dtype  \n",
      "---  ------        --------------   -----  \n",
      " 0   id            149396 non-null  object \n",
      " 1   mb_used       149396 non-null  float64\n",
      " 2   session_date  149396 non-null  object \n",
      " 3   user_id       149396 non-null  int64  \n",
      "dtypes: float64(1), int64(1), object(2)\n",
      "memory usage: 4.6+ MB\n"
     ]
    }
   ],
   "source": [
    "internet.drop(columns='Unnamed: 0', inplace=True)\n",
    "internet.info()"
   ]
  },
  {
   "cell_type": "markdown",
   "id": "9cc90d1f",
   "metadata": {},
   "source": [
    "Округлим продолжительность звонков в таблице `calls` до минут (в бОльшую сторону)."
   ]
  },
  {
   "cell_type": "code",
   "execution_count": 25,
   "id": "5e87fa16",
   "metadata": {},
   "outputs": [
    {
     "data": {
      "text/html": [
       "<div>\n",
       "<style scoped>\n",
       "    .dataframe tbody tr th:only-of-type {\n",
       "        vertical-align: middle;\n",
       "    }\n",
       "\n",
       "    .dataframe tbody tr th {\n",
       "        vertical-align: top;\n",
       "    }\n",
       "\n",
       "    .dataframe thead th {\n",
       "        text-align: right;\n",
       "    }\n",
       "</style>\n",
       "<table border=\"1\" class=\"dataframe\">\n",
       "  <thead>\n",
       "    <tr style=\"text-align: right;\">\n",
       "      <th></th>\n",
       "      <th>id</th>\n",
       "      <th>call_date</th>\n",
       "      <th>duration</th>\n",
       "      <th>user_id</th>\n",
       "    </tr>\n",
       "  </thead>\n",
       "  <tbody>\n",
       "    <tr>\n",
       "      <th>0</th>\n",
       "      <td>1000_0</td>\n",
       "      <td>2018-07-25</td>\n",
       "      <td>0</td>\n",
       "      <td>1000</td>\n",
       "    </tr>\n",
       "    <tr>\n",
       "      <th>1</th>\n",
       "      <td>1000_1</td>\n",
       "      <td>2018-08-17</td>\n",
       "      <td>0</td>\n",
       "      <td>1000</td>\n",
       "    </tr>\n",
       "    <tr>\n",
       "      <th>2</th>\n",
       "      <td>1000_2</td>\n",
       "      <td>2018-06-11</td>\n",
       "      <td>3</td>\n",
       "      <td>1000</td>\n",
       "    </tr>\n",
       "    <tr>\n",
       "      <th>3</th>\n",
       "      <td>1000_3</td>\n",
       "      <td>2018-09-21</td>\n",
       "      <td>14</td>\n",
       "      <td>1000</td>\n",
       "    </tr>\n",
       "    <tr>\n",
       "      <th>4</th>\n",
       "      <td>1000_4</td>\n",
       "      <td>2018-12-15</td>\n",
       "      <td>6</td>\n",
       "      <td>1000</td>\n",
       "    </tr>\n",
       "  </tbody>\n",
       "</table>\n",
       "</div>"
      ],
      "text/plain": [
       "       id   call_date  duration  user_id\n",
       "0  1000_0  2018-07-25         0     1000\n",
       "1  1000_1  2018-08-17         0     1000\n",
       "2  1000_2  2018-06-11         3     1000\n",
       "3  1000_3  2018-09-21        14     1000\n",
       "4  1000_4  2018-12-15         6     1000"
      ]
     },
     "execution_count": 25,
     "metadata": {},
     "output_type": "execute_result"
    }
   ],
   "source": [
    "calls['duration'] = np.ceil(calls['duration']).astype('int32')\n",
    "calls.head()"
   ]
  },
  {
   "cell_type": "markdown",
   "id": "c6b8665d",
   "metadata": {},
   "source": [
    "Добавим в таблицы `calls`, `messages` и `internet` информацию о месяце."
   ]
  },
  {
   "cell_type": "code",
   "execution_count": 26,
   "id": "63d71f11",
   "metadata": {},
   "outputs": [
    {
     "data": {
      "text/html": [
       "<div>\n",
       "<style scoped>\n",
       "    .dataframe tbody tr th:only-of-type {\n",
       "        vertical-align: middle;\n",
       "    }\n",
       "\n",
       "    .dataframe tbody tr th {\n",
       "        vertical-align: top;\n",
       "    }\n",
       "\n",
       "    .dataframe thead th {\n",
       "        text-align: right;\n",
       "    }\n",
       "</style>\n",
       "<table border=\"1\" class=\"dataframe\">\n",
       "  <thead>\n",
       "    <tr style=\"text-align: right;\">\n",
       "      <th></th>\n",
       "      <th>id</th>\n",
       "      <th>call_date</th>\n",
       "      <th>duration</th>\n",
       "      <th>user_id</th>\n",
       "      <th>month</th>\n",
       "    </tr>\n",
       "  </thead>\n",
       "  <tbody>\n",
       "    <tr>\n",
       "      <th>0</th>\n",
       "      <td>1000_0</td>\n",
       "      <td>2018-07-25</td>\n",
       "      <td>0</td>\n",
       "      <td>1000</td>\n",
       "      <td>7</td>\n",
       "    </tr>\n",
       "    <tr>\n",
       "      <th>1</th>\n",
       "      <td>1000_1</td>\n",
       "      <td>2018-08-17</td>\n",
       "      <td>0</td>\n",
       "      <td>1000</td>\n",
       "      <td>8</td>\n",
       "    </tr>\n",
       "    <tr>\n",
       "      <th>2</th>\n",
       "      <td>1000_2</td>\n",
       "      <td>2018-06-11</td>\n",
       "      <td>3</td>\n",
       "      <td>1000</td>\n",
       "      <td>6</td>\n",
       "    </tr>\n",
       "    <tr>\n",
       "      <th>3</th>\n",
       "      <td>1000_3</td>\n",
       "      <td>2018-09-21</td>\n",
       "      <td>14</td>\n",
       "      <td>1000</td>\n",
       "      <td>9</td>\n",
       "    </tr>\n",
       "    <tr>\n",
       "      <th>4</th>\n",
       "      <td>1000_4</td>\n",
       "      <td>2018-12-15</td>\n",
       "      <td>6</td>\n",
       "      <td>1000</td>\n",
       "      <td>12</td>\n",
       "    </tr>\n",
       "  </tbody>\n",
       "</table>\n",
       "</div>"
      ],
      "text/plain": [
       "       id   call_date  duration  user_id  month\n",
       "0  1000_0  2018-07-25         0     1000      7\n",
       "1  1000_1  2018-08-17         0     1000      8\n",
       "2  1000_2  2018-06-11         3     1000      6\n",
       "3  1000_3  2018-09-21        14     1000      9\n",
       "4  1000_4  2018-12-15         6     1000     12"
      ]
     },
     "metadata": {},
     "output_type": "display_data"
    },
    {
     "data": {
      "text/html": [
       "<div>\n",
       "<style scoped>\n",
       "    .dataframe tbody tr th:only-of-type {\n",
       "        vertical-align: middle;\n",
       "    }\n",
       "\n",
       "    .dataframe tbody tr th {\n",
       "        vertical-align: top;\n",
       "    }\n",
       "\n",
       "    .dataframe thead th {\n",
       "        text-align: right;\n",
       "    }\n",
       "</style>\n",
       "<table border=\"1\" class=\"dataframe\">\n",
       "  <thead>\n",
       "    <tr style=\"text-align: right;\">\n",
       "      <th></th>\n",
       "      <th>id</th>\n",
       "      <th>message_date</th>\n",
       "      <th>user_id</th>\n",
       "      <th>month</th>\n",
       "    </tr>\n",
       "  </thead>\n",
       "  <tbody>\n",
       "    <tr>\n",
       "      <th>0</th>\n",
       "      <td>1000_0</td>\n",
       "      <td>2018-06-27</td>\n",
       "      <td>1000</td>\n",
       "      <td>6</td>\n",
       "    </tr>\n",
       "    <tr>\n",
       "      <th>1</th>\n",
       "      <td>1000_1</td>\n",
       "      <td>2018-10-08</td>\n",
       "      <td>1000</td>\n",
       "      <td>10</td>\n",
       "    </tr>\n",
       "    <tr>\n",
       "      <th>2</th>\n",
       "      <td>1000_2</td>\n",
       "      <td>2018-08-04</td>\n",
       "      <td>1000</td>\n",
       "      <td>8</td>\n",
       "    </tr>\n",
       "    <tr>\n",
       "      <th>3</th>\n",
       "      <td>1000_3</td>\n",
       "      <td>2018-06-16</td>\n",
       "      <td>1000</td>\n",
       "      <td>6</td>\n",
       "    </tr>\n",
       "    <tr>\n",
       "      <th>4</th>\n",
       "      <td>1000_4</td>\n",
       "      <td>2018-12-05</td>\n",
       "      <td>1000</td>\n",
       "      <td>12</td>\n",
       "    </tr>\n",
       "  </tbody>\n",
       "</table>\n",
       "</div>"
      ],
      "text/plain": [
       "       id message_date  user_id  month\n",
       "0  1000_0   2018-06-27     1000      6\n",
       "1  1000_1   2018-10-08     1000     10\n",
       "2  1000_2   2018-08-04     1000      8\n",
       "3  1000_3   2018-06-16     1000      6\n",
       "4  1000_4   2018-12-05     1000     12"
      ]
     },
     "metadata": {},
     "output_type": "display_data"
    },
    {
     "data": {
      "text/html": [
       "<div>\n",
       "<style scoped>\n",
       "    .dataframe tbody tr th:only-of-type {\n",
       "        vertical-align: middle;\n",
       "    }\n",
       "\n",
       "    .dataframe tbody tr th {\n",
       "        vertical-align: top;\n",
       "    }\n",
       "\n",
       "    .dataframe thead th {\n",
       "        text-align: right;\n",
       "    }\n",
       "</style>\n",
       "<table border=\"1\" class=\"dataframe\">\n",
       "  <thead>\n",
       "    <tr style=\"text-align: right;\">\n",
       "      <th></th>\n",
       "      <th>id</th>\n",
       "      <th>mb_used</th>\n",
       "      <th>session_date</th>\n",
       "      <th>user_id</th>\n",
       "      <th>month</th>\n",
       "    </tr>\n",
       "  </thead>\n",
       "  <tbody>\n",
       "    <tr>\n",
       "      <th>0</th>\n",
       "      <td>1000_0</td>\n",
       "      <td>112.95</td>\n",
       "      <td>2018-11-25</td>\n",
       "      <td>1000</td>\n",
       "      <td>11</td>\n",
       "    </tr>\n",
       "    <tr>\n",
       "      <th>1</th>\n",
       "      <td>1000_1</td>\n",
       "      <td>1052.81</td>\n",
       "      <td>2018-09-07</td>\n",
       "      <td>1000</td>\n",
       "      <td>9</td>\n",
       "    </tr>\n",
       "    <tr>\n",
       "      <th>2</th>\n",
       "      <td>1000_2</td>\n",
       "      <td>1197.26</td>\n",
       "      <td>2018-06-25</td>\n",
       "      <td>1000</td>\n",
       "      <td>6</td>\n",
       "    </tr>\n",
       "    <tr>\n",
       "      <th>3</th>\n",
       "      <td>1000_3</td>\n",
       "      <td>550.27</td>\n",
       "      <td>2018-08-22</td>\n",
       "      <td>1000</td>\n",
       "      <td>8</td>\n",
       "    </tr>\n",
       "    <tr>\n",
       "      <th>4</th>\n",
       "      <td>1000_4</td>\n",
       "      <td>302.56</td>\n",
       "      <td>2018-09-24</td>\n",
       "      <td>1000</td>\n",
       "      <td>9</td>\n",
       "    </tr>\n",
       "  </tbody>\n",
       "</table>\n",
       "</div>"
      ],
      "text/plain": [
       "       id  mb_used session_date  user_id  month\n",
       "0  1000_0   112.95   2018-11-25     1000     11\n",
       "1  1000_1  1052.81   2018-09-07     1000      9\n",
       "2  1000_2  1197.26   2018-06-25     1000      6\n",
       "3  1000_3   550.27   2018-08-22     1000      8\n",
       "4  1000_4   302.56   2018-09-24     1000      9"
      ]
     },
     "metadata": {},
     "output_type": "display_data"
    }
   ],
   "source": [
    "calls['month'] = calls['call_date'].astype('datetime64').dt.month\n",
    "messages['month'] = messages['message_date'].astype('datetime64').dt.month\n",
    "internet['month'] = internet['session_date'].astype('datetime64').dt.month\n",
    "\n",
    "display(calls.head())\n",
    "display(messages.head())\n",
    "display(internet.head())"
   ]
  },
  {
   "cell_type": "markdown",
   "id": "dd9f94d5",
   "metadata": {},
   "source": [
    "Также проверим таблицы на наличие явных дубликатов."
   ]
  },
  {
   "cell_type": "markdown",
   "id": "06e2f9ff",
   "metadata": {},
   "source": [
    "## Составление сводной таблицы для анализа"
   ]
  },
  {
   "cell_type": "markdown",
   "id": "cc438d9d",
   "metadata": {},
   "source": [
    "Сейчас у нас есть много разрозненных таблиц. Для удобства соберём необходимую нам информацию из них в единую таблицу.\n",
    "\n",
    "Для каждого пользователя по месяцам нужна информация о количестве звонков и израсходованных минут разговора, количестве сообщений, израсходованном интернет-трафике."
   ]
  },
  {
   "cell_type": "code",
   "execution_count": 27,
   "id": "5f5cefce",
   "metadata": {},
   "outputs": [
    {
     "data": {
      "text/html": [
       "<div>\n",
       "<style scoped>\n",
       "    .dataframe tbody tr th:only-of-type {\n",
       "        vertical-align: middle;\n",
       "    }\n",
       "\n",
       "    .dataframe tbody tr th {\n",
       "        vertical-align: top;\n",
       "    }\n",
       "\n",
       "    .dataframe thead th {\n",
       "        text-align: right;\n",
       "    }\n",
       "</style>\n",
       "<table border=\"1\" class=\"dataframe\">\n",
       "  <thead>\n",
       "    <tr style=\"text-align: right;\">\n",
       "      <th></th>\n",
       "      <th></th>\n",
       "      <th></th>\n",
       "      <th></th>\n",
       "      <th>calls_count</th>\n",
       "      <th>calls_duration</th>\n",
       "      <th>messages</th>\n",
       "      <th>mb_used</th>\n",
       "    </tr>\n",
       "    <tr>\n",
       "      <th>user_id</th>\n",
       "      <th>tariff</th>\n",
       "      <th>city</th>\n",
       "      <th>month</th>\n",
       "      <th></th>\n",
       "      <th></th>\n",
       "      <th></th>\n",
       "      <th></th>\n",
       "    </tr>\n",
       "  </thead>\n",
       "  <tbody>\n",
       "    <tr>\n",
       "      <th rowspan=\"8\" valign=\"top\">1000</th>\n",
       "      <th rowspan=\"8\" valign=\"top\">ultra</th>\n",
       "      <th rowspan=\"8\" valign=\"top\">Краснодар</th>\n",
       "      <th>5</th>\n",
       "      <td>22.0</td>\n",
       "      <td>159.0</td>\n",
       "      <td>22.0</td>\n",
       "      <td>2253.49</td>\n",
       "    </tr>\n",
       "    <tr>\n",
       "      <th>6</th>\n",
       "      <td>43.0</td>\n",
       "      <td>172.0</td>\n",
       "      <td>60.0</td>\n",
       "      <td>23233.77</td>\n",
       "    </tr>\n",
       "    <tr>\n",
       "      <th>7</th>\n",
       "      <td>47.0</td>\n",
       "      <td>340.0</td>\n",
       "      <td>75.0</td>\n",
       "      <td>14003.64</td>\n",
       "    </tr>\n",
       "    <tr>\n",
       "      <th>8</th>\n",
       "      <td>52.0</td>\n",
       "      <td>408.0</td>\n",
       "      <td>81.0</td>\n",
       "      <td>14055.93</td>\n",
       "    </tr>\n",
       "    <tr>\n",
       "      <th>9</th>\n",
       "      <td>58.0</td>\n",
       "      <td>466.0</td>\n",
       "      <td>57.0</td>\n",
       "      <td>14568.91</td>\n",
       "    </tr>\n",
       "    <tr>\n",
       "      <th>10</th>\n",
       "      <td>57.0</td>\n",
       "      <td>350.0</td>\n",
       "      <td>73.0</td>\n",
       "      <td>14702.49</td>\n",
       "    </tr>\n",
       "    <tr>\n",
       "      <th>11</th>\n",
       "      <td>43.0</td>\n",
       "      <td>338.0</td>\n",
       "      <td>58.0</td>\n",
       "      <td>14756.47</td>\n",
       "    </tr>\n",
       "    <tr>\n",
       "      <th>12</th>\n",
       "      <td>46.0</td>\n",
       "      <td>333.0</td>\n",
       "      <td>70.0</td>\n",
       "      <td>9817.61</td>\n",
       "    </tr>\n",
       "    <tr>\n",
       "      <th rowspan=\"2\" valign=\"top\">1001</th>\n",
       "      <th rowspan=\"2\" valign=\"top\">smart</th>\n",
       "      <th rowspan=\"2\" valign=\"top\">Москва</th>\n",
       "      <th>11</th>\n",
       "      <td>59.0</td>\n",
       "      <td>430.0</td>\n",
       "      <td>NaN</td>\n",
       "      <td>18429.34</td>\n",
       "    </tr>\n",
       "    <tr>\n",
       "      <th>12</th>\n",
       "      <td>63.0</td>\n",
       "      <td>414.0</td>\n",
       "      <td>NaN</td>\n",
       "      <td>14036.66</td>\n",
       "    </tr>\n",
       "    <tr>\n",
       "      <th rowspan=\"7\" valign=\"top\">1002</th>\n",
       "      <th rowspan=\"7\" valign=\"top\">smart</th>\n",
       "      <th rowspan=\"7\" valign=\"top\">Стерлитамак</th>\n",
       "      <th>6</th>\n",
       "      <td>15.0</td>\n",
       "      <td>117.0</td>\n",
       "      <td>4.0</td>\n",
       "      <td>10856.82</td>\n",
       "    </tr>\n",
       "    <tr>\n",
       "      <th>7</th>\n",
       "      <td>26.0</td>\n",
       "      <td>214.0</td>\n",
       "      <td>11.0</td>\n",
       "      <td>17580.10</td>\n",
       "    </tr>\n",
       "    <tr>\n",
       "      <th>8</th>\n",
       "      <td>42.0</td>\n",
       "      <td>289.0</td>\n",
       "      <td>13.0</td>\n",
       "      <td>20319.26</td>\n",
       "    </tr>\n",
       "    <tr>\n",
       "      <th>9</th>\n",
       "      <td>36.0</td>\n",
       "      <td>206.0</td>\n",
       "      <td>4.0</td>\n",
       "      <td>16691.08</td>\n",
       "    </tr>\n",
       "    <tr>\n",
       "      <th>10</th>\n",
       "      <td>33.0</td>\n",
       "      <td>212.0</td>\n",
       "      <td>10.0</td>\n",
       "      <td>13888.25</td>\n",
       "    </tr>\n",
       "    <tr>\n",
       "      <th>11</th>\n",
       "      <td>32.0</td>\n",
       "      <td>243.0</td>\n",
       "      <td>16.0</td>\n",
       "      <td>18587.28</td>\n",
       "    </tr>\n",
       "    <tr>\n",
       "      <th>12</th>\n",
       "      <td>33.0</td>\n",
       "      <td>236.0</td>\n",
       "      <td>12.0</td>\n",
       "      <td>18113.73</td>\n",
       "    </tr>\n",
       "    <tr>\n",
       "      <th rowspan=\"3\" valign=\"top\">1003</th>\n",
       "      <th rowspan=\"3\" valign=\"top\">ultra</th>\n",
       "      <th rowspan=\"3\" valign=\"top\">Москва</th>\n",
       "      <th>8</th>\n",
       "      <td>55.0</td>\n",
       "      <td>380.0</td>\n",
       "      <td>37.0</td>\n",
       "      <td>8565.21</td>\n",
       "    </tr>\n",
       "    <tr>\n",
       "      <th>9</th>\n",
       "      <td>134.0</td>\n",
       "      <td>961.0</td>\n",
       "      <td>91.0</td>\n",
       "      <td>12468.87</td>\n",
       "    </tr>\n",
       "    <tr>\n",
       "      <th>10</th>\n",
       "      <td>108.0</td>\n",
       "      <td>855.0</td>\n",
       "      <td>83.0</td>\n",
       "      <td>14768.14</td>\n",
       "    </tr>\n",
       "  </tbody>\n",
       "</table>\n",
       "</div>"
      ],
      "text/plain": [
       "                                  calls_count  calls_duration  messages  \\\n",
       "user_id tariff city        month                                          \n",
       "1000    ultra  Краснодар   5             22.0           159.0      22.0   \n",
       "                           6             43.0           172.0      60.0   \n",
       "                           7             47.0           340.0      75.0   \n",
       "                           8             52.0           408.0      81.0   \n",
       "                           9             58.0           466.0      57.0   \n",
       "                           10            57.0           350.0      73.0   \n",
       "                           11            43.0           338.0      58.0   \n",
       "                           12            46.0           333.0      70.0   \n",
       "1001    smart  Москва      11            59.0           430.0       NaN   \n",
       "                           12            63.0           414.0       NaN   \n",
       "1002    smart  Стерлитамак 6             15.0           117.0       4.0   \n",
       "                           7             26.0           214.0      11.0   \n",
       "                           8             42.0           289.0      13.0   \n",
       "                           9             36.0           206.0       4.0   \n",
       "                           10            33.0           212.0      10.0   \n",
       "                           11            32.0           243.0      16.0   \n",
       "                           12            33.0           236.0      12.0   \n",
       "1003    ultra  Москва      8             55.0           380.0      37.0   \n",
       "                           9            134.0           961.0      91.0   \n",
       "                           10           108.0           855.0      83.0   \n",
       "\n",
       "                                   mb_used  \n",
       "user_id tariff city        month            \n",
       "1000    ultra  Краснодар   5       2253.49  \n",
       "                           6      23233.77  \n",
       "                           7      14003.64  \n",
       "                           8      14055.93  \n",
       "                           9      14568.91  \n",
       "                           10     14702.49  \n",
       "                           11     14756.47  \n",
       "                           12      9817.61  \n",
       "1001    smart  Москва      11     18429.34  \n",
       "                           12     14036.66  \n",
       "1002    smart  Стерлитамак 6      10856.82  \n",
       "                           7      17580.10  \n",
       "                           8      20319.26  \n",
       "                           9      16691.08  \n",
       "                           10     13888.25  \n",
       "                           11     18587.28  \n",
       "                           12     18113.73  \n",
       "1003    ultra  Москва      8       8565.21  \n",
       "                           9      12468.87  \n",
       "                           10     14768.14  "
      ]
     },
     "execution_count": 27,
     "metadata": {},
     "output_type": "execute_result"
    }
   ],
   "source": [
    "# количество и продолжительность звонков\n",
    "users_stat = (calls\n",
    "              .groupby(['user_id', 'month'])\n",
    "              .agg({'duration':['count', 'sum']})\n",
    "             )\n",
    "users_stat.columns = ['calls_count', 'calls_duration']\n",
    "\n",
    "# добавляем количество сообщений и израсходованные мегабайты\n",
    "users_stat = (users_stat\n",
    "              .merge(messages\n",
    "                     .groupby(['user_id', 'month'])\n",
    "                     .agg({'id':'count'}),\n",
    "                     on=['user_id', 'month'], how='outer')\n",
    "              .rename(columns={'id':'messages'})\n",
    "              .merge(internet\n",
    "                     .groupby(['user_id', 'month'])\n",
    "                     .agg({'mb_used':'sum'}),\n",
    "                     on=['user_id', 'month'], how='outer')\n",
    "             )\n",
    "\n",
    "# добавление информации о городе и тарифе пользователя\n",
    "users_stat = (users[['user_id', 'tariff', 'city']]\n",
    "              .merge(users_stat.reset_index(),\n",
    "                     on='user_id', how='inner')\n",
    "             )\n",
    "\n",
    "# проверка полученной таблицы\n",
    "users_stat.set_index(['user_id', 'tariff', 'city', 'month']).head(20)"
   ]
  },
  {
   "cell_type": "markdown",
   "id": "41258e7b",
   "metadata": {},
   "source": [
    "Видим в некоторых столбцах пропуски:"
   ]
  },
  {
   "cell_type": "code",
   "execution_count": 28,
   "id": "79550c1b",
   "metadata": {},
   "outputs": [
    {
     "name": "stdout",
     "output_type": "stream",
     "text": [
      "<class 'pandas.core.frame.DataFrame'>\n",
      "Int64Index: 3214 entries, 0 to 3213\n",
      "Data columns (total 8 columns):\n",
      " #   Column          Non-Null Count  Dtype  \n",
      "---  ------          --------------  -----  \n",
      " 0   user_id         3214 non-null   int64  \n",
      " 1   tariff          3214 non-null   object \n",
      " 2   city            3214 non-null   object \n",
      " 3   month           3214 non-null   int64  \n",
      " 4   calls_count     3174 non-null   float64\n",
      " 5   calls_duration  3174 non-null   float64\n",
      " 6   messages        2717 non-null   float64\n",
      " 7   mb_used         3203 non-null   float64\n",
      "dtypes: float64(4), int64(2), object(2)\n",
      "memory usage: 226.0+ KB\n"
     ]
    }
   ],
   "source": [
    "users_stat.info()"
   ]
  },
  {
   "cell_type": "markdown",
   "id": "e4123b38",
   "metadata": {},
   "source": [
    "Пропуски есть в столбцах со звонками, сообщениями и интернет-трафиком. Причина - есть люди, которые не пользуются, например, сообщениями или звонками (есть же мессенджеры). Заполним пропуски нулями."
   ]
  },
  {
   "cell_type": "code",
   "execution_count": 29,
   "id": "07b2311a",
   "metadata": {},
   "outputs": [],
   "source": [
    "# заполнение пропусков\n",
    "users_stat.fillna(0, inplace=True)"
   ]
  },
  {
   "cell_type": "markdown",
   "id": "90f6e990",
   "metadata": {},
   "source": [
    "Видим, что типы данных вещественные. Приведём к целочисленным (для мегабайт перед этим произведём округление в бОльшую сторону)."
   ]
  },
  {
   "cell_type": "code",
   "execution_count": 30,
   "id": "d65ffb14",
   "metadata": {},
   "outputs": [
    {
     "data": {
      "text/html": [
       "<div>\n",
       "<style scoped>\n",
       "    .dataframe tbody tr th:only-of-type {\n",
       "        vertical-align: middle;\n",
       "    }\n",
       "\n",
       "    .dataframe tbody tr th {\n",
       "        vertical-align: top;\n",
       "    }\n",
       "\n",
       "    .dataframe thead th {\n",
       "        text-align: right;\n",
       "    }\n",
       "</style>\n",
       "<table border=\"1\" class=\"dataframe\">\n",
       "  <thead>\n",
       "    <tr style=\"text-align: right;\">\n",
       "      <th></th>\n",
       "      <th>user_id</th>\n",
       "      <th>tariff</th>\n",
       "      <th>city</th>\n",
       "      <th>month</th>\n",
       "      <th>calls_count</th>\n",
       "      <th>calls_duration</th>\n",
       "      <th>messages</th>\n",
       "      <th>mb_used</th>\n",
       "    </tr>\n",
       "  </thead>\n",
       "  <tbody>\n",
       "    <tr>\n",
       "      <th>0</th>\n",
       "      <td>1000</td>\n",
       "      <td>ultra</td>\n",
       "      <td>Краснодар</td>\n",
       "      <td>5</td>\n",
       "      <td>22</td>\n",
       "      <td>159</td>\n",
       "      <td>22</td>\n",
       "      <td>2254</td>\n",
       "    </tr>\n",
       "    <tr>\n",
       "      <th>1</th>\n",
       "      <td>1000</td>\n",
       "      <td>ultra</td>\n",
       "      <td>Краснодар</td>\n",
       "      <td>6</td>\n",
       "      <td>43</td>\n",
       "      <td>172</td>\n",
       "      <td>60</td>\n",
       "      <td>23234</td>\n",
       "    </tr>\n",
       "    <tr>\n",
       "      <th>2</th>\n",
       "      <td>1000</td>\n",
       "      <td>ultra</td>\n",
       "      <td>Краснодар</td>\n",
       "      <td>7</td>\n",
       "      <td>47</td>\n",
       "      <td>340</td>\n",
       "      <td>75</td>\n",
       "      <td>14004</td>\n",
       "    </tr>\n",
       "    <tr>\n",
       "      <th>3</th>\n",
       "      <td>1000</td>\n",
       "      <td>ultra</td>\n",
       "      <td>Краснодар</td>\n",
       "      <td>8</td>\n",
       "      <td>52</td>\n",
       "      <td>408</td>\n",
       "      <td>81</td>\n",
       "      <td>14056</td>\n",
       "    </tr>\n",
       "    <tr>\n",
       "      <th>4</th>\n",
       "      <td>1000</td>\n",
       "      <td>ultra</td>\n",
       "      <td>Краснодар</td>\n",
       "      <td>9</td>\n",
       "      <td>58</td>\n",
       "      <td>466</td>\n",
       "      <td>57</td>\n",
       "      <td>14569</td>\n",
       "    </tr>\n",
       "  </tbody>\n",
       "</table>\n",
       "</div>"
      ],
      "text/plain": [
       "   user_id tariff       city  month  calls_count  calls_duration  messages  \\\n",
       "0     1000  ultra  Краснодар      5           22             159        22   \n",
       "1     1000  ultra  Краснодар      6           43             172        60   \n",
       "2     1000  ultra  Краснодар      7           47             340        75   \n",
       "3     1000  ultra  Краснодар      8           52             408        81   \n",
       "4     1000  ultra  Краснодар      9           58             466        57   \n",
       "\n",
       "   mb_used  \n",
       "0     2254  \n",
       "1    23234  \n",
       "2    14004  \n",
       "3    14056  \n",
       "4    14569  "
      ]
     },
     "execution_count": 30,
     "metadata": {},
     "output_type": "execute_result"
    }
   ],
   "source": [
    "cols = ['user_id', 'month', 'calls_count', 'calls_duration', 'messages']\n",
    "users_stat[cols] = users_stat[cols].astype('int32')\n",
    "users_stat['mb_used'] = np.ceil(users_stat['mb_used']).astype('int32')\n",
    "users_stat.head()"
   ]
  },
  {
   "cell_type": "code",
   "execution_count": 31,
   "id": "45cf0bbc",
   "metadata": {},
   "outputs": [
    {
     "name": "stdout",
     "output_type": "stream",
     "text": [
      "<class 'pandas.core.frame.DataFrame'>\n",
      "Int64Index: 3214 entries, 0 to 3213\n",
      "Data columns (total 8 columns):\n",
      " #   Column          Non-Null Count  Dtype \n",
      "---  ------          --------------  ----- \n",
      " 0   user_id         3214 non-null   int32 \n",
      " 1   tariff          3214 non-null   object\n",
      " 2   city            3214 non-null   object\n",
      " 3   month           3214 non-null   int32 \n",
      " 4   calls_count     3214 non-null   int32 \n",
      " 5   calls_duration  3214 non-null   int32 \n",
      " 6   messages        3214 non-null   int32 \n",
      " 7   mb_used         3214 non-null   int32 \n",
      "dtypes: int32(6), object(2)\n",
      "memory usage: 150.7+ KB\n"
     ]
    }
   ],
   "source": [
    "users_stat.info()"
   ]
  },
  {
   "cell_type": "markdown",
   "id": "ee1decbb",
   "metadata": {},
   "source": [
    "Так-то лучше. И место сэкономили.\n",
    "\n",
    "Временно добавим в таблицу информацию по тарифам (для удобства расчёта выручки с пользователя)."
   ]
  },
  {
   "cell_type": "code",
   "execution_count": 32,
   "id": "5cdc2e20",
   "metadata": {},
   "outputs": [
    {
     "data": {
      "text/html": [
       "<div>\n",
       "<style scoped>\n",
       "    .dataframe tbody tr th:only-of-type {\n",
       "        vertical-align: middle;\n",
       "    }\n",
       "\n",
       "    .dataframe tbody tr th {\n",
       "        vertical-align: top;\n",
       "    }\n",
       "\n",
       "    .dataframe thead th {\n",
       "        text-align: right;\n",
       "    }\n",
       "</style>\n",
       "<table border=\"1\" class=\"dataframe\">\n",
       "  <thead>\n",
       "    <tr style=\"text-align: right;\">\n",
       "      <th></th>\n",
       "      <th>user_id</th>\n",
       "      <th>tariff</th>\n",
       "      <th>city</th>\n",
       "      <th>month</th>\n",
       "      <th>calls_count</th>\n",
       "      <th>calls_duration</th>\n",
       "      <th>messages</th>\n",
       "      <th>mb_used</th>\n",
       "      <th>messages_included</th>\n",
       "      <th>mb_per_month_included</th>\n",
       "      <th>minutes_included</th>\n",
       "      <th>rub_monthly_fee</th>\n",
       "      <th>rub_per_gb</th>\n",
       "      <th>rub_per_message</th>\n",
       "      <th>rub_per_minute</th>\n",
       "      <th>tariff_name</th>\n",
       "    </tr>\n",
       "  </thead>\n",
       "  <tbody>\n",
       "    <tr>\n",
       "      <th>0</th>\n",
       "      <td>1000</td>\n",
       "      <td>ultra</td>\n",
       "      <td>Краснодар</td>\n",
       "      <td>5</td>\n",
       "      <td>22</td>\n",
       "      <td>159</td>\n",
       "      <td>22</td>\n",
       "      <td>2254</td>\n",
       "      <td>1000</td>\n",
       "      <td>30720</td>\n",
       "      <td>3000</td>\n",
       "      <td>1950</td>\n",
       "      <td>150</td>\n",
       "      <td>1</td>\n",
       "      <td>1</td>\n",
       "      <td>ultra</td>\n",
       "    </tr>\n",
       "    <tr>\n",
       "      <th>1</th>\n",
       "      <td>1000</td>\n",
       "      <td>ultra</td>\n",
       "      <td>Краснодар</td>\n",
       "      <td>6</td>\n",
       "      <td>43</td>\n",
       "      <td>172</td>\n",
       "      <td>60</td>\n",
       "      <td>23234</td>\n",
       "      <td>1000</td>\n",
       "      <td>30720</td>\n",
       "      <td>3000</td>\n",
       "      <td>1950</td>\n",
       "      <td>150</td>\n",
       "      <td>1</td>\n",
       "      <td>1</td>\n",
       "      <td>ultra</td>\n",
       "    </tr>\n",
       "    <tr>\n",
       "      <th>2</th>\n",
       "      <td>1000</td>\n",
       "      <td>ultra</td>\n",
       "      <td>Краснодар</td>\n",
       "      <td>7</td>\n",
       "      <td>47</td>\n",
       "      <td>340</td>\n",
       "      <td>75</td>\n",
       "      <td>14004</td>\n",
       "      <td>1000</td>\n",
       "      <td>30720</td>\n",
       "      <td>3000</td>\n",
       "      <td>1950</td>\n",
       "      <td>150</td>\n",
       "      <td>1</td>\n",
       "      <td>1</td>\n",
       "      <td>ultra</td>\n",
       "    </tr>\n",
       "    <tr>\n",
       "      <th>3</th>\n",
       "      <td>1000</td>\n",
       "      <td>ultra</td>\n",
       "      <td>Краснодар</td>\n",
       "      <td>8</td>\n",
       "      <td>52</td>\n",
       "      <td>408</td>\n",
       "      <td>81</td>\n",
       "      <td>14056</td>\n",
       "      <td>1000</td>\n",
       "      <td>30720</td>\n",
       "      <td>3000</td>\n",
       "      <td>1950</td>\n",
       "      <td>150</td>\n",
       "      <td>1</td>\n",
       "      <td>1</td>\n",
       "      <td>ultra</td>\n",
       "    </tr>\n",
       "    <tr>\n",
       "      <th>4</th>\n",
       "      <td>1000</td>\n",
       "      <td>ultra</td>\n",
       "      <td>Краснодар</td>\n",
       "      <td>9</td>\n",
       "      <td>58</td>\n",
       "      <td>466</td>\n",
       "      <td>57</td>\n",
       "      <td>14569</td>\n",
       "      <td>1000</td>\n",
       "      <td>30720</td>\n",
       "      <td>3000</td>\n",
       "      <td>1950</td>\n",
       "      <td>150</td>\n",
       "      <td>1</td>\n",
       "      <td>1</td>\n",
       "      <td>ultra</td>\n",
       "    </tr>\n",
       "  </tbody>\n",
       "</table>\n",
       "</div>"
      ],
      "text/plain": [
       "   user_id tariff       city  month  calls_count  calls_duration  messages  \\\n",
       "0     1000  ultra  Краснодар      5           22             159        22   \n",
       "1     1000  ultra  Краснодар      6           43             172        60   \n",
       "2     1000  ultra  Краснодар      7           47             340        75   \n",
       "3     1000  ultra  Краснодар      8           52             408        81   \n",
       "4     1000  ultra  Краснодар      9           58             466        57   \n",
       "\n",
       "   mb_used  messages_included  mb_per_month_included  minutes_included  \\\n",
       "0     2254               1000                  30720              3000   \n",
       "1    23234               1000                  30720              3000   \n",
       "2    14004               1000                  30720              3000   \n",
       "3    14056               1000                  30720              3000   \n",
       "4    14569               1000                  30720              3000   \n",
       "\n",
       "   rub_monthly_fee  rub_per_gb  rub_per_message  rub_per_minute tariff_name  \n",
       "0             1950         150                1               1       ultra  \n",
       "1             1950         150                1               1       ultra  \n",
       "2             1950         150                1               1       ultra  \n",
       "3             1950         150                1               1       ultra  \n",
       "4             1950         150                1               1       ultra  "
      ]
     },
     "execution_count": 32,
     "metadata": {},
     "output_type": "execute_result"
    }
   ],
   "source": [
    "users_stat = users_stat.merge(tariffs,\n",
    "                              left_on='tariff',\n",
    "                              right_on='tariff_name',\n",
    "                              how='inner')\n",
    "users_stat.head()"
   ]
  },
  {
   "cell_type": "code",
   "execution_count": 33,
   "id": "326affe2",
   "metadata": {},
   "outputs": [],
   "source": [
    "# функиця возвращает величину, на которую значение превышает лимит\n",
    "def limit_overflow(value, limit):\n",
    "    return max(value - limit, 0)"
   ]
  },
  {
   "cell_type": "code",
   "execution_count": 34,
   "id": "7f502446",
   "metadata": {},
   "outputs": [],
   "source": [
    "# функция расчёта выручки с пользователя:\n",
    "# = (абонентская плата)\n",
    "# + (минуты сверх лимита * стоимость минуты)\n",
    "# + (сообщения сверх лимита * стоимость сообщения)\n",
    "# + (гигабайты сверх лимита * стоимость гигабайта)\n",
    "\n",
    "def revenue(row):\n",
    "    return (row['rub_monthly_fee']\n",
    "            + (limit_overflow(row['calls_duration'],\n",
    "                              row['minutes_included'])\n",
    "               * row['rub_per_minute']\n",
    "              )\n",
    "            + (limit_overflow(row['messages'],\n",
    "                              row['messages_included'])\n",
    "               * row['rub_per_message']\n",
    "              )\n",
    "            + (np.ceil(limit_overflow(row['mb_used'],\n",
    "                                      row['mb_per_month_included'])\n",
    "                       / 1024)\n",
    "               * row['rub_per_gb'])\n",
    "           )"
   ]
  },
  {
   "cell_type": "code",
   "execution_count": 35,
   "id": "8853deec",
   "metadata": {},
   "outputs": [
    {
     "data": {
      "text/html": [
       "<div>\n",
       "<style scoped>\n",
       "    .dataframe tbody tr th:only-of-type {\n",
       "        vertical-align: middle;\n",
       "    }\n",
       "\n",
       "    .dataframe tbody tr th {\n",
       "        vertical-align: top;\n",
       "    }\n",
       "\n",
       "    .dataframe thead th {\n",
       "        text-align: right;\n",
       "    }\n",
       "</style>\n",
       "<table border=\"1\" class=\"dataframe\">\n",
       "  <thead>\n",
       "    <tr style=\"text-align: right;\">\n",
       "      <th></th>\n",
       "      <th>user_id</th>\n",
       "      <th>tariff</th>\n",
       "      <th>city</th>\n",
       "      <th>month</th>\n",
       "      <th>calls_count</th>\n",
       "      <th>calls_duration</th>\n",
       "      <th>messages</th>\n",
       "      <th>mb_used</th>\n",
       "      <th>messages_included</th>\n",
       "      <th>mb_per_month_included</th>\n",
       "      <th>minutes_included</th>\n",
       "      <th>rub_monthly_fee</th>\n",
       "      <th>rub_per_gb</th>\n",
       "      <th>rub_per_message</th>\n",
       "      <th>rub_per_minute</th>\n",
       "      <th>tariff_name</th>\n",
       "      <th>revenue</th>\n",
       "    </tr>\n",
       "  </thead>\n",
       "  <tbody>\n",
       "    <tr>\n",
       "      <th>0</th>\n",
       "      <td>1000</td>\n",
       "      <td>ultra</td>\n",
       "      <td>Краснодар</td>\n",
       "      <td>5</td>\n",
       "      <td>22</td>\n",
       "      <td>159</td>\n",
       "      <td>22</td>\n",
       "      <td>2254</td>\n",
       "      <td>1000</td>\n",
       "      <td>30720</td>\n",
       "      <td>3000</td>\n",
       "      <td>1950</td>\n",
       "      <td>150</td>\n",
       "      <td>1</td>\n",
       "      <td>1</td>\n",
       "      <td>ultra</td>\n",
       "      <td>1950</td>\n",
       "    </tr>\n",
       "    <tr>\n",
       "      <th>1</th>\n",
       "      <td>1000</td>\n",
       "      <td>ultra</td>\n",
       "      <td>Краснодар</td>\n",
       "      <td>6</td>\n",
       "      <td>43</td>\n",
       "      <td>172</td>\n",
       "      <td>60</td>\n",
       "      <td>23234</td>\n",
       "      <td>1000</td>\n",
       "      <td>30720</td>\n",
       "      <td>3000</td>\n",
       "      <td>1950</td>\n",
       "      <td>150</td>\n",
       "      <td>1</td>\n",
       "      <td>1</td>\n",
       "      <td>ultra</td>\n",
       "      <td>1950</td>\n",
       "    </tr>\n",
       "    <tr>\n",
       "      <th>2</th>\n",
       "      <td>1000</td>\n",
       "      <td>ultra</td>\n",
       "      <td>Краснодар</td>\n",
       "      <td>7</td>\n",
       "      <td>47</td>\n",
       "      <td>340</td>\n",
       "      <td>75</td>\n",
       "      <td>14004</td>\n",
       "      <td>1000</td>\n",
       "      <td>30720</td>\n",
       "      <td>3000</td>\n",
       "      <td>1950</td>\n",
       "      <td>150</td>\n",
       "      <td>1</td>\n",
       "      <td>1</td>\n",
       "      <td>ultra</td>\n",
       "      <td>1950</td>\n",
       "    </tr>\n",
       "    <tr>\n",
       "      <th>3</th>\n",
       "      <td>1000</td>\n",
       "      <td>ultra</td>\n",
       "      <td>Краснодар</td>\n",
       "      <td>8</td>\n",
       "      <td>52</td>\n",
       "      <td>408</td>\n",
       "      <td>81</td>\n",
       "      <td>14056</td>\n",
       "      <td>1000</td>\n",
       "      <td>30720</td>\n",
       "      <td>3000</td>\n",
       "      <td>1950</td>\n",
       "      <td>150</td>\n",
       "      <td>1</td>\n",
       "      <td>1</td>\n",
       "      <td>ultra</td>\n",
       "      <td>1950</td>\n",
       "    </tr>\n",
       "    <tr>\n",
       "      <th>4</th>\n",
       "      <td>1000</td>\n",
       "      <td>ultra</td>\n",
       "      <td>Краснодар</td>\n",
       "      <td>9</td>\n",
       "      <td>58</td>\n",
       "      <td>466</td>\n",
       "      <td>57</td>\n",
       "      <td>14569</td>\n",
       "      <td>1000</td>\n",
       "      <td>30720</td>\n",
       "      <td>3000</td>\n",
       "      <td>1950</td>\n",
       "      <td>150</td>\n",
       "      <td>1</td>\n",
       "      <td>1</td>\n",
       "      <td>ultra</td>\n",
       "      <td>1950</td>\n",
       "    </tr>\n",
       "  </tbody>\n",
       "</table>\n",
       "</div>"
      ],
      "text/plain": [
       "   user_id tariff       city  month  calls_count  calls_duration  messages  \\\n",
       "0     1000  ultra  Краснодар      5           22             159        22   \n",
       "1     1000  ultra  Краснодар      6           43             172        60   \n",
       "2     1000  ultra  Краснодар      7           47             340        75   \n",
       "3     1000  ultra  Краснодар      8           52             408        81   \n",
       "4     1000  ultra  Краснодар      9           58             466        57   \n",
       "\n",
       "   mb_used  messages_included  mb_per_month_included  minutes_included  \\\n",
       "0     2254               1000                  30720              3000   \n",
       "1    23234               1000                  30720              3000   \n",
       "2    14004               1000                  30720              3000   \n",
       "3    14056               1000                  30720              3000   \n",
       "4    14569               1000                  30720              3000   \n",
       "\n",
       "   rub_monthly_fee  rub_per_gb  rub_per_message  rub_per_minute tariff_name  \\\n",
       "0             1950         150                1               1       ultra   \n",
       "1             1950         150                1               1       ultra   \n",
       "2             1950         150                1               1       ultra   \n",
       "3             1950         150                1               1       ultra   \n",
       "4             1950         150                1               1       ultra   \n",
       "\n",
       "   revenue  \n",
       "0     1950  \n",
       "1     1950  \n",
       "2     1950  \n",
       "3     1950  \n",
       "4     1950  "
      ]
     },
     "execution_count": 35,
     "metadata": {},
     "output_type": "execute_result"
    }
   ],
   "source": [
    "# построчное применение функции \"revenue\" с добавлением нового столбца\n",
    "users_stat['revenue'] = users_stat.apply(revenue, axis=1).astype('int32')\n",
    "users_stat.head()"
   ]
  },
  {
   "cell_type": "markdown",
   "id": "31d5976b",
   "metadata": {},
   "source": [
    "Удалим данные о тарифе, больше в этой таблице они нам не понадобятся."
   ]
  },
  {
   "cell_type": "code",
   "execution_count": 36,
   "id": "3153f681",
   "metadata": {},
   "outputs": [
    {
     "name": "stdout",
     "output_type": "stream",
     "text": [
      "<class 'pandas.core.frame.DataFrame'>\n",
      "Int64Index: 3214 entries, 0 to 3213\n",
      "Data columns (total 9 columns):\n",
      " #   Column          Non-Null Count  Dtype \n",
      "---  ------          --------------  ----- \n",
      " 0   user_id         3214 non-null   int32 \n",
      " 1   tariff          3214 non-null   object\n",
      " 2   city            3214 non-null   object\n",
      " 3   month           3214 non-null   int32 \n",
      " 4   calls_count     3214 non-null   int32 \n",
      " 5   calls_duration  3214 non-null   int32 \n",
      " 6   messages        3214 non-null   int32 \n",
      " 7   mb_used         3214 non-null   int32 \n",
      " 8   revenue         3214 non-null   int32 \n",
      "dtypes: int32(7), object(2)\n",
      "memory usage: 163.2+ KB\n"
     ]
    }
   ],
   "source": [
    "users_stat.drop(columns=tariffs.columns, inplace=True)\n",
    "users_stat.info()"
   ]
  },
  {
   "cell_type": "markdown",
   "id": "92039ea4",
   "metadata": {},
   "source": [
    "Данные подготовлены. Переходим непосредственно к анализу."
   ]
  },
  {
   "cell_type": "markdown",
   "id": "0c906911",
   "metadata": {},
   "source": [
    "## Анализ данных"
   ]
  },
  {
   "cell_type": "code",
   "execution_count": 37,
   "id": "c2cedc00",
   "metadata": {},
   "outputs": [],
   "source": [
    "# словарь с интересующими нас параметрами\n",
    "parameters = {'calls_duration':'Продолжительность звонков',\n",
    "              'messages':'Кол-во сообщений',\n",
    "              'mb_used':'Интернет-трафик',\n",
    "              'revenue':'Выручка'\n",
    "             }"
   ]
  },
  {
   "cell_type": "code",
   "execution_count": 38,
   "id": "e6dd5c76",
   "metadata": {},
   "outputs": [],
   "source": [
    "# выделим фреймы по тарифам\n",
    "smart_stat = users_stat.query('tariff == \"smart\"')\n",
    "ultra_stat = users_stat.query('tariff == \"ultra\"')"
   ]
  },
  {
   "cell_type": "markdown",
   "id": "5229871e",
   "metadata": {},
   "source": [
    "### Тариф \"Смарт\""
   ]
  },
  {
   "cell_type": "markdown",
   "id": "4713e956",
   "metadata": {},
   "source": [
    "Рассмотрим поведение клиентов тарифа \"Смарт\": сколько тратят минут разговора, сообщений, интернет-трафика."
   ]
  },
  {
   "cell_type": "code",
   "execution_count": 39,
   "id": "f0d5f403",
   "metadata": {},
   "outputs": [
    {
     "name": "stdout",
     "output_type": "stream",
     "text": [
      "Продолжительность звонков:\n",
      " Среднее:\t417.9349484073576\n",
      " Дисперсия:\t36203.06665209469\n",
      " СКО:\t\t190.27103471651876\n",
      "\n",
      "Кол-во сообщений:\n",
      " Среднее:\t33.384028712427096\n",
      " Дисперсия:\t796.455482917076\n",
      " СКО:\t\t28.221542886898938\n",
      "\n",
      "Интернет-трафик:\n",
      " Среднее:\t16208.873485868102\n",
      " Дисперсия:\t34447101.80902782\n",
      " СКО:\t\t5869.16534176946\n",
      "\n",
      "Выручка:\n",
      " Среднее:\t1289.9735307312696\n",
      " Дисперсия:\t669485.2209234245\n",
      " СКО:\t\t818.2207653949051\n",
      "\n"
     ]
    }
   ],
   "source": [
    "for param, name in parameters.items():\n",
    "    print(f'{name}:')\n",
    "    print(f' Среднее:\\t{smart_stat[param].mean()}')\n",
    "    var = np.var(smart_stat[param])\n",
    "    print(f' Дисперсия:\\t{var}')\n",
    "    print(f' СКО:\\t\\t{np.sqrt(var)}')\n",
    "    print()"
   ]
  },
  {
   "cell_type": "code",
   "execution_count": 40,
   "id": "4c7cbf75",
   "metadata": {
    "scrolled": false
   },
   "outputs": [
    {
     "data": {
      "image/png": "[encoded data removed]",
      "text/plain": [
       "<Figure size 432x288 with 1 Axes>"
      ]
     },
     "metadata": {
      "needs_background": "light"
     },
     "output_type": "display_data"
    },
    {
     "data": {
      "image/png": "[encoded data removed]",
      "text/plain": [
       "<Figure size 432x288 with 1 Axes>"
      ]
     },
     "metadata": {
      "needs_background": "light"
     },
     "output_type": "display_data"
    },
    {
     "data": {
      "image/png": "[encoded data removed]",
      "text/plain": [
       "<Figure size 432x288 with 1 Axes>"
      ]
     },
     "metadata": {
      "needs_background": "light"
     },
     "output_type": "display_data"
    },
    {
     "data": {
      "image/png": "[encoded data removed]",
      "text/plain": [
       "<Figure size 432x288 with 1 Axes>"
      ]
     },
     "metadata": {
      "needs_background": "light"
     },
     "output_type": "display_data"
    }
   ],
   "source": [
    "for param, name in parameters.items():\n",
    "    smart_stat.hist(param, bins=100)"
   ]
  },
  {
   "cell_type": "code",
   "execution_count": 54,
   "id": "b1027b17",
   "metadata": {},
   "outputs": [
    {
     "data": {
      "text/plain": [
       "array([[<AxesSubplot:title={'center':'calls_duration'}>]], dtype=object)"
      ]
     },
     "execution_count": 54,
     "metadata": {},
     "output_type": "execute_result"
    },
    {
     "data": {
      "image/png": "[encoded data removed]",
      "text/plain": [
       "<Figure size 432x288 with 1 Axes>"
      ]
     },
     "metadata": {
      "needs_background": "light"
     },
     "output_type": "display_data"
    }
   ],
   "source": [
    "smart_stat.hist(param, bins=50, range=(500, 2000))"
   ]
  },
  {
   "cell_type": "markdown",
   "id": "76af260e",
   "metadata": {},
   "source": [
    "Видим, что в среднем пользователи тарифа \"Смарт\" тратят 418 минут из 500 доступных и 33 сообщения из 50 доступных, т.е. не превышают лимит (хотя и расходуют бОльшую часть). А вот интернет-трафика в среднем необходимо почти на 1 ГБ больше, чем предусмотрено тарифом (15.8 ГБ при лимите в 15 ГБ).\n",
    "\n",
    "Из гистограмм видим, что очень часто пользователи вообще не используют сообщения (пик в районе 0): в целом, закономерно, когда есть большое количество различных мессенджеров. \n",
    "\n",
    "Распределения для минут разговора и интернет-трафика близки к нормальному распределению, а вот распределение числа сообщений больше похоже на распределение Пуассона.\n",
    "\n",
    "Средняя выручка пользователя тарифа \"Смарт\" составляет 1290р., т.е. более чем в 2 раза превышает ежемесячную плату. Видим, что в большинстве случаев пользователи укладываются в лимиты по тарифу (пик в начале графика, в районе 550). Однако на гистограмме также видим слабовыраженные всплески, отстоящие друг от друга примерно на 200, что соответствует доплате за каждый лишний ГБ интернета."
   ]
  },
  {
   "cell_type": "markdown",
   "id": "b316bd66",
   "metadata": {},
   "source": [
    "### Тариф \"Ультра\""
   ]
  },
  {
   "cell_type": "markdown",
   "id": "f84cf3b2",
   "metadata": {},
   "source": [
    "Рассмотрим поведение клиентов тарифа \"Ультра\": сколько тратят минут разговора, сообщений, интернет-трафика."
   ]
  },
  {
   "cell_type": "code",
   "execution_count": 39,
   "id": "b8219e0f",
   "metadata": {},
   "outputs": [
    {
     "name": "stdout",
     "output_type": "stream",
     "text": [
      "Продолжительность звонков:\n",
      " Среднее:\t526.6233502538071\n",
      " Дисперсия:\t100771.2236172022\n",
      " СКО:\t\t317.44483554974113\n",
      "\n",
      "Кол-во сообщений:\n",
      " Среднее:\t49.36345177664975\n",
      " Дисперсия:\t2282.9460753948824\n",
      " СКО:\t\t47.78018496610161\n",
      "\n",
      "Интернет-трафик:\n",
      " Среднее:\t19469.308629441624\n",
      " Дисперсия:\t101648256.8915499\n",
      " СКО:\t\t10082.076020917017\n",
      "\n",
      "Выручка:\n",
      " Среднее:\t2070.1522842639592\n",
      " Дисперсия:\t141373.07325620347\n",
      " СКО:\t\t375.9961080333192\n",
      "\n"
     ]
    }
   ],
   "source": [
    "for param, name in parameters.items():\n",
    "    print(f'{name}:')\n",
    "    print(f' Среднее:\\t{ultra_stat[param].mean()}')\n",
    "    var = np.var(ultra_stat[param])\n",
    "    print(f' Дисперсия:\\t{var}')\n",
    "    print(f' СКО:\\t\\t{np.sqrt(var)}')\n",
    "    print()"
   ]
  },
  {
   "cell_type": "code",
   "execution_count": 40,
   "id": "896e4252",
   "metadata": {
    "scrolled": false
   },
   "outputs": [
    {
     "data": {
      "image/png": "[encoded data removed]",
      "text/plain": [
       "<Figure size 432x288 with 1 Axes>"
      ]
     },
     "metadata": {
      "needs_background": "light"
     },
     "output_type": "display_data"
    },
    {
     "data": {
      "image/png": "[encoded data removed]",
      "text/plain": [
       "<Figure size 432x288 with 1 Axes>"
      ]
     },
     "metadata": {
      "needs_background": "light"
     },
     "output_type": "display_data"
    },
    {
     "data": {
      "image/png": "[encoded data removed]",
      "text/plain": [
       "<Figure size 432x288 with 1 Axes>"
      ]
     },
     "metadata": {
      "needs_background": "light"
     },
     "output_type": "display_data"
    },
    {
     "data": {
      "image/png": "[encoded data removed]",
      "text/plain": [
       "<Figure size 432x288 with 1 Axes>"
      ]
     },
     "metadata": {
      "needs_background": "light"
     },
     "output_type": "display_data"
    }
   ],
   "source": [
    "for param, name in parameters.items():\n",
    "    ultra_stat.hist(param, bins=100)"
   ]
  },
  {
   "cell_type": "markdown",
   "id": "bc54c35b",
   "metadata": {},
   "source": [
    "Пользователи тарифа \"Ультра\" в среднем тратят всего 527 минут из 3000 доступных (меньше 20%). Редкие случаи использования намного бОльшего количества минут всё равно не дотягивают до лимита (всего около 1750 минут в месяц).\n",
    "\n",
    "С сообщениями наблядается похожая картина: в среднем используется всего 49 сообщений из 1000 (около 5%).\n",
    "\n",
    "А вот интернет-трафик пользователи тарифа \"Ультра\" в среднем почти веcь используют (19 Гб при лимите в 30 ГБ).\n",
    "\n",
    "Средняя выручка пользователя тарифа \"Ультра\" составляет 2070р., т.е. немногим более ежемесячной платы по даному тарифу. Видим, что в большинстве случаев пользователи укладываются в лимиты по тарифу (пик в начале графика, в районе 1950), хотя и встречаются редкие случаи, когда пользователям приходится оплачивать услуги сверх тарифного плана (судя по гистограмме, это снова доплаты за интернет)."
   ]
  },
  {
   "cell_type": "markdown",
   "id": "89cc2873",
   "metadata": {},
   "source": [
    "### Сравнение тарифов"
   ]
  },
  {
   "cell_type": "code",
   "execution_count": 41,
   "id": "48f38220",
   "metadata": {},
   "outputs": [
    {
     "data": {
      "image/png": "[encoded data removed]",
      "text/plain": [
       "<Figure size 432x288 with 1 Axes>"
      ]
     },
     "metadata": {
      "needs_background": "light"
     },
     "output_type": "display_data"
    },
    {
     "data": {
      "image/png": "[encoded data removed]",
      "text/plain": [
       "<Figure size 432x288 with 1 Axes>"
      ]
     },
     "metadata": {
      "needs_background": "light"
     },
     "output_type": "display_data"
    },
    {
     "data": {
      "image/png": "[encoded data removed]",
      "text/plain": [
       "<Figure size 432x288 with 1 Axes>"
      ]
     },
     "metadata": {
      "needs_background": "light"
     },
     "output_type": "display_data"
    },
    {
     "data": {
      "image/png": "[encoded data removed]",
      "text/plain": [
       "<Figure size 432x288 with 1 Axes>"
      ]
     },
     "metadata": {
      "needs_background": "light"
     },
     "output_type": "display_data"
    }
   ],
   "source": [
    "for param, name in parameters.items():\n",
    "    ax = smart_stat.hist(param, bins=100, density=True,\n",
    "                         alpha=0.5, label='Смарт')\n",
    "    ultra_stat.hist(param, bins=100, density=True,\n",
    "                    alpha=0.5, label='Ультра', ax=ax)\n",
    "    plt.xlabel(name)\n",
    "    plt.legend()"
   ]
  },
  {
   "cell_type": "markdown",
   "id": "981fe237",
   "metadata": {},
   "source": [
    "На гистограммах видно, что распределения для тарифов оказываются похожи, однако для тарифа \"Ультра\" наблюдаем более пологие графики. Так, например, если пользователи тарифа \"Смарт\" уже довольно редко используют больше 600 минут и 25 ГБ, то для пользователей тарифа \"Ультра\" довольно частыми оказываются значения вплоть до 1000 минут и 35 ГБ."
   ]
  },
  {
   "cell_type": "markdown",
   "id": "6022699e",
   "metadata": {},
   "source": [
    "\"Средние\" пользователи тарифов\n",
    "\n",
    "|Тариф |Минуты|Сообщения|Интернет|Выручка|\n",
    "|------|------|---------|--------|-------|\n",
    "|Смарт |   418|       33|      16|   1290|\n",
    "|Ультра|   527|       49|      19|   2070|"
   ]
  },
  {
   "cell_type": "markdown",
   "id": "262f82c6",
   "metadata": {},
   "source": [
    "Средний пользователь тарифа \"Смарт\" использует не много больше минут, сообщений и интернет-трафика чем средний пользователь \"Ультра\". Однако выручка пользователя тарифа \"Ультра\" почти на 800р. больше выручки пользователя тарифа \"Смарт\", т.е. \"Ультра\" в среднем оказывается прибыльнее для компании."
   ]
  },
  {
   "cell_type": "markdown",
   "id": "92acac10",
   "metadata": {},
   "source": [
    "## Проверка гипотез"
   ]
  },
  {
   "cell_type": "markdown",
   "id": "a10e9918",
   "metadata": {},
   "source": [
    "Перейдём к проверке гипотез:\n",
    " 1. средняя выручка пользователей тарифов \"Ультра\" и \"Смарт\" различаются;\n",
    " 2. средняя выручка пользователей из Москвы отличается от выручки пользователей из других регионов."
   ]
  },
  {
   "cell_type": "markdown",
   "id": "134c1b10",
   "metadata": {},
   "source": [
    "### Выручка разных тарифов"
   ]
  },
  {
   "cell_type": "markdown",
   "id": "1388f692",
   "metadata": {},
   "source": [
    "Необхоимо проверить предположение, что средняя выручка пользователей тарифов \"Ультра\" и \"Смарт\" различаются. \n",
    "\n",
    "Сформулируем нулевую и альтернативну гипотезу следующим образом: \n",
    " - нулевая гипотеза - средние выручки пользователей тарифов равны.\n",
    " - альтернативная гипотеза - средние выручки пользователей тарифов не равны.\n",
    " \n",
    "Будем проверять гипотезу о равенстве среднего по выборкам."
   ]
  },
  {
   "cell_type": "code",
   "execution_count": 42,
   "id": "fbfc704f",
   "metadata": {},
   "outputs": [
    {
     "data": {
      "text/plain": [
       "2229"
      ]
     },
     "execution_count": 42,
     "metadata": {},
     "output_type": "execute_result"
    }
   ],
   "source": [
    "smart_stat.shape[0]"
   ]
  },
  {
   "cell_type": "code",
   "execution_count": 43,
   "id": "8a2a8e1e",
   "metadata": {},
   "outputs": [
    {
     "data": {
      "text/plain": [
       "985"
      ]
     },
     "execution_count": 43,
     "metadata": {},
     "output_type": "execute_result"
    }
   ],
   "source": [
    "ultra_stat.shape[0]"
   ]
  },
  {
   "cell_type": "markdown",
   "id": "80ea066c",
   "metadata": {},
   "source": [
    "Размеры выборок разные, поэтому при проведении теста в метод `ttest_ind` передадим параметр `equal_var=False`."
   ]
  },
  {
   "cell_type": "code",
   "execution_count": 44,
   "id": "0e8466aa",
   "metadata": {},
   "outputs": [
    {
     "name": "stdout",
     "output_type": "stream",
     "text": [
      "p-value: 4.2606313931076085e-250\n",
      "Отвергаем нулевую гипотезу.\n"
     ]
    }
   ],
   "source": [
    "alpha = 0.01\n",
    "\n",
    "results = st.ttest_ind(smart_stat['revenue'],\n",
    "                       ultra_stat['revenue'],\n",
    "                       equal_var=False)\n",
    "\n",
    "print(f'p-value: {results.pvalue}')\n",
    "\n",
    "if results.pvalue < alpha:\n",
    "    print('Отвергаем нулевую гипотезу.')\n",
    "else:\n",
    "    print('Не получилось отвергнуть нулевую гипотезу.')"
   ]
  },
  {
   "cell_type": "markdown",
   "id": "d3382b59",
   "metadata": {},
   "source": [
    "По результатм тестов отвергаем нашу нулевую гипотезу. Значит, предположение, что выручки пользователей разных тарифов различаются, верно."
   ]
  },
  {
   "cell_type": "markdown",
   "id": "44d64317",
   "metadata": {},
   "source": [
    "### Выручка в Москве и в других регионов"
   ]
  },
  {
   "cell_type": "markdown",
   "id": "5d339cbf",
   "metadata": {},
   "source": [
    "Необхоимо проверить предположение, что средняя выручка пользователей из Москвы отличается от выручки пользователей из других регионов. \n",
    "\n",
    "Сформулируем нулевую и альтернативну гипотезу следующим образом: \n",
    " - нулевая гипотеза - средние выручки пользователей из Москвы и из других регионов равны.\n",
    " - альтернативная гипотеза - средние выручки пользователей не равны.\n",
    " \n",
    "Как и первом случае, будем проверять гипотезу о равенстве среднего по выборкам."
   ]
  },
  {
   "cell_type": "code",
   "execution_count": 45,
   "id": "2f8a9ccb",
   "metadata": {},
   "outputs": [
    {
     "data": {
      "text/plain": [
       "611"
      ]
     },
     "execution_count": 45,
     "metadata": {},
     "output_type": "execute_result"
    }
   ],
   "source": [
    "users_stat.query('city == \"Москва\"').shape[0]"
   ]
  },
  {
   "cell_type": "code",
   "execution_count": 46,
   "id": "917ff5cb",
   "metadata": {},
   "outputs": [
    {
     "data": {
      "text/plain": [
       "2603"
      ]
     },
     "execution_count": 46,
     "metadata": {},
     "output_type": "execute_result"
    }
   ],
   "source": [
    "users_stat.query('city != \"Москва\"').shape[0]"
   ]
  },
  {
   "cell_type": "markdown",
   "id": "0b251eb2",
   "metadata": {},
   "source": [
    "Размеры выборок снова различны, поэтому при проведении теста в метод `ttest_ind` передадим параметр `equal_var=False`."
   ]
  },
  {
   "cell_type": "code",
   "execution_count": 47,
   "id": "cdeefd19",
   "metadata": {},
   "outputs": [
    {
     "name": "stdout",
     "output_type": "stream",
     "text": [
      "p-value: 0.5257376663729298\n",
      "Не получилось отвергнуть нулевую гипотезу.\n"
     ]
    }
   ],
   "source": [
    "alpha = 0.01\n",
    "\n",
    "results = st.ttest_ind(users_stat.query('city == \"Москва\"')['revenue'],\n",
    "                       users_stat.query('city != \"Москва\"')['revenue'],\n",
    "                       equal_var=False)\n",
    "\n",
    "print(f'p-value: {results.pvalue}')\n",
    "\n",
    "if results.pvalue < alpha:\n",
    "    print('Отвергаем нулевую гипотезу.')\n",
    "else:\n",
    "    print('Не получилось отвергнуть нулевую гипотезу.')"
   ]
  },
  {
   "cell_type": "markdown",
   "id": "174caee7",
   "metadata": {},
   "source": [
    "Не получилось отвергнуть нашу нулевую гипотезу. Значит, средняя выручка пользователей из Москвы и средняя выручка пользователей из других регионов равны."
   ]
  },
  {
   "cell_type": "markdown",
   "id": "e6ed4926",
   "metadata": {},
   "source": [
    "## Вывод"
   ]
  },
  {
   "cell_type": "markdown",
   "id": "889becf7",
   "metadata": {},
   "source": [
    "В ходе предобработки данных были внесены некоторые исправления (удалён лишний столбец из таблицы `internet`, округлены минуты разговора в соответствии с тарифом, изменён тип некоторых данных).\n",
    "\n",
    "Для дальнейшего анализа была собрана общая таблица с необходимыми данными: для каждого пользователя по месяцам собрана информация о количестве звонков и израсходованных минут разговора, количестве сообщений, израсходованном интернет-трафике. По этим данным была расчитана выручка для каждого пользователя по месяцам.\n",
    "\n",
    "Затем была проанализировано поведение пользователей каждого тарифа: сколько используют минут, сообщений, трафика:\n",
    " - пользователи тарифа \"Смарт\" в среднем расходуют бОльшую часть предоставленных минут разговора (418 из 500) и сообщений (33 из 50), а интернета в среднем им требуется почти на 1 ГБ больше (15.8 ГБ), чем входит в тариф (15 ГБ); средняя выручка составляет 1290р.;\n",
    " - пользователи тарифа \"Ультра\" расходуют всего около 20% минут (527 из 3000) и 5% сообщений (49 из 1000); в среднем у них остаются неизрасходнованными около 11 ГБ интернет-трафика; средняя выручка 2070р.\n",
    " \n",
    "Наконец, были проверены две гипотезы. Было установлено следующее:\n",
    "\n",
    " 1. Средняя выручка пользователей тарифов \"Ультра\" и \"Смарт\" различается. Первая гипотеза подтвердилась.\n",
    " 2. Средняя выручка пользователей из Москвы и средняя выручка пользователей из других регионов оказалась равна. Таким образом, вторая гипотеза была не подствердилась.\n",
    " \n",
    "Таким образом, независимо от региона тариф \"Ультра\" оказался прибыльнее тарифа \"Смарт\", что мы могли увидеть как по распределениям, так и путём проверки гипотез."
   ]
  }
 ],
 "metadata": {
  "ExecuteTimeLog": [
   {
    "duration": 1539,
    "start_time": "2022-04-22T17:59:17.702Z"
   },
   {
    "duration": 133,
    "start_time": "2022-04-22T17:59:19.244Z"
   },
   {
    "duration": 15,
    "start_time": "2022-04-22T17:59:19.379Z"
   },
   {
    "duration": 12,
    "start_time": "2022-04-22T17:59:19.397Z"
   },
   {
    "duration": 318,
    "start_time": "2022-04-22T17:59:19.411Z"
   },
   {
    "duration": 15,
    "start_time": "2022-04-22T17:59:19.731Z"
   },
   {
    "duration": 71,
    "start_time": "2022-04-22T17:59:19.749Z"
   },
   {
    "duration": 244,
    "start_time": "2022-04-22T17:59:19.823Z"
   },
   {
    "duration": 10,
    "start_time": "2022-04-22T17:59:20.069Z"
   },
   {
    "duration": 31,
    "start_time": "2022-04-22T17:59:20.083Z"
   },
   {
    "duration": 281,
    "start_time": "2022-04-22T17:59:20.116Z"
   },
   {
    "duration": 10,
    "start_time": "2022-04-22T17:59:20.399Z"
   },
   {
    "duration": 31,
    "start_time": "2022-04-22T17:59:20.411Z"
   },
   {
    "duration": 131,
    "start_time": "2022-04-22T17:59:20.447Z"
   },
   {
    "duration": 9,
    "start_time": "2022-04-22T17:59:20.581Z"
   },
   {
    "duration": 32,
    "start_time": "2022-04-22T17:59:20.592Z"
   },
   {
    "duration": 16,
    "start_time": "2022-04-22T17:59:20.626Z"
   },
   {
    "duration": 204,
    "start_time": "2022-04-22T17:59:20.647Z"
   },
   {
    "duration": 111,
    "start_time": "2022-04-22T17:59:20.853Z"
   },
   {
    "duration": 13,
    "start_time": "2022-04-22T17:59:20.969Z"
   },
   {
    "duration": 8,
    "start_time": "2022-04-22T17:59:20.983Z"
   },
   {
    "duration": 14,
    "start_time": "2022-04-22T17:59:20.993Z"
   },
   {
    "duration": 42,
    "start_time": "2022-04-22T17:59:21.009Z"
   },
   {
    "duration": 39,
    "start_time": "2022-04-22T17:59:21.053Z"
   },
   {
    "duration": 3,
    "start_time": "2022-04-22T17:59:21.094Z"
   },
   {
    "duration": 9,
    "start_time": "2022-04-22T17:59:21.099Z"
   },
   {
    "duration": 175,
    "start_time": "2022-04-22T17:59:21.110Z"
   },
   {
    "duration": 12,
    "start_time": "2022-04-22T17:59:21.289Z"
   },
   {
    "duration": 2,
    "start_time": "2022-04-22T17:59:21.303Z"
   },
   {
    "duration": 34,
    "start_time": "2022-04-22T17:59:21.307Z"
   },
   {
    "duration": 8,
    "start_time": "2022-04-22T17:59:21.350Z"
   },
   {
    "duration": 889,
    "start_time": "2022-04-22T17:59:21.360Z"
   },
   {
    "duration": 13,
    "start_time": "2022-04-22T17:59:22.251Z"
   },
   {
    "duration": 957,
    "start_time": "2022-04-22T17:59:22.267Z"
   },
   {
    "duration": 10,
    "start_time": "2022-04-22T17:59:23.226Z"
   },
   {
    "duration": 28,
    "start_time": "2022-04-22T17:59:23.239Z"
   },
   {
    "duration": 30,
    "start_time": "2022-04-22T17:59:23.270Z"
   },
   {
    "duration": 17,
    "start_time": "2022-04-22T17:59:23.302Z"
   },
   {
    "duration": 49,
    "start_time": "2022-04-22T17:59:23.321Z"
   },
   {
    "duration": 23,
    "start_time": "2022-04-22T17:59:23.371Z"
   },
   {
    "duration": 86,
    "start_time": "2022-04-23T18:30:03.763Z"
   },
   {
    "duration": 9,
    "start_time": "2022-04-23T18:30:03.972Z"
   },
   {
    "duration": 9,
    "start_time": "2022-04-23T18:30:04.269Z"
   },
   {
    "duration": 1519,
    "start_time": "2022-04-23T18:30:07.158Z"
   },
   {
    "duration": 135,
    "start_time": "2022-04-23T18:30:08.680Z"
   },
   {
    "duration": 20,
    "start_time": "2022-04-23T18:30:08.818Z"
   },
   {
    "duration": 18,
    "start_time": "2022-04-23T18:30:08.841Z"
   },
   {
    "duration": 317,
    "start_time": "2022-04-23T18:30:09.716Z"
   },
   {
    "duration": 15,
    "start_time": "2022-04-23T18:30:10.074Z"
   },
   {
    "duration": 49,
    "start_time": "2022-04-23T18:30:10.423Z"
   },
   {
    "duration": 270,
    "start_time": "2022-04-23T18:30:11.449Z"
   },
   {
    "duration": 12,
    "start_time": "2022-04-23T18:30:11.808Z"
   },
   {
    "duration": 29,
    "start_time": "2022-04-23T18:30:12.168Z"
   },
   {
    "duration": 314,
    "start_time": "2022-04-23T18:30:13.183Z"
   },
   {
    "duration": 17,
    "start_time": "2022-04-23T18:30:13.501Z"
   },
   {
    "duration": 34,
    "start_time": "2022-04-23T18:30:13.830Z"
   },
   {
    "duration": 58,
    "start_time": "2022-04-23T18:30:14.801Z"
   },
   {
    "duration": 12,
    "start_time": "2022-04-23T18:30:15.112Z"
   },
   {
    "duration": 40,
    "start_time": "2022-04-23T18:30:16.319Z"
   },
   {
    "duration": 20,
    "start_time": "2022-04-23T18:30:16.938Z"
   },
   {
    "duration": 233,
    "start_time": "2022-04-23T18:30:17.559Z"
   },
   {
    "duration": 128,
    "start_time": "2022-04-23T18:30:18.484Z"
   },
   {
    "duration": 18,
    "start_time": "2022-04-23T18:30:19.123Z"
   },
   {
    "duration": 6,
    "start_time": "2022-04-23T18:30:19.795Z"
   },
   {
    "duration": 24,
    "start_time": "2022-04-23T18:30:20.461Z"
   },
   {
    "duration": 21,
    "start_time": "2022-04-23T18:30:20.775Z"
   },
   {
    "duration": 28,
    "start_time": "2022-04-23T18:30:21.477Z"
   },
   {
    "duration": 4,
    "start_time": "2022-04-23T18:30:21.782Z"
   },
   {
    "duration": 6,
    "start_time": "2022-04-23T18:30:22.111Z"
   },
   {
    "duration": 239,
    "start_time": "2022-04-23T18:30:22.421Z"
   },
   {
    "duration": 18,
    "start_time": "2022-04-23T18:30:23.051Z"
   },
   {
    "duration": 4,
    "start_time": "2022-04-23T18:30:24.009Z"
   },
   {
    "duration": 14,
    "start_time": "2022-04-23T18:30:24.348Z"
   },
   {
    "duration": 9,
    "start_time": "2022-04-23T18:30:25.232Z"
   },
   {
    "duration": 1201,
    "start_time": "2022-04-23T18:30:25.503Z"
   },
   {
    "duration": 9,
    "start_time": "2022-04-23T18:30:26.707Z"
   },
   {
    "duration": 1394,
    "start_time": "2022-04-23T18:30:26.907Z"
   },
   {
    "duration": 7,
    "start_time": "2022-04-23T18:30:28.704Z"
   },
   {
    "duration": 6,
    "start_time": "2022-04-23T18:30:29.000Z"
   },
   {
    "duration": 8,
    "start_time": "2022-04-23T18:30:29.606Z"
   },
   {
    "duration": 9,
    "start_time": "2022-04-23T18:30:30.799Z"
   },
   {
    "duration": 9,
    "start_time": "2022-04-23T18:30:31.068Z"
   },
   {
    "duration": 16,
    "start_time": "2022-04-23T18:30:31.637Z"
   },
   {
    "duration": 103,
    "start_time": "2022-04-23T18:34:37.170Z"
   },
   {
    "duration": 155,
    "start_time": "2022-04-23T18:40:05.067Z"
   },
   {
    "duration": 101,
    "start_time": "2022-04-23T18:40:54.652Z"
   },
   {
    "duration": 4,
    "start_time": "2022-04-23T19:46:38.786Z"
   },
   {
    "duration": 69,
    "start_time": "2022-04-23T19:46:39.267Z"
   },
   {
    "duration": 15,
    "start_time": "2022-04-23T19:46:39.734Z"
   },
   {
    "duration": 16,
    "start_time": "2022-04-23T19:46:39.924Z"
   },
   {
    "duration": 281,
    "start_time": "2022-04-23T19:46:40.500Z"
   },
   {
    "duration": 13,
    "start_time": "2022-04-23T19:46:40.784Z"
   },
   {
    "duration": 35,
    "start_time": "2022-04-23T19:46:40.859Z"
   },
   {
    "duration": 156,
    "start_time": "2022-04-23T19:46:41.372Z"
   },
   {
    "duration": 11,
    "start_time": "2022-04-23T19:46:41.543Z"
   },
   {
    "duration": 25,
    "start_time": "2022-04-23T19:46:41.714Z"
   },
   {
    "duration": 220,
    "start_time": "2022-04-23T19:46:42.234Z"
   },
   {
    "duration": 12,
    "start_time": "2022-04-23T19:46:42.457Z"
   },
   {
    "duration": 31,
    "start_time": "2022-04-23T19:46:42.619Z"
   },
   {
    "duration": 72,
    "start_time": "2022-04-23T19:46:43.179Z"
   },
   {
    "duration": 12,
    "start_time": "2022-04-23T19:46:43.433Z"
   },
   {
    "duration": 36,
    "start_time": "2022-04-23T19:46:45.010Z"
   },
   {
    "duration": 14,
    "start_time": "2022-04-23T19:46:45.858Z"
   },
   {
    "duration": 207,
    "start_time": "2022-04-23T19:46:46.762Z"
   },
   {
    "duration": 112,
    "start_time": "2022-04-23T19:46:48.758Z"
   },
   {
    "duration": 16,
    "start_time": "2022-04-23T19:50:11.474Z"
   },
   {
    "duration": 6,
    "start_time": "2022-04-23T19:50:12.384Z"
   },
   {
    "duration": 21,
    "start_time": "2022-04-23T19:50:13.263Z"
   },
   {
    "duration": 18,
    "start_time": "2022-04-23T19:50:13.957Z"
   },
   {
    "duration": 22,
    "start_time": "2022-04-23T19:50:17.935Z"
   },
   {
    "duration": 4,
    "start_time": "2022-04-23T19:50:26.233Z"
   },
   {
    "duration": 6,
    "start_time": "2022-04-23T19:50:30.063Z"
   },
   {
    "duration": 214,
    "start_time": "2022-04-23T19:50:32.452Z"
   },
   {
    "duration": 19,
    "start_time": "2022-04-23T19:50:38.616Z"
   },
   {
    "duration": 1933,
    "start_time": "2022-04-23T19:50:48.532Z"
   },
   {
    "duration": 6,
    "start_time": "2022-04-23T19:50:56.916Z"
   },
   {
    "duration": 1656,
    "start_time": "2022-04-23T19:50:57.251Z"
   },
   {
    "duration": 4,
    "start_time": "2022-04-23T19:51:06.342Z"
   },
   {
    "duration": 63,
    "start_time": "2022-04-23T19:51:07.131Z"
   },
   {
    "duration": 16,
    "start_time": "2022-04-23T19:51:07.837Z"
   },
   {
    "duration": 16,
    "start_time": "2022-04-23T19:51:08.213Z"
   },
   {
    "duration": 258,
    "start_time": "2022-04-23T19:51:09.261Z"
   },
   {
    "duration": 13,
    "start_time": "2022-04-23T19:51:09.623Z"
   },
   {
    "duration": 34,
    "start_time": "2022-04-23T19:51:09.949Z"
   },
   {
    "duration": 176,
    "start_time": "2022-04-23T19:51:10.979Z"
   },
   {
    "duration": 13,
    "start_time": "2022-04-23T19:51:11.326Z"
   },
   {
    "duration": 27,
    "start_time": "2022-04-23T19:51:11.717Z"
   },
   {
    "duration": 222,
    "start_time": "2022-04-23T19:51:12.862Z"
   },
   {
    "duration": 14,
    "start_time": "2022-04-23T19:51:13.225Z"
   },
   {
    "duration": 29,
    "start_time": "2022-04-23T19:51:13.637Z"
   },
   {
    "duration": 55,
    "start_time": "2022-04-23T19:51:14.856Z"
   },
   {
    "duration": 13,
    "start_time": "2022-04-23T19:51:15.245Z"
   },
   {
    "duration": 36,
    "start_time": "2022-04-23T19:51:17.127Z"
   },
   {
    "duration": 13,
    "start_time": "2022-04-23T19:51:18.292Z"
   },
   {
    "duration": 198,
    "start_time": "2022-04-23T19:51:19.395Z"
   },
   {
    "duration": 113,
    "start_time": "2022-04-23T19:51:20.632Z"
   },
   {
    "duration": 17,
    "start_time": "2022-04-23T19:51:22.138Z"
   },
   {
    "duration": 6,
    "start_time": "2022-04-23T19:51:22.995Z"
   },
   {
    "duration": 22,
    "start_time": "2022-04-23T19:51:23.849Z"
   },
   {
    "duration": 19,
    "start_time": "2022-04-23T19:51:25.490Z"
   },
   {
    "duration": 26,
    "start_time": "2022-04-23T19:51:27.241Z"
   },
   {
    "duration": 4,
    "start_time": "2022-04-23T19:51:27.930Z"
   },
   {
    "duration": 6,
    "start_time": "2022-04-23T19:51:28.350Z"
   },
   {
    "duration": 221,
    "start_time": "2022-04-23T19:51:29.403Z"
   },
   {
    "duration": 202,
    "start_time": "2022-04-23T19:52:20.992Z"
   },
   {
    "duration": 210,
    "start_time": "2022-04-23T19:53:14.843Z"
   },
   {
    "duration": 110,
    "start_time": "2022-04-23T19:53:29.652Z"
   },
   {
    "duration": 19,
    "start_time": "2022-04-23T19:54:31.690Z"
   },
   {
    "duration": 5,
    "start_time": "2022-04-23T19:54:33.235Z"
   },
   {
    "duration": 11,
    "start_time": "2022-04-23T19:54:33.672Z"
   },
   {
    "duration": 121,
    "start_time": "2022-04-23T19:57:29.269Z"
   },
   {
    "duration": 89,
    "start_time": "2022-04-23T20:01:37.151Z"
   },
   {
    "duration": 96,
    "start_time": "2022-04-23T20:06:58.364Z"
   },
   {
    "duration": 2075,
    "start_time": "2022-04-24T20:13:12.176Z"
   },
   {
    "duration": 74,
    "start_time": "2022-04-24T20:13:14.255Z"
   },
   {
    "duration": 23,
    "start_time": "2022-04-24T20:13:14.332Z"
   },
   {
    "duration": 11,
    "start_time": "2022-04-24T20:13:14.358Z"
   },
   {
    "duration": 28,
    "start_time": "2022-04-24T20:13:14.372Z"
   },
   {
    "duration": 244,
    "start_time": "2022-04-24T20:13:14.402Z"
   },
   {
    "duration": 12,
    "start_time": "2022-04-24T20:13:14.649Z"
   },
   {
    "duration": 158,
    "start_time": "2022-04-24T20:13:14.663Z"
   },
   {
    "duration": 51,
    "start_time": "2022-04-24T20:13:14.823Z"
   },
   {
    "duration": 158,
    "start_time": "2022-04-24T20:13:14.876Z"
   },
   {
    "duration": 8,
    "start_time": "2022-04-24T20:13:15.036Z"
   },
   {
    "duration": 63,
    "start_time": "2022-04-24T20:13:15.050Z"
   },
   {
    "duration": 46,
    "start_time": "2022-04-24T20:13:15.115Z"
   },
   {
    "duration": 208,
    "start_time": "2022-04-24T20:13:15.166Z"
   },
   {
    "duration": 12,
    "start_time": "2022-04-24T20:13:15.376Z"
   },
   {
    "duration": 80,
    "start_time": "2022-04-24T20:13:15.390Z"
   },
   {
    "duration": 26,
    "start_time": "2022-04-24T20:13:15.474Z"
   },
   {
    "duration": 93,
    "start_time": "2022-04-24T20:13:15.501Z"
   },
   {
    "duration": 8,
    "start_time": "2022-04-24T20:13:15.595Z"
   },
   {
    "duration": 11,
    "start_time": "2022-04-24T20:13:15.604Z"
   },
   {
    "duration": 28,
    "start_time": "2022-04-24T20:13:15.617Z"
   },
   {
    "duration": 32,
    "start_time": "2022-04-24T20:13:15.652Z"
   },
   {
    "duration": 204,
    "start_time": "2022-04-24T20:13:15.686Z"
   },
   {
    "duration": 114,
    "start_time": "2022-04-24T20:13:15.892Z"
   },
   {
    "duration": 15,
    "start_time": "2022-04-24T20:13:16.008Z"
   },
   {
    "duration": 4,
    "start_time": "2022-04-24T20:13:16.025Z"
   },
   {
    "duration": 41,
    "start_time": "2022-04-24T20:13:16.031Z"
   },
   {
    "duration": 29,
    "start_time": "2022-04-24T20:13:16.074Z"
   },
   {
    "duration": 14,
    "start_time": "2022-04-24T20:13:16.105Z"
   },
   {
    "duration": 3,
    "start_time": "2022-04-24T20:13:16.121Z"
   },
   {
    "duration": 5,
    "start_time": "2022-04-24T20:13:16.126Z"
   },
   {
    "duration": 174,
    "start_time": "2022-04-24T20:13:16.132Z"
   },
   {
    "duration": 14,
    "start_time": "2022-04-24T20:13:16.307Z"
   },
   {
    "duration": 4,
    "start_time": "2022-04-24T20:13:16.323Z"
   },
   {
    "duration": 29,
    "start_time": "2022-04-24T20:13:16.357Z"
   },
   {
    "duration": 10,
    "start_time": "2022-04-24T20:13:16.388Z"
   },
   {
    "duration": 1135,
    "start_time": "2022-04-24T20:13:16.401Z"
   },
   {
    "duration": 348,
    "start_time": "2022-04-24T20:13:17.538Z"
   },
   {
    "duration": 9,
    "start_time": "2022-04-24T20:13:17.889Z"
   },
   {
    "duration": 1181,
    "start_time": "2022-04-24T20:13:17.901Z"
   },
   {
    "duration": 2110,
    "start_time": "2022-04-24T20:13:19.088Z"
   },
   {
    "duration": 4,
    "start_time": "2022-04-24T20:13:21.200Z"
   },
   {
    "duration": 5,
    "start_time": "2022-04-24T20:13:21.206Z"
   },
   {
    "duration": 8,
    "start_time": "2022-04-24T20:13:21.212Z"
   },
   {
    "duration": 42,
    "start_time": "2022-04-24T20:13:21.222Z"
   },
   {
    "duration": 21,
    "start_time": "2022-04-24T20:13:21.274Z"
   },
   {
    "duration": 10,
    "start_time": "2022-04-24T20:13:21.297Z"
   },
   {
    "duration": 116,
    "start_time": "2022-04-25T20:18:14.710Z"
   },
   {
    "duration": 114,
    "start_time": "2022-04-25T20:19:27.105Z"
   },
   {
    "duration": 774,
    "start_time": "2022-04-25T20:21:00.788Z"
   },
   {
    "duration": 1354,
    "start_time": "2022-04-25T20:23:49.997Z"
   },
   {
    "duration": 78,
    "start_time": "2022-04-25T20:23:51.353Z"
   },
   {
    "duration": 19,
    "start_time": "2022-04-25T20:23:52.071Z"
   },
   {
    "duration": 8,
    "start_time": "2022-04-25T20:23:52.386Z"
   },
   {
    "duration": 12,
    "start_time": "2022-04-25T20:23:52.723Z"
   },
   {
    "duration": 210,
    "start_time": "2022-04-25T20:23:53.717Z"
   },
   {
    "duration": 10,
    "start_time": "2022-04-25T20:23:54.067Z"
   },
   {
    "duration": 121,
    "start_time": "2022-04-25T20:23:54.447Z"
   },
   {
    "duration": 26,
    "start_time": "2022-04-25T20:23:54.727Z"
   },
   {
    "duration": 138,
    "start_time": "2022-04-25T20:23:55.729Z"
   },
   {
    "duration": 8,
    "start_time": "2022-04-25T20:23:56.068Z"
   },
   {
    "duration": 56,
    "start_time": "2022-04-25T20:23:56.441Z"
   },
   {
    "duration": 19,
    "start_time": "2022-04-25T20:23:56.701Z"
   },
   {
    "duration": 233,
    "start_time": "2022-04-25T20:23:57.577Z"
   },
   {
    "duration": 11,
    "start_time": "2022-04-25T20:23:57.879Z"
   },
   {
    "duration": 81,
    "start_time": "2022-04-25T20:23:58.162Z"
   },
   {
    "duration": 24,
    "start_time": "2022-04-25T20:23:58.448Z"
   },
   {
    "duration": 75,
    "start_time": "2022-04-25T20:23:59.349Z"
   },
   {
    "duration": 10,
    "start_time": "2022-04-25T20:23:59.618Z"
   },
   {
    "duration": 12,
    "start_time": "2022-04-25T20:23:59.893Z"
   },
   {
    "duration": 37,
    "start_time": "2022-04-25T20:24:01.952Z"
   },
   {
    "duration": 13,
    "start_time": "2022-04-25T20:24:02.876Z"
   },
   {
    "duration": 148,
    "start_time": "2022-04-25T20:24:03.742Z"
   },
   {
    "duration": 79,
    "start_time": "2022-04-25T20:24:04.759Z"
   },
   {
    "duration": 13,
    "start_time": "2022-04-25T20:24:05.646Z"
   },
   {
    "duration": 5,
    "start_time": "2022-04-25T20:24:06.054Z"
   },
   {
    "duration": 15,
    "start_time": "2022-04-25T20:24:06.432Z"
   },
   {
    "duration": 12,
    "start_time": "2022-04-25T20:24:06.806Z"
   },
   {
    "duration": 14,
    "start_time": "2022-04-25T20:24:07.210Z"
   },
   {
    "duration": 3,
    "start_time": "2022-04-25T20:24:07.486Z"
   },
   {
    "duration": 4,
    "start_time": "2022-04-25T20:24:07.693Z"
   },
   {
    "duration": 135,
    "start_time": "2022-04-25T20:24:07.918Z"
   },
   {
    "duration": 12,
    "start_time": "2022-04-25T20:24:08.746Z"
   },
   {
    "duration": 3,
    "start_time": "2022-04-25T20:24:09.393Z"
   },
   {
    "duration": 9,
    "start_time": "2022-04-25T20:24:09.619Z"
   },
   {
    "duration": 8,
    "start_time": "2022-04-25T20:24:10.417Z"
   },
   {
    "duration": 1043,
    "start_time": "2022-04-25T20:24:10.787Z"
   },
   {
    "duration": 271,
    "start_time": "2022-04-25T20:24:11.833Z"
   },
   {
    "duration": 150,
    "start_time": "2022-04-25T20:24:48.940Z"
   },
   {
    "duration": 451,
    "start_time": "2022-04-25T20:25:18.797Z"
   },
   {
    "duration": 209,
    "start_time": "2022-04-25T20:26:04.109Z"
   },
   {
    "duration": 14,
    "start_time": "2022-04-25T20:26:16.052Z"
   },
   {
    "duration": 113,
    "start_time": "2022-04-25T20:26:28.050Z"
   },
   {
    "duration": 109,
    "start_time": "2022-04-25T20:26:39.367Z"
   },
   {
    "duration": 14,
    "start_time": "2022-04-25T20:26:43.108Z"
   },
   {
    "duration": 11,
    "start_time": "2022-04-25T20:26:52.076Z"
   },
   {
    "duration": 16,
    "start_time": "2022-04-25T20:27:02.591Z"
   },
   {
    "duration": 186,
    "start_time": "2022-04-25T20:27:14.818Z"
   },
   {
    "duration": 887,
    "start_time": "2022-04-25T20:27:20.334Z"
   },
   {
    "duration": 147,
    "start_time": "2022-04-25T20:27:28.688Z"
   },
   {
    "duration": 200,
    "start_time": "2022-04-25T20:27:37.749Z"
   },
   {
    "duration": 143,
    "start_time": "2022-04-25T20:27:42.958Z"
   },
   {
    "duration": 115,
    "start_time": "2022-04-25T20:28:11.937Z"
   },
   {
    "duration": 157,
    "start_time": "2022-04-25T20:28:17.301Z"
   },
   {
    "duration": 250,
    "start_time": "2022-04-25T20:28:50.868Z"
   },
   {
    "duration": 204,
    "start_time": "2022-04-25T20:28:58.837Z"
   },
   {
    "duration": 288,
    "start_time": "2022-04-25T20:29:08.573Z"
   },
   {
    "duration": 183,
    "start_time": "2022-04-25T20:29:13.058Z"
   },
   {
    "duration": 176,
    "start_time": "2022-04-25T20:29:21.293Z"
   },
   {
    "duration": 183,
    "start_time": "2022-04-25T20:29:24.690Z"
   },
   {
    "duration": 189,
    "start_time": "2022-04-25T20:30:32.638Z"
   },
   {
    "duration": 349,
    "start_time": "2022-04-25T20:30:54.449Z"
   },
   {
    "duration": 296,
    "start_time": "2022-04-25T20:31:02.789Z"
   },
   {
    "duration": 313,
    "start_time": "2022-04-25T20:31:07.152Z"
   },
   {
    "duration": 439,
    "start_time": "2022-04-25T20:31:11.971Z"
   },
   {
    "duration": 273,
    "start_time": "2022-04-25T20:31:21.321Z"
   },
   {
    "duration": 239,
    "start_time": "2022-04-25T20:31:27.700Z"
   },
   {
    "duration": 277,
    "start_time": "2022-04-25T20:31:32.453Z"
   },
   {
    "duration": 242,
    "start_time": "2022-04-25T20:31:36.398Z"
   },
   {
    "duration": 298,
    "start_time": "2022-04-25T20:32:26.742Z"
   },
   {
    "duration": 295,
    "start_time": "2022-04-25T20:32:29.968Z"
   },
   {
    "duration": 288,
    "start_time": "2022-04-25T20:32:33.356Z"
   },
   {
    "duration": 326,
    "start_time": "2022-04-25T20:42:04.206Z"
   },
   {
    "duration": 347,
    "start_time": "2022-04-25T20:42:33.778Z"
   },
   {
    "duration": 641,
    "start_time": "2022-04-25T20:42:51.501Z"
   },
   {
    "duration": 504,
    "start_time": "2022-04-25T20:43:09.563Z"
   },
   {
    "duration": 497,
    "start_time": "2022-04-25T20:43:20.113Z"
   },
   {
    "duration": 496,
    "start_time": "2022-04-25T20:43:39.331Z"
   },
   {
    "duration": 348,
    "start_time": "2022-04-25T20:43:57.676Z"
   },
   {
    "duration": 371,
    "start_time": "2022-04-25T20:44:06.680Z"
   },
   {
    "duration": 505,
    "start_time": "2022-04-25T20:44:12.430Z"
   },
   {
    "duration": 588,
    "start_time": "2022-04-25T20:44:17.726Z"
   },
   {
    "duration": 460,
    "start_time": "2022-04-25T20:44:33.525Z"
   },
   {
    "duration": 349,
    "start_time": "2022-04-25T20:44:39.583Z"
   },
   {
    "duration": 385,
    "start_time": "2022-04-25T20:44:45.756Z"
   },
   {
    "duration": 320,
    "start_time": "2022-04-25T20:45:08.798Z"
   },
   {
    "duration": 404,
    "start_time": "2022-04-25T20:45:12.907Z"
   },
   {
    "duration": 485,
    "start_time": "2022-04-25T20:45:26.961Z"
   },
   {
    "duration": 398,
    "start_time": "2022-04-25T20:47:00.343Z"
   },
   {
    "duration": 152,
    "start_time": "2022-04-25T20:47:20.423Z"
   },
   {
    "duration": 388,
    "start_time": "2022-04-25T20:47:31.356Z"
   },
   {
    "duration": 342,
    "start_time": "2022-04-25T20:47:51.307Z"
   },
   {
    "duration": 375,
    "start_time": "2022-04-25T20:47:58.083Z"
   },
   {
    "duration": 398,
    "start_time": "2022-04-25T20:48:03.168Z"
   },
   {
    "duration": 394,
    "start_time": "2022-04-25T20:48:07.662Z"
   },
   {
    "duration": 413,
    "start_time": "2022-04-25T20:48:25.541Z"
   },
   {
    "duration": 585,
    "start_time": "2022-04-25T20:48:32.678Z"
   },
   {
    "duration": 421,
    "start_time": "2022-04-25T20:48:37.064Z"
   },
   {
    "duration": 363,
    "start_time": "2022-04-25T20:48:41.399Z"
   },
   {
    "duration": 405,
    "start_time": "2022-04-25T20:48:43.558Z"
   },
   {
    "duration": 399,
    "start_time": "2022-04-25T20:49:19.569Z"
   },
   {
    "duration": 416,
    "start_time": "2022-04-25T20:49:47.040Z"
   },
   {
    "duration": 375,
    "start_time": "2022-04-25T20:50:18.380Z"
   },
   {
    "duration": 376,
    "start_time": "2022-04-25T20:50:42.771Z"
   },
   {
    "duration": 340,
    "start_time": "2022-04-25T20:50:59.607Z"
   },
   {
    "duration": 165,
    "start_time": "2022-04-25T20:51:31.315Z"
   },
   {
    "duration": 380,
    "start_time": "2022-04-25T20:51:39.154Z"
   },
   {
    "duration": 579,
    "start_time": "2022-04-25T20:51:47.661Z"
   },
   {
    "duration": 392,
    "start_time": "2022-04-25T20:52:46.043Z"
   },
   {
    "duration": 347,
    "start_time": "2022-04-25T20:52:53.794Z"
   },
   {
    "duration": 378,
    "start_time": "2022-04-25T20:52:58.845Z"
   },
   {
    "duration": 418,
    "start_time": "2022-04-25T20:54:32.779Z"
   },
   {
    "duration": 364,
    "start_time": "2022-04-25T20:54:39.123Z"
   },
   {
    "duration": 376,
    "start_time": "2022-04-25T20:54:53.758Z"
   },
   {
    "duration": 383,
    "start_time": "2022-04-25T20:55:04.773Z"
   },
   {
    "duration": 392,
    "start_time": "2022-04-25T20:55:10.636Z"
   },
   {
    "duration": 351,
    "start_time": "2022-04-25T20:55:18.096Z"
   },
   {
    "duration": 409,
    "start_time": "2022-04-25T20:56:02.455Z"
   },
   {
    "duration": 408,
    "start_time": "2022-04-25T20:56:07.853Z"
   },
   {
    "duration": 626,
    "start_time": "2022-04-25T20:56:19.985Z"
   },
   {
    "duration": 433,
    "start_time": "2022-04-25T20:57:47.261Z"
   },
   {
    "duration": 420,
    "start_time": "2022-04-25T21:02:02.604Z"
   },
   {
    "duration": 432,
    "start_time": "2022-04-25T21:03:06.667Z"
   },
   {
    "duration": 399,
    "start_time": "2022-04-25T21:03:12.998Z"
   },
   {
    "duration": 403,
    "start_time": "2022-04-25T21:03:19.399Z"
   },
   {
    "duration": 392,
    "start_time": "2022-04-25T21:03:54.412Z"
   },
   {
    "duration": 386,
    "start_time": "2022-04-25T21:05:34.631Z"
   },
   {
    "duration": 358,
    "start_time": "2022-04-25T21:06:43.519Z"
   },
   {
    "duration": 400,
    "start_time": "2022-04-25T21:07:28.037Z"
   },
   {
    "duration": 122,
    "start_time": "2022-04-25T21:12:32.632Z"
   },
   {
    "duration": 345,
    "start_time": "2022-04-25T21:18:00.494Z"
   }
  ],
  "kernelspec": {
   "display_name": "Python 3 (ipykernel)",
   "language": "python",
   "name": "python3"
  },
  "language_info": {
   "codemirror_mode": {
    "name": "ipython",
    "version": 3
   },
   "file_extension": ".py",
   "mimetype": "text/x-python",
   "name": "python",
   "nbconvert_exporter": "python",
   "pygments_lexer": "ipython3",
   "version": "3.9.10"
  },
  "toc": {
   "base_numbering": 1,
   "nav_menu": {},
   "number_sections": true,
   "sideBar": true,
   "skip_h1_title": true,
   "title_cell": "Содержание",
   "title_sidebar": "Contents",
   "toc_cell": false,
   "toc_position": {},
   "toc_section_display": true,
   "toc_window_display": false
  }
 },
 "nbformat": 4,
 "nbformat_minor": 5
}
