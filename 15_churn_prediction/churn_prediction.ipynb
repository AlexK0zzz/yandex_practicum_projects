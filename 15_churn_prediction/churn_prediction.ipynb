{
 "cells": [
  {
   "cell_type": "markdown",
   "metadata": {},
   "source": [
    "# Прогнозирование оттока клиентов телеком-компании"
   ]
  },
  {
   "cell_type": "markdown",
   "metadata": {},
   "source": [
    "Оператор связи для минимизации убытков хочет прогнозировать отток клиентов. Если обнаружится, что клиент собирается уходить, то ему будут предложены промокоды или специальные условия, чтобы удержать его.\n",
    "\n",
    "**Цель работы** -- построение модели, которая будет предсказывать уход клиента.\n",
    "\n",
    "**Входные данные** -- информация о клиентах, данные об их договорах и используемых услугах (на 01.02.2020).\n",
    "\n",
    "**План проекта**\n",
    " 1. **Предобработка данных** (проверка данных на пропуски/дубликаты/аномалии и исправление обнаруженных ошибок)\n",
    " 0. **Подготовка данных** (объединение таблиц, генерация новых признаков и/или удаление лишних)\n",
    " 0. **Исследовательский анализ данных** (построение распределений признаков, определение закономерностей)\n",
    " 0. **Обучение и сравнение моделей** (выбор нескольких моделей, определение оптимальных гиперпараметров и обучение на кросс-валидации, выбор лучшей модели)\n",
    " 0. **Тестирование лучшей модели**\n",
    " 0. **Составление отчёта** (краткое описание предпринятых шагов, обозначение возникших проблем и их решений, представление полученных результатов)"
   ]
  },
  {
   "cell_type": "markdown",
   "metadata": {},
   "source": [
    "Перед началом работы проведём предварительный анализ имеющихся данных."
   ]
  },
  {
   "cell_type": "code",
   "execution_count": 1,
   "metadata": {},
   "outputs": [],
   "source": [
    "import pandas as pd\n",
    "import numpy as np"
   ]
  },
  {
   "cell_type": "markdown",
   "metadata": {},
   "source": [
    "*Информация о договорах*"
   ]
  },
  {
   "cell_type": "code",
   "execution_count": 2,
   "metadata": {},
   "outputs": [],
   "source": [
    "try:\n",
    "    contract = pd.read_csv('final_provider/contract.csv')\n",
    "except:\n",
    "    contract = pd.read_csv('/datasets/final_provider/contract.csv')"
   ]
  },
  {
   "cell_type": "code",
   "execution_count": 3,
   "metadata": {},
   "outputs": [
    {
     "name": "stdout",
     "output_type": "stream",
     "text": [
      "<class 'pandas.core.frame.DataFrame'>\n",
      "RangeIndex: 7043 entries, 0 to 7042\n",
      "Data columns (total 8 columns):\n",
      " #   Column            Non-Null Count  Dtype  \n",
      "---  ------            --------------  -----  \n",
      " 0   customerID        7043 non-null   object \n",
      " 1   BeginDate         7043 non-null   object \n",
      " 2   EndDate           7043 non-null   object \n",
      " 3   Type              7043 non-null   object \n",
      " 4   PaperlessBilling  7043 non-null   object \n",
      " 5   PaymentMethod     7043 non-null   object \n",
      " 6   MonthlyCharges    7043 non-null   float64\n",
      " 7   TotalCharges      7043 non-null   object \n",
      "dtypes: float64(1), object(7)\n",
      "memory usage: 440.3+ KB\n"
     ]
    }
   ],
   "source": [
    "contract.info()"
   ]
  },
  {
   "cell_type": "code",
   "execution_count": 4,
   "metadata": {},
   "outputs": [
    {
     "data": {
      "text/html": [
       "<div>\n",
       "<style scoped>\n",
       "    .dataframe tbody tr th:only-of-type {\n",
       "        vertical-align: middle;\n",
       "    }\n",
       "\n",
       "    .dataframe tbody tr th {\n",
       "        vertical-align: top;\n",
       "    }\n",
       "\n",
       "    .dataframe thead th {\n",
       "        text-align: right;\n",
       "    }\n",
       "</style>\n",
       "<table border=\"1\" class=\"dataframe\">\n",
       "  <thead>\n",
       "    <tr style=\"text-align: right;\">\n",
       "      <th></th>\n",
       "      <th>customerID</th>\n",
       "      <th>BeginDate</th>\n",
       "      <th>EndDate</th>\n",
       "      <th>Type</th>\n",
       "      <th>PaperlessBilling</th>\n",
       "      <th>PaymentMethod</th>\n",
       "      <th>MonthlyCharges</th>\n",
       "      <th>TotalCharges</th>\n",
       "    </tr>\n",
       "  </thead>\n",
       "  <tbody>\n",
       "    <tr>\n",
       "      <th>0</th>\n",
       "      <td>7590-VHVEG</td>\n",
       "      <td>2020-01-01</td>\n",
       "      <td>No</td>\n",
       "      <td>Month-to-month</td>\n",
       "      <td>Yes</td>\n",
       "      <td>Electronic check</td>\n",
       "      <td>29.85</td>\n",
       "      <td>29.85</td>\n",
       "    </tr>\n",
       "    <tr>\n",
       "      <th>1</th>\n",
       "      <td>5575-GNVDE</td>\n",
       "      <td>2017-04-01</td>\n",
       "      <td>No</td>\n",
       "      <td>One year</td>\n",
       "      <td>No</td>\n",
       "      <td>Mailed check</td>\n",
       "      <td>56.95</td>\n",
       "      <td>1889.5</td>\n",
       "    </tr>\n",
       "    <tr>\n",
       "      <th>2</th>\n",
       "      <td>3668-QPYBK</td>\n",
       "      <td>2019-10-01</td>\n",
       "      <td>2019-12-01 00:00:00</td>\n",
       "      <td>Month-to-month</td>\n",
       "      <td>Yes</td>\n",
       "      <td>Mailed check</td>\n",
       "      <td>53.85</td>\n",
       "      <td>108.15</td>\n",
       "    </tr>\n",
       "    <tr>\n",
       "      <th>3</th>\n",
       "      <td>7795-CFOCW</td>\n",
       "      <td>2016-05-01</td>\n",
       "      <td>No</td>\n",
       "      <td>One year</td>\n",
       "      <td>No</td>\n",
       "      <td>Bank transfer (automatic)</td>\n",
       "      <td>42.30</td>\n",
       "      <td>1840.75</td>\n",
       "    </tr>\n",
       "    <tr>\n",
       "      <th>4</th>\n",
       "      <td>9237-HQITU</td>\n",
       "      <td>2019-09-01</td>\n",
       "      <td>2019-11-01 00:00:00</td>\n",
       "      <td>Month-to-month</td>\n",
       "      <td>Yes</td>\n",
       "      <td>Electronic check</td>\n",
       "      <td>70.70</td>\n",
       "      <td>151.65</td>\n",
       "    </tr>\n",
       "  </tbody>\n",
       "</table>\n",
       "</div>"
      ],
      "text/plain": [
       "   customerID   BeginDate              EndDate            Type  \\\n",
       "0  7590-VHVEG  2020-01-01                   No  Month-to-month   \n",
       "1  5575-GNVDE  2017-04-01                   No        One year   \n",
       "2  3668-QPYBK  2019-10-01  2019-12-01 00:00:00  Month-to-month   \n",
       "3  7795-CFOCW  2016-05-01                   No        One year   \n",
       "4  9237-HQITU  2019-09-01  2019-11-01 00:00:00  Month-to-month   \n",
       "\n",
       "  PaperlessBilling              PaymentMethod  MonthlyCharges TotalCharges  \n",
       "0              Yes           Electronic check           29.85        29.85  \n",
       "1               No               Mailed check           56.95       1889.5  \n",
       "2              Yes               Mailed check           53.85       108.15  \n",
       "3               No  Bank transfer (automatic)           42.30      1840.75  \n",
       "4              Yes           Electronic check           70.70       151.65  "
      ]
     },
     "execution_count": 4,
     "metadata": {},
     "output_type": "execute_result"
    }
   ],
   "source": [
    "contract.head()"
   ]
  },
  {
   "cell_type": "markdown",
   "metadata": {},
   "source": [
    "В таблице 8 столбцов с различными типами данных:\n",
    " - `customerID` — код клиента;\n",
    " - `BeginDate` — дата начала пользования услугами;\n",
    " - `EndDate` — дата окончания пользования услугами;\n",
    " - `Type` — тип оплаты;\n",
    " - `PaperlessBilling` — безналичный расчёт;\n",
    " - `PaymentMethod` — способ оплаты;\n",
    " - `MonthlyCharges` — ежемесячные траты на услуги;\n",
    " - `TotalCharges` — общие траты на услуги.\n",
    " \n",
    "На первый взгляд пропусков нет (количество строк во всех столбцах совпадает). Однако можно заметить, что тип `TotalCharges` не является числовым. Т.е. некоторые значения не удалось преобразовать в число. Выясним, с чем это связано."
   ]
  },
  {
   "cell_type": "code",
   "execution_count": 5,
   "metadata": {},
   "outputs": [
    {
     "name": "stdout",
     "output_type": "stream",
     "text": [
      "11\n",
      "[' ']\n",
      "['2020-02-01']\n"
     ]
    }
   ],
   "source": [
    "mask = pd.to_numeric(contract['TotalCharges'], errors='coerce').isna()\n",
    "print(mask.sum())\n",
    "print(contract[mask]['TotalCharges'].unique())\n",
    "print(contract[mask]['BeginDate'].unique())"
   ]
  },
  {
   "cell_type": "markdown",
   "metadata": {},
   "source": [
    "Видим 11 пропусков, которые обозначены пробелами. Причём все эти записи для даты начала пользования услугами 01.02.2020. Это именно дата актуализации имеющихся данных. Таким образом, пропуски вполне объяснимы -- они наблюдаются у новых пользователей. Эти пропуски в дальнейшей предобработке можно будет заполнить месячной платой из столбца `MonthlyCharges`."
   ]
  },
  {
   "cell_type": "markdown",
   "metadata": {},
   "source": [
    "*Данные о клиентах*"
   ]
  },
  {
   "cell_type": "code",
   "execution_count": 6,
   "metadata": {},
   "outputs": [],
   "source": [
    "try:\n",
    "    personal = pd.read_csv('final_provider/personal.csv')\n",
    "except:\n",
    "    personal = pd.read_csv('/datasets/final_provider/personal.csv')"
   ]
  },
  {
   "cell_type": "code",
   "execution_count": 7,
   "metadata": {
    "scrolled": true
   },
   "outputs": [
    {
     "name": "stdout",
     "output_type": "stream",
     "text": [
      "<class 'pandas.core.frame.DataFrame'>\n",
      "RangeIndex: 7043 entries, 0 to 7042\n",
      "Data columns (total 5 columns):\n",
      " #   Column         Non-Null Count  Dtype \n",
      "---  ------         --------------  ----- \n",
      " 0   customerID     7043 non-null   object\n",
      " 1   gender         7043 non-null   object\n",
      " 2   SeniorCitizen  7043 non-null   int64 \n",
      " 3   Partner        7043 non-null   object\n",
      " 4   Dependents     7043 non-null   object\n",
      "dtypes: int64(1), object(4)\n",
      "memory usage: 275.2+ KB\n"
     ]
    }
   ],
   "source": [
    "personal.info()"
   ]
  },
  {
   "cell_type": "code",
   "execution_count": 8,
   "metadata": {},
   "outputs": [
    {
     "data": {
      "text/html": [
       "<div>\n",
       "<style scoped>\n",
       "    .dataframe tbody tr th:only-of-type {\n",
       "        vertical-align: middle;\n",
       "    }\n",
       "\n",
       "    .dataframe tbody tr th {\n",
       "        vertical-align: top;\n",
       "    }\n",
       "\n",
       "    .dataframe thead th {\n",
       "        text-align: right;\n",
       "    }\n",
       "</style>\n",
       "<table border=\"1\" class=\"dataframe\">\n",
       "  <thead>\n",
       "    <tr style=\"text-align: right;\">\n",
       "      <th></th>\n",
       "      <th>customerID</th>\n",
       "      <th>gender</th>\n",
       "      <th>SeniorCitizen</th>\n",
       "      <th>Partner</th>\n",
       "      <th>Dependents</th>\n",
       "    </tr>\n",
       "  </thead>\n",
       "  <tbody>\n",
       "    <tr>\n",
       "      <th>0</th>\n",
       "      <td>7590-VHVEG</td>\n",
       "      <td>Female</td>\n",
       "      <td>0</td>\n",
       "      <td>Yes</td>\n",
       "      <td>No</td>\n",
       "    </tr>\n",
       "    <tr>\n",
       "      <th>1</th>\n",
       "      <td>5575-GNVDE</td>\n",
       "      <td>Male</td>\n",
       "      <td>0</td>\n",
       "      <td>No</td>\n",
       "      <td>No</td>\n",
       "    </tr>\n",
       "    <tr>\n",
       "      <th>2</th>\n",
       "      <td>3668-QPYBK</td>\n",
       "      <td>Male</td>\n",
       "      <td>0</td>\n",
       "      <td>No</td>\n",
       "      <td>No</td>\n",
       "    </tr>\n",
       "    <tr>\n",
       "      <th>3</th>\n",
       "      <td>7795-CFOCW</td>\n",
       "      <td>Male</td>\n",
       "      <td>0</td>\n",
       "      <td>No</td>\n",
       "      <td>No</td>\n",
       "    </tr>\n",
       "    <tr>\n",
       "      <th>4</th>\n",
       "      <td>9237-HQITU</td>\n",
       "      <td>Female</td>\n",
       "      <td>0</td>\n",
       "      <td>No</td>\n",
       "      <td>No</td>\n",
       "    </tr>\n",
       "  </tbody>\n",
       "</table>\n",
       "</div>"
      ],
      "text/plain": [
       "   customerID  gender  SeniorCitizen Partner Dependents\n",
       "0  7590-VHVEG  Female              0     Yes         No\n",
       "1  5575-GNVDE    Male              0      No         No\n",
       "2  3668-QPYBK    Male              0      No         No\n",
       "3  7795-CFOCW    Male              0      No         No\n",
       "4  9237-HQITU  Female              0      No         No"
      ]
     },
     "execution_count": 8,
     "metadata": {},
     "output_type": "execute_result"
    }
   ],
   "source": [
    "personal.head()"
   ]
  },
  {
   "cell_type": "markdown",
   "metadata": {},
   "source": [
    "Таблица содержит 5 столбцов:\n",
    " - `customerID` — код клиента;\n",
    " - `gender` — пол клиента;\n",
    " - `SeniorCitizen` — пенсионный статус;\n",
    " - `Partner` — наличие супруга(-и);\n",
    " - `Dependents` — наличие иждивенцев.\n",
    " \n",
    "Явных пропусков не обнаружено. Для удобства и единообразия можно будет преобразовать значения в `SeniorCitizen` из `0/1` в `No/Yes`. "
   ]
  },
  {
   "cell_type": "markdown",
   "metadata": {},
   "source": [
    "*Интернет-услуги*"
   ]
  },
  {
   "cell_type": "code",
   "execution_count": 9,
   "metadata": {},
   "outputs": [],
   "source": [
    "try:\n",
    "    internet = pd.read_csv('final_provider/internet.csv')\n",
    "except:\n",
    "    internet = pd.read_csv('/datasets/final_provider/internet.csv')"
   ]
  },
  {
   "cell_type": "code",
   "execution_count": 10,
   "metadata": {},
   "outputs": [
    {
     "name": "stdout",
     "output_type": "stream",
     "text": [
      "<class 'pandas.core.frame.DataFrame'>\n",
      "RangeIndex: 5517 entries, 0 to 5516\n",
      "Data columns (total 8 columns):\n",
      " #   Column            Non-Null Count  Dtype \n",
      "---  ------            --------------  ----- \n",
      " 0   customerID        5517 non-null   object\n",
      " 1   InternetService   5517 non-null   object\n",
      " 2   OnlineSecurity    5517 non-null   object\n",
      " 3   OnlineBackup      5517 non-null   object\n",
      " 4   DeviceProtection  5517 non-null   object\n",
      " 5   TechSupport       5517 non-null   object\n",
      " 6   StreamingTV       5517 non-null   object\n",
      " 7   StreamingMovies   5517 non-null   object\n",
      "dtypes: object(8)\n",
      "memory usage: 344.9+ KB\n"
     ]
    }
   ],
   "source": [
    "internet.info()"
   ]
  },
  {
   "cell_type": "code",
   "execution_count": 11,
   "metadata": {},
   "outputs": [
    {
     "data": {
      "text/html": [
       "<div>\n",
       "<style scoped>\n",
       "    .dataframe tbody tr th:only-of-type {\n",
       "        vertical-align: middle;\n",
       "    }\n",
       "\n",
       "    .dataframe tbody tr th {\n",
       "        vertical-align: top;\n",
       "    }\n",
       "\n",
       "    .dataframe thead th {\n",
       "        text-align: right;\n",
       "    }\n",
       "</style>\n",
       "<table border=\"1\" class=\"dataframe\">\n",
       "  <thead>\n",
       "    <tr style=\"text-align: right;\">\n",
       "      <th></th>\n",
       "      <th>customerID</th>\n",
       "      <th>InternetService</th>\n",
       "      <th>OnlineSecurity</th>\n",
       "      <th>OnlineBackup</th>\n",
       "      <th>DeviceProtection</th>\n",
       "      <th>TechSupport</th>\n",
       "      <th>StreamingTV</th>\n",
       "      <th>StreamingMovies</th>\n",
       "    </tr>\n",
       "  </thead>\n",
       "  <tbody>\n",
       "    <tr>\n",
       "      <th>0</th>\n",
       "      <td>7590-VHVEG</td>\n",
       "      <td>DSL</td>\n",
       "      <td>No</td>\n",
       "      <td>Yes</td>\n",
       "      <td>No</td>\n",
       "      <td>No</td>\n",
       "      <td>No</td>\n",
       "      <td>No</td>\n",
       "    </tr>\n",
       "    <tr>\n",
       "      <th>1</th>\n",
       "      <td>5575-GNVDE</td>\n",
       "      <td>DSL</td>\n",
       "      <td>Yes</td>\n",
       "      <td>No</td>\n",
       "      <td>Yes</td>\n",
       "      <td>No</td>\n",
       "      <td>No</td>\n",
       "      <td>No</td>\n",
       "    </tr>\n",
       "    <tr>\n",
       "      <th>2</th>\n",
       "      <td>3668-QPYBK</td>\n",
       "      <td>DSL</td>\n",
       "      <td>Yes</td>\n",
       "      <td>Yes</td>\n",
       "      <td>No</td>\n",
       "      <td>No</td>\n",
       "      <td>No</td>\n",
       "      <td>No</td>\n",
       "    </tr>\n",
       "    <tr>\n",
       "      <th>3</th>\n",
       "      <td>7795-CFOCW</td>\n",
       "      <td>DSL</td>\n",
       "      <td>Yes</td>\n",
       "      <td>No</td>\n",
       "      <td>Yes</td>\n",
       "      <td>Yes</td>\n",
       "      <td>No</td>\n",
       "      <td>No</td>\n",
       "    </tr>\n",
       "    <tr>\n",
       "      <th>4</th>\n",
       "      <td>9237-HQITU</td>\n",
       "      <td>Fiber optic</td>\n",
       "      <td>No</td>\n",
       "      <td>No</td>\n",
       "      <td>No</td>\n",
       "      <td>No</td>\n",
       "      <td>No</td>\n",
       "      <td>No</td>\n",
       "    </tr>\n",
       "  </tbody>\n",
       "</table>\n",
       "</div>"
      ],
      "text/plain": [
       "   customerID InternetService OnlineSecurity OnlineBackup DeviceProtection  \\\n",
       "0  7590-VHVEG             DSL             No          Yes               No   \n",
       "1  5575-GNVDE             DSL            Yes           No              Yes   \n",
       "2  3668-QPYBK             DSL            Yes          Yes               No   \n",
       "3  7795-CFOCW             DSL            Yes           No              Yes   \n",
       "4  9237-HQITU     Fiber optic             No           No               No   \n",
       "\n",
       "  TechSupport StreamingTV StreamingMovies  \n",
       "0          No          No              No  \n",
       "1          No          No              No  \n",
       "2          No          No              No  \n",
       "3         Yes          No              No  \n",
       "4          No          No              No  "
      ]
     },
     "execution_count": 11,
     "metadata": {},
     "output_type": "execute_result"
    }
   ],
   "source": [
    "internet.head()"
   ]
  },
  {
   "cell_type": "markdown",
   "metadata": {},
   "source": [
    "В таблице 8 столбцов с различными типами данных:\n",
    " - `customerID` — код клиента;\n",
    " - `InternetService` — тип подключения;\n",
    " - `OnlineSecurity` — блокировка небезопасных сайтов;\n",
    " - `OnlineBackup` — резервное копирвоание;\n",
    " - `DeviceProtection` — антивирус;\n",
    " - `TechSupport` — техническая поддержка;\n",
    " - `StreamingTV` — стриминговое телевидение;\n",
    " - `StreamingMovies` — каталог фильмов.\n",
    " \n",
    "В целом выглядит так, что всё в порядке. Но бросается в глаза отличие числа записей от количества в первых двух файлах. Вероятно, это объясняется тем, что не все пользователи используют интернет."
   ]
  },
  {
   "cell_type": "markdown",
   "metadata": {},
   "source": [
    "*Услуги телефонной связи*"
   ]
  },
  {
   "cell_type": "code",
   "execution_count": 12,
   "metadata": {},
   "outputs": [],
   "source": [
    "try:\n",
    "    phone = pd.read_csv('final_provider/phone.csv')\n",
    "except:\n",
    "    phone = pd.read_csv('/datasets/final_provider/phone.csv')"
   ]
  },
  {
   "cell_type": "code",
   "execution_count": 13,
   "metadata": {},
   "outputs": [
    {
     "name": "stdout",
     "output_type": "stream",
     "text": [
      "<class 'pandas.core.frame.DataFrame'>\n",
      "RangeIndex: 6361 entries, 0 to 6360\n",
      "Data columns (total 2 columns):\n",
      " #   Column         Non-Null Count  Dtype \n",
      "---  ------         --------------  ----- \n",
      " 0   customerID     6361 non-null   object\n",
      " 1   MultipleLines  6361 non-null   object\n",
      "dtypes: object(2)\n",
      "memory usage: 99.5+ KB\n"
     ]
    }
   ],
   "source": [
    "phone.info()"
   ]
  },
  {
   "cell_type": "code",
   "execution_count": 14,
   "metadata": {},
   "outputs": [
    {
     "data": {
      "text/html": [
       "<div>\n",
       "<style scoped>\n",
       "    .dataframe tbody tr th:only-of-type {\n",
       "        vertical-align: middle;\n",
       "    }\n",
       "\n",
       "    .dataframe tbody tr th {\n",
       "        vertical-align: top;\n",
       "    }\n",
       "\n",
       "    .dataframe thead th {\n",
       "        text-align: right;\n",
       "    }\n",
       "</style>\n",
       "<table border=\"1\" class=\"dataframe\">\n",
       "  <thead>\n",
       "    <tr style=\"text-align: right;\">\n",
       "      <th></th>\n",
       "      <th>customerID</th>\n",
       "      <th>MultipleLines</th>\n",
       "    </tr>\n",
       "  </thead>\n",
       "  <tbody>\n",
       "    <tr>\n",
       "      <th>0</th>\n",
       "      <td>5575-GNVDE</td>\n",
       "      <td>No</td>\n",
       "    </tr>\n",
       "    <tr>\n",
       "      <th>1</th>\n",
       "      <td>3668-QPYBK</td>\n",
       "      <td>No</td>\n",
       "    </tr>\n",
       "    <tr>\n",
       "      <th>2</th>\n",
       "      <td>9237-HQITU</td>\n",
       "      <td>No</td>\n",
       "    </tr>\n",
       "    <tr>\n",
       "      <th>3</th>\n",
       "      <td>9305-CDSKC</td>\n",
       "      <td>Yes</td>\n",
       "    </tr>\n",
       "    <tr>\n",
       "      <th>4</th>\n",
       "      <td>1452-KIOVK</td>\n",
       "      <td>Yes</td>\n",
       "    </tr>\n",
       "  </tbody>\n",
       "</table>\n",
       "</div>"
      ],
      "text/plain": [
       "   customerID MultipleLines\n",
       "0  5575-GNVDE            No\n",
       "1  3668-QPYBK            No\n",
       "2  9237-HQITU            No\n",
       "3  9305-CDSKC           Yes\n",
       "4  1452-KIOVK           Yes"
      ]
     },
     "execution_count": 14,
     "metadata": {},
     "output_type": "execute_result"
    }
   ],
   "source": [
    "phone.head()"
   ]
  },
  {
   "cell_type": "markdown",
   "metadata": {},
   "source": [
    "Таблица всего содержит 2 столбца:\n",
    " - `customerID` — код клиента;\n",
    " - `MultipleLines` — подключение телефона к нескольким линиям.\n",
    " \n",
    "Так же, как и для данных по интернету, наблюдается отличие числа записей от числа договоров, т.е. не все клиенты пользуются телефонной связью."
   ]
  },
  {
   "cell_type": "markdown",
   "metadata": {},
   "source": [
    "**Выводы**\n",
    "\n",
    "После первичного ознакомления с данными можно заключить следующее:\n",
    " - необходимо изменить названия столбцов во всех таблицах для соответствия стилю;\n",
    " - необходимо обработать пропуски в таблице `contract`;\n",
    " - т.к. количество записей в разных таблицах отличается, то после объединения таблиц необходимо будет заполнить образовавшиеся пропуски;\n",
    " - явно выделенного целевого признака нет, но его можно восстановить по столбцу `EndDate` таблицы `contract`;\n",
    " - признаки `BeginDate` и `EndDate` можно будет заменить на числовой признак (предварительно, на число дней или месяцев)."
   ]
  },
  {
   "cell_type": "markdown",
   "metadata": {},
   "source": [
    "Перейдём к основной части проекта. Для начала импортируем все необходимые библиотеки, а также зафиксируем random_state. "
   ]
  },
  {
   "cell_type": "code",
   "execution_count": 15,
   "metadata": {},
   "outputs": [],
   "source": [
    "# если этого модуля нет, нужно раскомментировать следующую строчку и запустить\n",
    "#pip install catboost"
   ]
  },
  {
   "cell_type": "code",
   "execution_count": 16,
   "metadata": {},
   "outputs": [],
   "source": [
    "# если этого модуля нет, нужно раскомментировать следующую строчку и запустить\n",
    "#pip install phik"
   ]
  },
  {
   "cell_type": "code",
   "execution_count": 17,
   "metadata": {},
   "outputs": [],
   "source": [
    "# импорт необходимых библиотек\n",
    "from matplotlib import pyplot as plt\n",
    "import seaborn as sns\n",
    "\n",
    "from sklearn.compose import ColumnTransformer\n",
    "from sklearn.ensemble import RandomForestClassifier\n",
    "from sklearn.linear_model import LogisticRegression\n",
    "from sklearn.metrics import accuracy_score, roc_auc_score, roc_curve\n",
    "from sklearn.model_selection import train_test_split, GridSearchCV, RandomizedSearchCV\n",
    "from sklearn.pipeline import Pipeline\n",
    "from sklearn.preprocessing import StandardScaler, OneHotEncoder\n",
    "\n",
    "from catboost import CatBoostClassifier\n",
    "import phik\n",
    "from phik.report import plot_correlation_matrix"
   ]
  },
  {
   "cell_type": "code",
   "execution_count": 18,
   "metadata": {},
   "outputs": [],
   "source": [
    "RANDOM_STATE = 171022"
   ]
  },
  {
   "cell_type": "markdown",
   "metadata": {},
   "source": [
    "## Предобработка данных"
   ]
  },
  {
   "cell_type": "markdown",
   "metadata": {},
   "source": [
    "### Переименование столбцов"
   ]
  },
  {
   "cell_type": "markdown",
   "metadata": {},
   "source": [
    "Приведём названия столбцов в соответствие с общепринятым стилем и для удобства дальенейшей работы с данными."
   ]
  },
  {
   "cell_type": "code",
   "execution_count": 19,
   "metadata": {},
   "outputs": [
    {
     "data": {
      "text/plain": [
       "Index(['customer_id', 'begin_date', 'end_date', 'type', 'paperless_billing',\n",
       "       'payment_method', 'monthly_charges', 'total_charges'],\n",
       "      dtype='object')"
      ]
     },
     "execution_count": 19,
     "metadata": {},
     "output_type": "execute_result"
    }
   ],
   "source": [
    "contract.rename(columns={'customerID': 'customer_id',\n",
    "                         'BeginDate': 'begin_date',\n",
    "                         'EndDate': 'end_date',\n",
    "                         'Type': 'type',\n",
    "                         'PaperlessBilling': 'paperless_billing',\n",
    "                         'PaymentMethod': 'payment_method',\n",
    "                         'MonthlyCharges': 'monthly_charges',\n",
    "                         'TotalCharges': 'total_charges'},\n",
    "                inplace=True)\n",
    "contract.columns"
   ]
  },
  {
   "cell_type": "code",
   "execution_count": 20,
   "metadata": {},
   "outputs": [
    {
     "data": {
      "text/plain": [
       "Index(['customer_id', 'gender', 'senior_citizen', 'partner', 'dependents'], dtype='object')"
      ]
     },
     "execution_count": 20,
     "metadata": {},
     "output_type": "execute_result"
    }
   ],
   "source": [
    "personal.rename(columns={'customerID': 'customer_id',\n",
    "                         'SeniorCitizen': 'senior_citizen',\n",
    "                         'Partner': 'partner',\n",
    "                         'Dependents': 'dependents'},\n",
    "                inplace=True)\n",
    "personal.columns"
   ]
  },
  {
   "cell_type": "code",
   "execution_count": 21,
   "metadata": {},
   "outputs": [
    {
     "data": {
      "text/plain": [
       "Index(['customer_id', 'internet_service', 'online_security', 'online_backup',\n",
       "       'device_protection', 'tech_support', 'streaming_tv',\n",
       "       'streaming_movies'],\n",
       "      dtype='object')"
      ]
     },
     "execution_count": 21,
     "metadata": {},
     "output_type": "execute_result"
    }
   ],
   "source": [
    "internet.rename(columns={'customerID': 'customer_id',\n",
    "                         'InternetService': 'internet_service',\n",
    "                         'OnlineSecurity': 'online_security',\n",
    "                         'OnlineBackup': 'online_backup',\n",
    "                         'DeviceProtection': 'device_protection',\n",
    "                         'TechSupport': 'tech_support',\n",
    "                         'StreamingTV': 'streaming_tv',\n",
    "                         'StreamingMovies': 'streaming_movies'},\n",
    "                inplace=True)\n",
    "internet.columns"
   ]
  },
  {
   "cell_type": "code",
   "execution_count": 22,
   "metadata": {},
   "outputs": [
    {
     "data": {
      "text/plain": [
       "Index(['customer_id', 'multiple_lines'], dtype='object')"
      ]
     },
     "execution_count": 22,
     "metadata": {},
     "output_type": "execute_result"
    }
   ],
   "source": [
    "phone.rename(columns={'customerID': 'customer_id',\n",
    "                      'MultipleLines': 'multiple_lines'},\n",
    "             inplace=True)\n",
    "phone.columns"
   ]
  },
  {
   "cell_type": "markdown",
   "metadata": {},
   "source": [
    "### Объединение таблиц"
   ]
  },
  {
   "cell_type": "markdown",
   "metadata": {},
   "source": [
    "Объединим данные из четырёх таблиц в один датафрейм, с которым далее и будем работать."
   ]
  },
  {
   "cell_type": "code",
   "execution_count": 23,
   "metadata": {},
   "outputs": [
    {
     "data": {
      "text/html": [
       "<div>\n",
       "<style scoped>\n",
       "    .dataframe tbody tr th:only-of-type {\n",
       "        vertical-align: middle;\n",
       "    }\n",
       "\n",
       "    .dataframe tbody tr th {\n",
       "        vertical-align: top;\n",
       "    }\n",
       "\n",
       "    .dataframe thead th {\n",
       "        text-align: right;\n",
       "    }\n",
       "</style>\n",
       "<table border=\"1\" class=\"dataframe\">\n",
       "  <thead>\n",
       "    <tr style=\"text-align: right;\">\n",
       "      <th></th>\n",
       "      <th>customer_id</th>\n",
       "      <th>begin_date</th>\n",
       "      <th>end_date</th>\n",
       "      <th>type</th>\n",
       "      <th>paperless_billing</th>\n",
       "      <th>payment_method</th>\n",
       "      <th>monthly_charges</th>\n",
       "      <th>total_charges</th>\n",
       "      <th>gender</th>\n",
       "      <th>senior_citizen</th>\n",
       "      <th>partner</th>\n",
       "      <th>dependents</th>\n",
       "      <th>internet_service</th>\n",
       "      <th>online_security</th>\n",
       "      <th>online_backup</th>\n",
       "      <th>device_protection</th>\n",
       "      <th>tech_support</th>\n",
       "      <th>streaming_tv</th>\n",
       "      <th>streaming_movies</th>\n",
       "      <th>multiple_lines</th>\n",
       "    </tr>\n",
       "  </thead>\n",
       "  <tbody>\n",
       "    <tr>\n",
       "      <th>3674</th>\n",
       "      <td>7825-GKXMW</td>\n",
       "      <td>2019-12-01</td>\n",
       "      <td>2020-01-01 00:00:00</td>\n",
       "      <td>Month-to-month</td>\n",
       "      <td>No</td>\n",
       "      <td>Electronic check</td>\n",
       "      <td>45.80</td>\n",
       "      <td>45.8</td>\n",
       "      <td>Female</td>\n",
       "      <td>0</td>\n",
       "      <td>No</td>\n",
       "      <td>No</td>\n",
       "      <td>DSL</td>\n",
       "      <td>No</td>\n",
       "      <td>No</td>\n",
       "      <td>No</td>\n",
       "      <td>No</td>\n",
       "      <td>No</td>\n",
       "      <td>No</td>\n",
       "      <td>No</td>\n",
       "    </tr>\n",
       "    <tr>\n",
       "      <th>1084</th>\n",
       "      <td>9170-ARBTB</td>\n",
       "      <td>2015-10-01</td>\n",
       "      <td>No</td>\n",
       "      <td>One year</td>\n",
       "      <td>No</td>\n",
       "      <td>Credit card (automatic)</td>\n",
       "      <td>19.60</td>\n",
       "      <td>1012.4</td>\n",
       "      <td>Female</td>\n",
       "      <td>0</td>\n",
       "      <td>Yes</td>\n",
       "      <td>Yes</td>\n",
       "      <td>NaN</td>\n",
       "      <td>NaN</td>\n",
       "      <td>NaN</td>\n",
       "      <td>NaN</td>\n",
       "      <td>NaN</td>\n",
       "      <td>NaN</td>\n",
       "      <td>NaN</td>\n",
       "      <td>No</td>\n",
       "    </tr>\n",
       "    <tr>\n",
       "      <th>1660</th>\n",
       "      <td>1171-TYKUR</td>\n",
       "      <td>2016-03-01</td>\n",
       "      <td>No</td>\n",
       "      <td>Month-to-month</td>\n",
       "      <td>No</td>\n",
       "      <td>Electronic check</td>\n",
       "      <td>25.40</td>\n",
       "      <td>1139.2</td>\n",
       "      <td>Male</td>\n",
       "      <td>0</td>\n",
       "      <td>Yes</td>\n",
       "      <td>No</td>\n",
       "      <td>NaN</td>\n",
       "      <td>NaN</td>\n",
       "      <td>NaN</td>\n",
       "      <td>NaN</td>\n",
       "      <td>NaN</td>\n",
       "      <td>NaN</td>\n",
       "      <td>NaN</td>\n",
       "      <td>Yes</td>\n",
       "    </tr>\n",
       "    <tr>\n",
       "      <th>5305</th>\n",
       "      <td>9027-TMATR</td>\n",
       "      <td>2016-07-01</td>\n",
       "      <td>No</td>\n",
       "      <td>Two year</td>\n",
       "      <td>Yes</td>\n",
       "      <td>Electronic check</td>\n",
       "      <td>78.80</td>\n",
       "      <td>3460.3</td>\n",
       "      <td>Female</td>\n",
       "      <td>0</td>\n",
       "      <td>Yes</td>\n",
       "      <td>No</td>\n",
       "      <td>DSL</td>\n",
       "      <td>Yes</td>\n",
       "      <td>No</td>\n",
       "      <td>Yes</td>\n",
       "      <td>Yes</td>\n",
       "      <td>Yes</td>\n",
       "      <td>Yes</td>\n",
       "      <td>No</td>\n",
       "    </tr>\n",
       "    <tr>\n",
       "      <th>6749</th>\n",
       "      <td>8469-SNFFH</td>\n",
       "      <td>2014-04-01</td>\n",
       "      <td>No</td>\n",
       "      <td>One year</td>\n",
       "      <td>No</td>\n",
       "      <td>Bank transfer (automatic)</td>\n",
       "      <td>79.40</td>\n",
       "      <td>5528.9</td>\n",
       "      <td>Male</td>\n",
       "      <td>0</td>\n",
       "      <td>Yes</td>\n",
       "      <td>No</td>\n",
       "      <td>DSL</td>\n",
       "      <td>Yes</td>\n",
       "      <td>Yes</td>\n",
       "      <td>Yes</td>\n",
       "      <td>Yes</td>\n",
       "      <td>Yes</td>\n",
       "      <td>No</td>\n",
       "      <td>Yes</td>\n",
       "    </tr>\n",
       "    <tr>\n",
       "      <th>1422</th>\n",
       "      <td>3870-SPZSI</td>\n",
       "      <td>2014-04-01</td>\n",
       "      <td>No</td>\n",
       "      <td>Two year</td>\n",
       "      <td>Yes</td>\n",
       "      <td>Credit card (automatic)</td>\n",
       "      <td>113.05</td>\n",
       "      <td>7869.05</td>\n",
       "      <td>Female</td>\n",
       "      <td>0</td>\n",
       "      <td>Yes</td>\n",
       "      <td>Yes</td>\n",
       "      <td>Fiber optic</td>\n",
       "      <td>Yes</td>\n",
       "      <td>Yes</td>\n",
       "      <td>Yes</td>\n",
       "      <td>Yes</td>\n",
       "      <td>Yes</td>\n",
       "      <td>Yes</td>\n",
       "      <td>Yes</td>\n",
       "    </tr>\n",
       "    <tr>\n",
       "      <th>869</th>\n",
       "      <td>0323-XWWTN</td>\n",
       "      <td>2019-11-01</td>\n",
       "      <td>No</td>\n",
       "      <td>Two year</td>\n",
       "      <td>Yes</td>\n",
       "      <td>Mailed check</td>\n",
       "      <td>26.40</td>\n",
       "      <td>121.25</td>\n",
       "      <td>Male</td>\n",
       "      <td>0</td>\n",
       "      <td>No</td>\n",
       "      <td>Yes</td>\n",
       "      <td>NaN</td>\n",
       "      <td>NaN</td>\n",
       "      <td>NaN</td>\n",
       "      <td>NaN</td>\n",
       "      <td>NaN</td>\n",
       "      <td>NaN</td>\n",
       "      <td>NaN</td>\n",
       "      <td>Yes</td>\n",
       "    </tr>\n",
       "    <tr>\n",
       "      <th>932</th>\n",
       "      <td>5787-KXGIY</td>\n",
       "      <td>2014-02-01</td>\n",
       "      <td>No</td>\n",
       "      <td>Two year</td>\n",
       "      <td>No</td>\n",
       "      <td>Credit card (automatic)</td>\n",
       "      <td>19.30</td>\n",
       "      <td>1304.8</td>\n",
       "      <td>Male</td>\n",
       "      <td>0</td>\n",
       "      <td>Yes</td>\n",
       "      <td>No</td>\n",
       "      <td>NaN</td>\n",
       "      <td>NaN</td>\n",
       "      <td>NaN</td>\n",
       "      <td>NaN</td>\n",
       "      <td>NaN</td>\n",
       "      <td>NaN</td>\n",
       "      <td>NaN</td>\n",
       "      <td>No</td>\n",
       "    </tr>\n",
       "    <tr>\n",
       "      <th>1931</th>\n",
       "      <td>7409-JURKQ</td>\n",
       "      <td>2015-09-01</td>\n",
       "      <td>No</td>\n",
       "      <td>One year</td>\n",
       "      <td>Yes</td>\n",
       "      <td>Bank transfer (automatic)</td>\n",
       "      <td>111.80</td>\n",
       "      <td>5809.75</td>\n",
       "      <td>Female</td>\n",
       "      <td>0</td>\n",
       "      <td>Yes</td>\n",
       "      <td>No</td>\n",
       "      <td>Fiber optic</td>\n",
       "      <td>No</td>\n",
       "      <td>Yes</td>\n",
       "      <td>Yes</td>\n",
       "      <td>Yes</td>\n",
       "      <td>Yes</td>\n",
       "      <td>Yes</td>\n",
       "      <td>Yes</td>\n",
       "    </tr>\n",
       "    <tr>\n",
       "      <th>4305</th>\n",
       "      <td>0559-CKHUS</td>\n",
       "      <td>2017-09-01</td>\n",
       "      <td>No</td>\n",
       "      <td>Two year</td>\n",
       "      <td>Yes</td>\n",
       "      <td>Mailed check</td>\n",
       "      <td>19.55</td>\n",
       "      <td>521.8</td>\n",
       "      <td>Female</td>\n",
       "      <td>0</td>\n",
       "      <td>Yes</td>\n",
       "      <td>No</td>\n",
       "      <td>NaN</td>\n",
       "      <td>NaN</td>\n",
       "      <td>NaN</td>\n",
       "      <td>NaN</td>\n",
       "      <td>NaN</td>\n",
       "      <td>NaN</td>\n",
       "      <td>NaN</td>\n",
       "      <td>No</td>\n",
       "    </tr>\n",
       "  </tbody>\n",
       "</table>\n",
       "</div>"
      ],
      "text/plain": [
       "     customer_id  begin_date             end_date            type  \\\n",
       "3674  7825-GKXMW  2019-12-01  2020-01-01 00:00:00  Month-to-month   \n",
       "1084  9170-ARBTB  2015-10-01                   No        One year   \n",
       "1660  1171-TYKUR  2016-03-01                   No  Month-to-month   \n",
       "5305  9027-TMATR  2016-07-01                   No        Two year   \n",
       "6749  8469-SNFFH  2014-04-01                   No        One year   \n",
       "1422  3870-SPZSI  2014-04-01                   No        Two year   \n",
       "869   0323-XWWTN  2019-11-01                   No        Two year   \n",
       "932   5787-KXGIY  2014-02-01                   No        Two year   \n",
       "1931  7409-JURKQ  2015-09-01                   No        One year   \n",
       "4305  0559-CKHUS  2017-09-01                   No        Two year   \n",
       "\n",
       "     paperless_billing             payment_method  monthly_charges  \\\n",
       "3674                No           Electronic check            45.80   \n",
       "1084                No    Credit card (automatic)            19.60   \n",
       "1660                No           Electronic check            25.40   \n",
       "5305               Yes           Electronic check            78.80   \n",
       "6749                No  Bank transfer (automatic)            79.40   \n",
       "1422               Yes    Credit card (automatic)           113.05   \n",
       "869                Yes               Mailed check            26.40   \n",
       "932                 No    Credit card (automatic)            19.30   \n",
       "1931               Yes  Bank transfer (automatic)           111.80   \n",
       "4305               Yes               Mailed check            19.55   \n",
       "\n",
       "     total_charges  gender  senior_citizen partner dependents  \\\n",
       "3674          45.8  Female               0      No         No   \n",
       "1084        1012.4  Female               0     Yes        Yes   \n",
       "1660        1139.2    Male               0     Yes         No   \n",
       "5305        3460.3  Female               0     Yes         No   \n",
       "6749        5528.9    Male               0     Yes         No   \n",
       "1422       7869.05  Female               0     Yes        Yes   \n",
       "869         121.25    Male               0      No        Yes   \n",
       "932         1304.8    Male               0     Yes         No   \n",
       "1931       5809.75  Female               0     Yes         No   \n",
       "4305         521.8  Female               0     Yes         No   \n",
       "\n",
       "     internet_service online_security online_backup device_protection  \\\n",
       "3674              DSL              No            No                No   \n",
       "1084              NaN             NaN           NaN               NaN   \n",
       "1660              NaN             NaN           NaN               NaN   \n",
       "5305              DSL             Yes            No               Yes   \n",
       "6749              DSL             Yes           Yes               Yes   \n",
       "1422      Fiber optic             Yes           Yes               Yes   \n",
       "869               NaN             NaN           NaN               NaN   \n",
       "932               NaN             NaN           NaN               NaN   \n",
       "1931      Fiber optic              No           Yes               Yes   \n",
       "4305              NaN             NaN           NaN               NaN   \n",
       "\n",
       "     tech_support streaming_tv streaming_movies multiple_lines  \n",
       "3674           No           No               No             No  \n",
       "1084          NaN          NaN              NaN             No  \n",
       "1660          NaN          NaN              NaN            Yes  \n",
       "5305          Yes          Yes              Yes             No  \n",
       "6749          Yes          Yes               No            Yes  \n",
       "1422          Yes          Yes              Yes            Yes  \n",
       "869           NaN          NaN              NaN            Yes  \n",
       "932           NaN          NaN              NaN             No  \n",
       "1931          Yes          Yes              Yes            Yes  \n",
       "4305          NaN          NaN              NaN             No  "
      ]
     },
     "execution_count": 23,
     "metadata": {},
     "output_type": "execute_result"
    }
   ],
   "source": [
    "data = (contract.set_index('customer_id')\n",
    "        .join([personal.set_index('customer_id'),\n",
    "               internet.set_index('customer_id'),\n",
    "               phone.set_index('customer_id')],\n",
    "              how='outer')).reset_index()\n",
    "data.sample(10)"
   ]
  },
  {
   "cell_type": "code",
   "execution_count": 24,
   "metadata": {},
   "outputs": [
    {
     "name": "stdout",
     "output_type": "stream",
     "text": [
      "<class 'pandas.core.frame.DataFrame'>\n",
      "RangeIndex: 7043 entries, 0 to 7042\n",
      "Data columns (total 20 columns):\n",
      " #   Column             Non-Null Count  Dtype  \n",
      "---  ------             --------------  -----  \n",
      " 0   customer_id        7043 non-null   object \n",
      " 1   begin_date         7043 non-null   object \n",
      " 2   end_date           7043 non-null   object \n",
      " 3   type               7043 non-null   object \n",
      " 4   paperless_billing  7043 non-null   object \n",
      " 5   payment_method     7043 non-null   object \n",
      " 6   monthly_charges    7043 non-null   float64\n",
      " 7   total_charges      7043 non-null   object \n",
      " 8   gender             7043 non-null   object \n",
      " 9   senior_citizen     7043 non-null   int64  \n",
      " 10  partner            7043 non-null   object \n",
      " 11  dependents         7043 non-null   object \n",
      " 12  internet_service   5517 non-null   object \n",
      " 13  online_security    5517 non-null   object \n",
      " 14  online_backup      5517 non-null   object \n",
      " 15  device_protection  5517 non-null   object \n",
      " 16  tech_support       5517 non-null   object \n",
      " 17  streaming_tv       5517 non-null   object \n",
      " 18  streaming_movies   5517 non-null   object \n",
      " 19  multiple_lines     6361 non-null   object \n",
      "dtypes: float64(1), int64(1), object(18)\n",
      "memory usage: 1.1+ MB\n"
     ]
    }
   ],
   "source": [
    "data.info()"
   ]
  },
  {
   "cell_type": "markdown",
   "metadata": {},
   "source": [
    "Как было отмечено выше, после объединения таблиц у нас возникли закономерные пропуски в некоторых столбцах. К тому же у нас имелись пропуски в столбце с общими тратами. Перейдём к обработке этих пропусков."
   ]
  },
  {
   "cell_type": "markdown",
   "metadata": {},
   "source": [
    "### Обработка пропусков"
   ]
  },
  {
   "cell_type": "markdown",
   "metadata": {},
   "source": [
    "Для того, чтобы выделить пользователей, которые не используют интернет или телефонию, пропуски в столбцах `internet_service` и `multiple_lines` имеет смысл заполнить значением `Not used`, например."
   ]
  },
  {
   "cell_type": "code",
   "execution_count": 25,
   "metadata": {},
   "outputs": [
    {
     "data": {
      "text/plain": [
       "customer_id             0\n",
       "begin_date              0\n",
       "end_date                0\n",
       "type                    0\n",
       "paperless_billing       0\n",
       "payment_method          0\n",
       "monthly_charges         0\n",
       "total_charges           0\n",
       "gender                  0\n",
       "senior_citizen          0\n",
       "partner                 0\n",
       "dependents              0\n",
       "internet_service        0\n",
       "online_security      1526\n",
       "online_backup        1526\n",
       "device_protection    1526\n",
       "tech_support         1526\n",
       "streaming_tv         1526\n",
       "streaming_movies     1526\n",
       "multiple_lines          0\n",
       "dtype: int64"
      ]
     },
     "execution_count": 25,
     "metadata": {},
     "output_type": "execute_result"
    }
   ],
   "source": [
    "data.fillna({'internet_service': 'Not used', 'multiple_lines': 'Not used'}, \n",
    "            inplace=True)\n",
    "data.isna().sum()"
   ]
  },
  {
   "cell_type": "markdown",
   "metadata": {},
   "source": [
    "В остальных столбцах, касаемых интернет-услуг, пропуски можно заполнить значением `No`."
   ]
  },
  {
   "cell_type": "code",
   "execution_count": 26,
   "metadata": {},
   "outputs": [
    {
     "data": {
      "text/plain": [
       "customer_id          0\n",
       "begin_date           0\n",
       "end_date             0\n",
       "type                 0\n",
       "paperless_billing    0\n",
       "payment_method       0\n",
       "monthly_charges      0\n",
       "total_charges        0\n",
       "gender               0\n",
       "senior_citizen       0\n",
       "partner              0\n",
       "dependents           0\n",
       "internet_service     0\n",
       "online_security      0\n",
       "online_backup        0\n",
       "device_protection    0\n",
       "tech_support         0\n",
       "streaming_tv         0\n",
       "streaming_movies     0\n",
       "multiple_lines       0\n",
       "dtype: int64"
      ]
     },
     "execution_count": 26,
     "metadata": {},
     "output_type": "execute_result"
    }
   ],
   "source": [
    "data.fillna('No', inplace=True)\n",
    "data.isna().sum()"
   ]
  },
  {
   "cell_type": "markdown",
   "metadata": {},
   "source": [
    "Теперь заполним пропуски в столбце `total_charges`."
   ]
  },
  {
   "cell_type": "code",
   "execution_count": 27,
   "metadata": {},
   "outputs": [
    {
     "name": "stdout",
     "output_type": "stream",
     "text": [
      "<class 'pandas.core.frame.DataFrame'>\n",
      "RangeIndex: 7043 entries, 0 to 7042\n",
      "Data columns (total 20 columns):\n",
      " #   Column             Non-Null Count  Dtype  \n",
      "---  ------             --------------  -----  \n",
      " 0   customer_id        7043 non-null   object \n",
      " 1   begin_date         7043 non-null   object \n",
      " 2   end_date           7043 non-null   object \n",
      " 3   type               7043 non-null   object \n",
      " 4   paperless_billing  7043 non-null   object \n",
      " 5   payment_method     7043 non-null   object \n",
      " 6   monthly_charges    7043 non-null   float64\n",
      " 7   total_charges      7043 non-null   float64\n",
      " 8   gender             7043 non-null   object \n",
      " 9   senior_citizen     7043 non-null   int64  \n",
      " 10  partner            7043 non-null   object \n",
      " 11  dependents         7043 non-null   object \n",
      " 12  internet_service   7043 non-null   object \n",
      " 13  online_security    7043 non-null   object \n",
      " 14  online_backup      7043 non-null   object \n",
      " 15  device_protection  7043 non-null   object \n",
      " 16  tech_support       7043 non-null   object \n",
      " 17  streaming_tv       7043 non-null   object \n",
      " 18  streaming_movies   7043 non-null   object \n",
      " 19  multiple_lines     7043 non-null   object \n",
      "dtypes: float64(2), int64(1), object(17)\n",
      "memory usage: 1.1+ MB\n"
     ]
    }
   ],
   "source": [
    "data['total_charges'] = pd.to_numeric(data['total_charges'], errors='coerce')\n",
    "data['total_charges'].fillna(data['monthly_charges'], inplace=True)\n",
    "data.info()"
   ]
  },
  {
   "cell_type": "markdown",
   "metadata": {},
   "source": [
    "### Дополнительные операции"
   ]
  },
  {
   "cell_type": "code",
   "execution_count": 28,
   "metadata": {},
   "outputs": [
    {
     "name": "stdout",
     "output_type": "stream",
     "text": [
      "gender: ['Female' 'Male']\n",
      "device_protection: ['No' 'Yes']\n",
      "streaming_tv: ['No' 'Yes']\n",
      "dependents: ['No' 'Yes']\n",
      "senior_citizen: [0 1]\n",
      "tech_support: ['No' 'Yes']\n",
      "payment_method: ['Electronic check' 'Mailed check' 'Bank transfer (automatic)'\n",
      " 'Credit card (automatic)']\n",
      "streaming_movies: ['No' 'Yes']\n",
      "paperless_billing: ['Yes' 'No']\n",
      "online_backup: ['Yes' 'No']\n",
      "multiple_lines: ['Not used' 'No' 'Yes']\n",
      "type: ['Month-to-month' 'One year' 'Two year']\n",
      "internet_service: ['DSL' 'Fiber optic' 'Not used']\n",
      "partner: ['Yes' 'No']\n",
      "online_security: ['No' 'Yes']\n"
     ]
    }
   ],
   "source": [
    "# проверка значений в категориальных признаках\n",
    "for col in (set(data.columns.to_list()) -\n",
    "            set(['customer_id', 'begin_date', 'end_date',\n",
    "                 'monthly_charges', 'total_charges'])):\n",
    "    print(f'{col}: {data[col].unique()}')"
   ]
  },
  {
   "cell_type": "code",
   "execution_count": 29,
   "metadata": {},
   "outputs": [
    {
     "data": {
      "text/plain": [
       "0"
      ]
     },
     "execution_count": 29,
     "metadata": {},
     "output_type": "execute_result"
    }
   ],
   "source": [
    "# проверка на дубликаты\n",
    "data.duplicated().sum()"
   ]
  },
  {
   "cell_type": "code",
   "execution_count": 30,
   "metadata": {},
   "outputs": [],
   "source": [
    "# приведение begin_date и end_date к формату даты\n",
    "data['begin_date'] = pd.to_datetime(data['begin_date'])\n",
    "data['end_date'] = pd.to_datetime(data['end_date'], errors='coerce')"
   ]
  },
  {
   "cell_type": "code",
   "execution_count": 31,
   "metadata": {},
   "outputs": [
    {
     "data": {
      "text/plain": [
       "No     5901\n",
       "Yes    1142\n",
       "Name: senior_citizen, dtype: int64"
      ]
     },
     "execution_count": 31,
     "metadata": {},
     "output_type": "execute_result"
    }
   ],
   "source": [
    "# замена 0/1 в senior_citizen на No/Yes\n",
    "data['senior_citizen'].replace({1: 'Yes', 0: 'No'}, inplace=True)\n",
    "data['senior_citizen'].value_counts()"
   ]
  },
  {
   "cell_type": "code",
   "execution_count": 32,
   "metadata": {},
   "outputs": [
    {
     "data": {
      "text/html": [
       "<div>\n",
       "<style scoped>\n",
       "    .dataframe tbody tr th:only-of-type {\n",
       "        vertical-align: middle;\n",
       "    }\n",
       "\n",
       "    .dataframe tbody tr th {\n",
       "        vertical-align: top;\n",
       "    }\n",
       "\n",
       "    .dataframe thead th {\n",
       "        text-align: right;\n",
       "    }\n",
       "</style>\n",
       "<table border=\"1\" class=\"dataframe\">\n",
       "  <thead>\n",
       "    <tr style=\"text-align: right;\">\n",
       "      <th></th>\n",
       "      <th>customer_id</th>\n",
       "      <th>begin_date</th>\n",
       "      <th>end_date</th>\n",
       "      <th>type</th>\n",
       "      <th>paperless_billing</th>\n",
       "      <th>payment_method</th>\n",
       "      <th>monthly_charges</th>\n",
       "      <th>total_charges</th>\n",
       "      <th>gender</th>\n",
       "      <th>senior_citizen</th>\n",
       "      <th>partner</th>\n",
       "      <th>dependents</th>\n",
       "      <th>internet_service</th>\n",
       "      <th>online_security</th>\n",
       "      <th>online_backup</th>\n",
       "      <th>device_protection</th>\n",
       "      <th>tech_support</th>\n",
       "      <th>streaming_tv</th>\n",
       "      <th>streaming_movies</th>\n",
       "      <th>multiple_lines</th>\n",
       "    </tr>\n",
       "  </thead>\n",
       "  <tbody>\n",
       "    <tr>\n",
       "      <th>4571</th>\n",
       "      <td>0599-XNYDO</td>\n",
       "      <td>2018-06-01</td>\n",
       "      <td>NaT</td>\n",
       "      <td>Month-to-month</td>\n",
       "      <td>Yes</td>\n",
       "      <td>Bank transfer (automatic)</td>\n",
       "      <td>69.80</td>\n",
       "      <td>1540.35</td>\n",
       "      <td>Female</td>\n",
       "      <td>No</td>\n",
       "      <td>Yes</td>\n",
       "      <td>No</td>\n",
       "      <td>Fiber optic</td>\n",
       "      <td>No</td>\n",
       "      <td>No</td>\n",
       "      <td>No</td>\n",
       "      <td>No</td>\n",
       "      <td>No</td>\n",
       "      <td>No</td>\n",
       "      <td>No</td>\n",
       "    </tr>\n",
       "    <tr>\n",
       "      <th>1329</th>\n",
       "      <td>3910-MRQOY</td>\n",
       "      <td>2014-02-01</td>\n",
       "      <td>NaT</td>\n",
       "      <td>Two year</td>\n",
       "      <td>No</td>\n",
       "      <td>Bank transfer (automatic)</td>\n",
       "      <td>19.40</td>\n",
       "      <td>1496.45</td>\n",
       "      <td>Female</td>\n",
       "      <td>No</td>\n",
       "      <td>Yes</td>\n",
       "      <td>No</td>\n",
       "      <td>Not used</td>\n",
       "      <td>No</td>\n",
       "      <td>No</td>\n",
       "      <td>No</td>\n",
       "      <td>No</td>\n",
       "      <td>No</td>\n",
       "      <td>No</td>\n",
       "      <td>No</td>\n",
       "    </tr>\n",
       "    <tr>\n",
       "      <th>3368</th>\n",
       "      <td>1370-GGAWX</td>\n",
       "      <td>2016-04-01</td>\n",
       "      <td>NaT</td>\n",
       "      <td>One year</td>\n",
       "      <td>Yes</td>\n",
       "      <td>Electronic check</td>\n",
       "      <td>94.15</td>\n",
       "      <td>4408.45</td>\n",
       "      <td>Female</td>\n",
       "      <td>No</td>\n",
       "      <td>No</td>\n",
       "      <td>No</td>\n",
       "      <td>Fiber optic</td>\n",
       "      <td>No</td>\n",
       "      <td>Yes</td>\n",
       "      <td>Yes</td>\n",
       "      <td>No</td>\n",
       "      <td>No</td>\n",
       "      <td>Yes</td>\n",
       "      <td>Yes</td>\n",
       "    </tr>\n",
       "    <tr>\n",
       "      <th>2342</th>\n",
       "      <td>1552-AAGRX</td>\n",
       "      <td>2017-08-01</td>\n",
       "      <td>NaT</td>\n",
       "      <td>Month-to-month</td>\n",
       "      <td>No</td>\n",
       "      <td>Bank transfer (automatic)</td>\n",
       "      <td>106.40</td>\n",
       "      <td>3211.90</td>\n",
       "      <td>Female</td>\n",
       "      <td>No</td>\n",
       "      <td>No</td>\n",
       "      <td>No</td>\n",
       "      <td>Fiber optic</td>\n",
       "      <td>Yes</td>\n",
       "      <td>No</td>\n",
       "      <td>No</td>\n",
       "      <td>Yes</td>\n",
       "      <td>Yes</td>\n",
       "      <td>Yes</td>\n",
       "      <td>Yes</td>\n",
       "    </tr>\n",
       "    <tr>\n",
       "      <th>2382</th>\n",
       "      <td>6114-TCFID</td>\n",
       "      <td>2017-09-01</td>\n",
       "      <td>NaT</td>\n",
       "      <td>One year</td>\n",
       "      <td>No</td>\n",
       "      <td>Credit card (automatic)</td>\n",
       "      <td>39.50</td>\n",
       "      <td>1082.75</td>\n",
       "      <td>Female</td>\n",
       "      <td>No</td>\n",
       "      <td>No</td>\n",
       "      <td>No</td>\n",
       "      <td>DSL</td>\n",
       "      <td>Yes</td>\n",
       "      <td>Yes</td>\n",
       "      <td>No</td>\n",
       "      <td>Yes</td>\n",
       "      <td>No</td>\n",
       "      <td>No</td>\n",
       "      <td>Not used</td>\n",
       "    </tr>\n",
       "    <tr>\n",
       "      <th>5889</th>\n",
       "      <td>9693-XMUOB</td>\n",
       "      <td>2015-03-01</td>\n",
       "      <td>NaT</td>\n",
       "      <td>Month-to-month</td>\n",
       "      <td>Yes</td>\n",
       "      <td>Electronic check</td>\n",
       "      <td>50.25</td>\n",
       "      <td>2997.45</td>\n",
       "      <td>Male</td>\n",
       "      <td>Yes</td>\n",
       "      <td>Yes</td>\n",
       "      <td>No</td>\n",
       "      <td>DSL</td>\n",
       "      <td>No</td>\n",
       "      <td>Yes</td>\n",
       "      <td>No</td>\n",
       "      <td>No</td>\n",
       "      <td>Yes</td>\n",
       "      <td>Yes</td>\n",
       "      <td>Not used</td>\n",
       "    </tr>\n",
       "    <tr>\n",
       "      <th>5422</th>\n",
       "      <td>3563-SVYLG</td>\n",
       "      <td>2014-06-01</td>\n",
       "      <td>NaT</td>\n",
       "      <td>Two year</td>\n",
       "      <td>No</td>\n",
       "      <td>Credit card (automatic)</td>\n",
       "      <td>62.65</td>\n",
       "      <td>4375.80</td>\n",
       "      <td>Male</td>\n",
       "      <td>No</td>\n",
       "      <td>Yes</td>\n",
       "      <td>Yes</td>\n",
       "      <td>DSL</td>\n",
       "      <td>Yes</td>\n",
       "      <td>Yes</td>\n",
       "      <td>Yes</td>\n",
       "      <td>Yes</td>\n",
       "      <td>No</td>\n",
       "      <td>No</td>\n",
       "      <td>No</td>\n",
       "    </tr>\n",
       "    <tr>\n",
       "      <th>2394</th>\n",
       "      <td>8231-BSWXX</td>\n",
       "      <td>2014-03-01</td>\n",
       "      <td>NaT</td>\n",
       "      <td>One year</td>\n",
       "      <td>Yes</td>\n",
       "      <td>Credit card (automatic)</td>\n",
       "      <td>79.05</td>\n",
       "      <td>5552.50</td>\n",
       "      <td>Male</td>\n",
       "      <td>No</td>\n",
       "      <td>No</td>\n",
       "      <td>No</td>\n",
       "      <td>Fiber optic</td>\n",
       "      <td>No</td>\n",
       "      <td>Yes</td>\n",
       "      <td>No</td>\n",
       "      <td>No</td>\n",
       "      <td>No</td>\n",
       "      <td>No</td>\n",
       "      <td>Yes</td>\n",
       "    </tr>\n",
       "    <tr>\n",
       "      <th>5413</th>\n",
       "      <td>6833-JMZYP</td>\n",
       "      <td>2018-11-01</td>\n",
       "      <td>NaT</td>\n",
       "      <td>Month-to-month</td>\n",
       "      <td>Yes</td>\n",
       "      <td>Credit card (automatic)</td>\n",
       "      <td>94.00</td>\n",
       "      <td>1505.45</td>\n",
       "      <td>Female</td>\n",
       "      <td>No</td>\n",
       "      <td>No</td>\n",
       "      <td>No</td>\n",
       "      <td>Fiber optic</td>\n",
       "      <td>No</td>\n",
       "      <td>No</td>\n",
       "      <td>Yes</td>\n",
       "      <td>No</td>\n",
       "      <td>Yes</td>\n",
       "      <td>Yes</td>\n",
       "      <td>No</td>\n",
       "    </tr>\n",
       "    <tr>\n",
       "      <th>2681</th>\n",
       "      <td>9674-EHPPG</td>\n",
       "      <td>2016-04-01</td>\n",
       "      <td>NaT</td>\n",
       "      <td>Two year</td>\n",
       "      <td>No</td>\n",
       "      <td>Credit card (automatic)</td>\n",
       "      <td>40.40</td>\n",
       "      <td>1842.70</td>\n",
       "      <td>Male</td>\n",
       "      <td>No</td>\n",
       "      <td>Yes</td>\n",
       "      <td>No</td>\n",
       "      <td>DSL</td>\n",
       "      <td>Yes</td>\n",
       "      <td>No</td>\n",
       "      <td>Yes</td>\n",
       "      <td>Yes</td>\n",
       "      <td>No</td>\n",
       "      <td>No</td>\n",
       "      <td>Not used</td>\n",
       "    </tr>\n",
       "  </tbody>\n",
       "</table>\n",
       "</div>"
      ],
      "text/plain": [
       "     customer_id begin_date end_date            type paperless_billing  \\\n",
       "4571  0599-XNYDO 2018-06-01      NaT  Month-to-month               Yes   \n",
       "1329  3910-MRQOY 2014-02-01      NaT        Two year                No   \n",
       "3368  1370-GGAWX 2016-04-01      NaT        One year               Yes   \n",
       "2342  1552-AAGRX 2017-08-01      NaT  Month-to-month                No   \n",
       "2382  6114-TCFID 2017-09-01      NaT        One year                No   \n",
       "5889  9693-XMUOB 2015-03-01      NaT  Month-to-month               Yes   \n",
       "5422  3563-SVYLG 2014-06-01      NaT        Two year                No   \n",
       "2394  8231-BSWXX 2014-03-01      NaT        One year               Yes   \n",
       "5413  6833-JMZYP 2018-11-01      NaT  Month-to-month               Yes   \n",
       "2681  9674-EHPPG 2016-04-01      NaT        Two year                No   \n",
       "\n",
       "                 payment_method  monthly_charges  total_charges  gender  \\\n",
       "4571  Bank transfer (automatic)            69.80        1540.35  Female   \n",
       "1329  Bank transfer (automatic)            19.40        1496.45  Female   \n",
       "3368           Electronic check            94.15        4408.45  Female   \n",
       "2342  Bank transfer (automatic)           106.40        3211.90  Female   \n",
       "2382    Credit card (automatic)            39.50        1082.75  Female   \n",
       "5889           Electronic check            50.25        2997.45    Male   \n",
       "5422    Credit card (automatic)            62.65        4375.80    Male   \n",
       "2394    Credit card (automatic)            79.05        5552.50    Male   \n",
       "5413    Credit card (automatic)            94.00        1505.45  Female   \n",
       "2681    Credit card (automatic)            40.40        1842.70    Male   \n",
       "\n",
       "     senior_citizen partner dependents internet_service online_security  \\\n",
       "4571             No     Yes         No      Fiber optic              No   \n",
       "1329             No     Yes         No         Not used              No   \n",
       "3368             No      No         No      Fiber optic              No   \n",
       "2342             No      No         No      Fiber optic             Yes   \n",
       "2382             No      No         No              DSL             Yes   \n",
       "5889            Yes     Yes         No              DSL              No   \n",
       "5422             No     Yes        Yes              DSL             Yes   \n",
       "2394             No      No         No      Fiber optic              No   \n",
       "5413             No      No         No      Fiber optic              No   \n",
       "2681             No     Yes         No              DSL             Yes   \n",
       "\n",
       "     online_backup device_protection tech_support streaming_tv  \\\n",
       "4571            No                No           No           No   \n",
       "1329            No                No           No           No   \n",
       "3368           Yes               Yes           No           No   \n",
       "2342            No                No          Yes          Yes   \n",
       "2382           Yes                No          Yes           No   \n",
       "5889           Yes                No           No          Yes   \n",
       "5422           Yes               Yes          Yes           No   \n",
       "2394           Yes                No           No           No   \n",
       "5413            No               Yes           No          Yes   \n",
       "2681            No               Yes          Yes           No   \n",
       "\n",
       "     streaming_movies multiple_lines  \n",
       "4571               No             No  \n",
       "1329               No             No  \n",
       "3368              Yes            Yes  \n",
       "2342              Yes            Yes  \n",
       "2382               No       Not used  \n",
       "5889              Yes       Not used  \n",
       "5422               No             No  \n",
       "2394               No            Yes  \n",
       "5413              Yes             No  \n",
       "2681               No       Not used  "
      ]
     },
     "execution_count": 32,
     "metadata": {},
     "output_type": "execute_result"
    }
   ],
   "source": [
    "data.sample(10)"
   ]
  },
  {
   "cell_type": "markdown",
   "metadata": {},
   "source": [
    "**Выводы**\n",
    "\n",
    "На этапе предобработки данных были проделаны следующие преобразования:\n",
    " - названия столбцов приведены к *snake_case*;\n",
    " - данные объединены в единую таблицу `data`;\n",
    " - обработаны пропуски (как исходные, так и образованные в результате объединения);\n",
    " - тип данных `begin_date` приведён к *datetime*;\n",
    " - *0/1* в `senior_citizen` приведены к *No/Yes*.\n",
    " \n",
    "Столбец `end_date` намеренно не подвергся обработке, т.к. далее на основании него будет проводиться подготовка данных, а текущее его состояние видится для этого наиболее удобным."
   ]
  },
  {
   "cell_type": "markdown",
   "metadata": {},
   "source": [
    "## Подготовка данных"
   ]
  },
  {
   "cell_type": "markdown",
   "metadata": {},
   "source": [
    "Для начала добавим столбец в целевым признаком. Отсутствие значния в `end_date`, означает, что клиент ещё пользуется услугами. Наоборот, если указана дата окончания пользования услугами, то пользователь ушёл."
   ]
  },
  {
   "cell_type": "code",
   "execution_count": 33,
   "metadata": {},
   "outputs": [
    {
     "data": {
      "text/html": [
       "<div>\n",
       "<style scoped>\n",
       "    .dataframe tbody tr th:only-of-type {\n",
       "        vertical-align: middle;\n",
       "    }\n",
       "\n",
       "    .dataframe tbody tr th {\n",
       "        vertical-align: top;\n",
       "    }\n",
       "\n",
       "    .dataframe thead th {\n",
       "        text-align: right;\n",
       "    }\n",
       "</style>\n",
       "<table border=\"1\" class=\"dataframe\">\n",
       "  <thead>\n",
       "    <tr style=\"text-align: right;\">\n",
       "      <th></th>\n",
       "      <th>customer_id</th>\n",
       "      <th>begin_date</th>\n",
       "      <th>end_date</th>\n",
       "      <th>type</th>\n",
       "      <th>paperless_billing</th>\n",
       "      <th>payment_method</th>\n",
       "      <th>monthly_charges</th>\n",
       "      <th>total_charges</th>\n",
       "      <th>gender</th>\n",
       "      <th>senior_citizen</th>\n",
       "      <th>...</th>\n",
       "      <th>dependents</th>\n",
       "      <th>internet_service</th>\n",
       "      <th>online_security</th>\n",
       "      <th>online_backup</th>\n",
       "      <th>device_protection</th>\n",
       "      <th>tech_support</th>\n",
       "      <th>streaming_tv</th>\n",
       "      <th>streaming_movies</th>\n",
       "      <th>multiple_lines</th>\n",
       "      <th>churn</th>\n",
       "    </tr>\n",
       "  </thead>\n",
       "  <tbody>\n",
       "    <tr>\n",
       "      <th>0</th>\n",
       "      <td>7590-VHVEG</td>\n",
       "      <td>2020-01-01</td>\n",
       "      <td>NaT</td>\n",
       "      <td>Month-to-month</td>\n",
       "      <td>Yes</td>\n",
       "      <td>Electronic check</td>\n",
       "      <td>29.85</td>\n",
       "      <td>29.85</td>\n",
       "      <td>Female</td>\n",
       "      <td>No</td>\n",
       "      <td>...</td>\n",
       "      <td>No</td>\n",
       "      <td>DSL</td>\n",
       "      <td>No</td>\n",
       "      <td>Yes</td>\n",
       "      <td>No</td>\n",
       "      <td>No</td>\n",
       "      <td>No</td>\n",
       "      <td>No</td>\n",
       "      <td>Not used</td>\n",
       "      <td>0</td>\n",
       "    </tr>\n",
       "    <tr>\n",
       "      <th>1</th>\n",
       "      <td>5575-GNVDE</td>\n",
       "      <td>2017-04-01</td>\n",
       "      <td>NaT</td>\n",
       "      <td>One year</td>\n",
       "      <td>No</td>\n",
       "      <td>Mailed check</td>\n",
       "      <td>56.95</td>\n",
       "      <td>1889.50</td>\n",
       "      <td>Male</td>\n",
       "      <td>No</td>\n",
       "      <td>...</td>\n",
       "      <td>No</td>\n",
       "      <td>DSL</td>\n",
       "      <td>Yes</td>\n",
       "      <td>No</td>\n",
       "      <td>Yes</td>\n",
       "      <td>No</td>\n",
       "      <td>No</td>\n",
       "      <td>No</td>\n",
       "      <td>No</td>\n",
       "      <td>0</td>\n",
       "    </tr>\n",
       "    <tr>\n",
       "      <th>2</th>\n",
       "      <td>3668-QPYBK</td>\n",
       "      <td>2019-10-01</td>\n",
       "      <td>2019-12-01</td>\n",
       "      <td>Month-to-month</td>\n",
       "      <td>Yes</td>\n",
       "      <td>Mailed check</td>\n",
       "      <td>53.85</td>\n",
       "      <td>108.15</td>\n",
       "      <td>Male</td>\n",
       "      <td>No</td>\n",
       "      <td>...</td>\n",
       "      <td>No</td>\n",
       "      <td>DSL</td>\n",
       "      <td>Yes</td>\n",
       "      <td>Yes</td>\n",
       "      <td>No</td>\n",
       "      <td>No</td>\n",
       "      <td>No</td>\n",
       "      <td>No</td>\n",
       "      <td>No</td>\n",
       "      <td>1</td>\n",
       "    </tr>\n",
       "    <tr>\n",
       "      <th>3</th>\n",
       "      <td>7795-CFOCW</td>\n",
       "      <td>2016-05-01</td>\n",
       "      <td>NaT</td>\n",
       "      <td>One year</td>\n",
       "      <td>No</td>\n",
       "      <td>Bank transfer (automatic)</td>\n",
       "      <td>42.30</td>\n",
       "      <td>1840.75</td>\n",
       "      <td>Male</td>\n",
       "      <td>No</td>\n",
       "      <td>...</td>\n",
       "      <td>No</td>\n",
       "      <td>DSL</td>\n",
       "      <td>Yes</td>\n",
       "      <td>No</td>\n",
       "      <td>Yes</td>\n",
       "      <td>Yes</td>\n",
       "      <td>No</td>\n",
       "      <td>No</td>\n",
       "      <td>Not used</td>\n",
       "      <td>0</td>\n",
       "    </tr>\n",
       "    <tr>\n",
       "      <th>4</th>\n",
       "      <td>9237-HQITU</td>\n",
       "      <td>2019-09-01</td>\n",
       "      <td>2019-11-01</td>\n",
       "      <td>Month-to-month</td>\n",
       "      <td>Yes</td>\n",
       "      <td>Electronic check</td>\n",
       "      <td>70.70</td>\n",
       "      <td>151.65</td>\n",
       "      <td>Female</td>\n",
       "      <td>No</td>\n",
       "      <td>...</td>\n",
       "      <td>No</td>\n",
       "      <td>Fiber optic</td>\n",
       "      <td>No</td>\n",
       "      <td>No</td>\n",
       "      <td>No</td>\n",
       "      <td>No</td>\n",
       "      <td>No</td>\n",
       "      <td>No</td>\n",
       "      <td>No</td>\n",
       "      <td>1</td>\n",
       "    </tr>\n",
       "  </tbody>\n",
       "</table>\n",
       "<p>5 rows × 21 columns</p>\n",
       "</div>"
      ],
      "text/plain": [
       "  customer_id begin_date   end_date            type paperless_billing  \\\n",
       "0  7590-VHVEG 2020-01-01        NaT  Month-to-month               Yes   \n",
       "1  5575-GNVDE 2017-04-01        NaT        One year                No   \n",
       "2  3668-QPYBK 2019-10-01 2019-12-01  Month-to-month               Yes   \n",
       "3  7795-CFOCW 2016-05-01        NaT        One year                No   \n",
       "4  9237-HQITU 2019-09-01 2019-11-01  Month-to-month               Yes   \n",
       "\n",
       "              payment_method  monthly_charges  total_charges  gender  \\\n",
       "0           Electronic check            29.85          29.85  Female   \n",
       "1               Mailed check            56.95        1889.50    Male   \n",
       "2               Mailed check            53.85         108.15    Male   \n",
       "3  Bank transfer (automatic)            42.30        1840.75    Male   \n",
       "4           Electronic check            70.70         151.65  Female   \n",
       "\n",
       "  senior_citizen  ... dependents internet_service online_security  \\\n",
       "0             No  ...         No              DSL              No   \n",
       "1             No  ...         No              DSL             Yes   \n",
       "2             No  ...         No              DSL             Yes   \n",
       "3             No  ...         No              DSL             Yes   \n",
       "4             No  ...         No      Fiber optic              No   \n",
       "\n",
       "  online_backup device_protection tech_support streaming_tv streaming_movies  \\\n",
       "0           Yes                No           No           No               No   \n",
       "1            No               Yes           No           No               No   \n",
       "2           Yes                No           No           No               No   \n",
       "3            No               Yes          Yes           No               No   \n",
       "4            No                No           No           No               No   \n",
       "\n",
       "  multiple_lines churn  \n",
       "0       Not used     0  \n",
       "1             No     0  \n",
       "2             No     1  \n",
       "3       Not used     0  \n",
       "4             No     1  \n",
       "\n",
       "[5 rows x 21 columns]"
      ]
     },
     "execution_count": 33,
     "metadata": {},
     "output_type": "execute_result"
    }
   ],
   "source": [
    "data['churn'] = data['end_date'].isna().replace({True: 0, False: 1})\n",
    "data.head()"
   ]
  },
  {
   "cell_type": "markdown",
   "metadata": {},
   "source": [
    "Сами по себе даты особой нагрузки не несут. Однако можно извлечь из них количесвенный признак -- число дней пользования услугами. Добавим новый столбец. Перед этим заполним пропуски в `end_date` на дату актуализации данных -- 01.02.2020."
   ]
  },
  {
   "cell_type": "code",
   "execution_count": 34,
   "metadata": {},
   "outputs": [],
   "source": [
    "# заполнение пропусков в end_date\n",
    "data['end_date'].fillna(np.datetime64('2020-02-01'), inplace=True)"
   ]
  },
  {
   "cell_type": "code",
   "execution_count": 35,
   "metadata": {},
   "outputs": [],
   "source": [
    "# добавление столбца с числом дней\n",
    "data['days'] = (data['end_date'] - data['begin_date']).dt.days"
   ]
  },
  {
   "cell_type": "markdown",
   "metadata": {},
   "source": [
    "После добавления нового признака, столбцы `begin_date` и `end_date` необходимо удалить (они уже являются лишними, к тому же через них может произойти утечка целевого признака). Идентификатор пользователя так же не несёт какой-либо важной информации. "
   ]
  },
  {
   "cell_type": "code",
   "execution_count": 36,
   "metadata": {},
   "outputs": [],
   "source": [
    "# удаление столбцов\n",
    "data.drop(['customer_id', 'begin_date', 'end_date'], axis=1, inplace=True)"
   ]
  },
  {
   "cell_type": "markdown",
   "metadata": {},
   "source": [
    "Проверим результат предыдущих манипуляций."
   ]
  },
  {
   "cell_type": "code",
   "execution_count": 37,
   "metadata": {
    "scrolled": true
   },
   "outputs": [
    {
     "data": {
      "text/html": [
       "<div>\n",
       "<style scoped>\n",
       "    .dataframe tbody tr th:only-of-type {\n",
       "        vertical-align: middle;\n",
       "    }\n",
       "\n",
       "    .dataframe tbody tr th {\n",
       "        vertical-align: top;\n",
       "    }\n",
       "\n",
       "    .dataframe thead th {\n",
       "        text-align: right;\n",
       "    }\n",
       "</style>\n",
       "<table border=\"1\" class=\"dataframe\">\n",
       "  <thead>\n",
       "    <tr style=\"text-align: right;\">\n",
       "      <th></th>\n",
       "      <th>type</th>\n",
       "      <th>paperless_billing</th>\n",
       "      <th>payment_method</th>\n",
       "      <th>monthly_charges</th>\n",
       "      <th>total_charges</th>\n",
       "      <th>gender</th>\n",
       "      <th>senior_citizen</th>\n",
       "      <th>partner</th>\n",
       "      <th>dependents</th>\n",
       "      <th>internet_service</th>\n",
       "      <th>online_security</th>\n",
       "      <th>online_backup</th>\n",
       "      <th>device_protection</th>\n",
       "      <th>tech_support</th>\n",
       "      <th>streaming_tv</th>\n",
       "      <th>streaming_movies</th>\n",
       "      <th>multiple_lines</th>\n",
       "      <th>churn</th>\n",
       "      <th>days</th>\n",
       "    </tr>\n",
       "  </thead>\n",
       "  <tbody>\n",
       "    <tr>\n",
       "      <th>0</th>\n",
       "      <td>Month-to-month</td>\n",
       "      <td>Yes</td>\n",
       "      <td>Electronic check</td>\n",
       "      <td>29.85</td>\n",
       "      <td>29.85</td>\n",
       "      <td>Female</td>\n",
       "      <td>No</td>\n",
       "      <td>Yes</td>\n",
       "      <td>No</td>\n",
       "      <td>DSL</td>\n",
       "      <td>No</td>\n",
       "      <td>Yes</td>\n",
       "      <td>No</td>\n",
       "      <td>No</td>\n",
       "      <td>No</td>\n",
       "      <td>No</td>\n",
       "      <td>Not used</td>\n",
       "      <td>0</td>\n",
       "      <td>31</td>\n",
       "    </tr>\n",
       "    <tr>\n",
       "      <th>1</th>\n",
       "      <td>One year</td>\n",
       "      <td>No</td>\n",
       "      <td>Mailed check</td>\n",
       "      <td>56.95</td>\n",
       "      <td>1889.50</td>\n",
       "      <td>Male</td>\n",
       "      <td>No</td>\n",
       "      <td>No</td>\n",
       "      <td>No</td>\n",
       "      <td>DSL</td>\n",
       "      <td>Yes</td>\n",
       "      <td>No</td>\n",
       "      <td>Yes</td>\n",
       "      <td>No</td>\n",
       "      <td>No</td>\n",
       "      <td>No</td>\n",
       "      <td>No</td>\n",
       "      <td>0</td>\n",
       "      <td>1036</td>\n",
       "    </tr>\n",
       "    <tr>\n",
       "      <th>2</th>\n",
       "      <td>Month-to-month</td>\n",
       "      <td>Yes</td>\n",
       "      <td>Mailed check</td>\n",
       "      <td>53.85</td>\n",
       "      <td>108.15</td>\n",
       "      <td>Male</td>\n",
       "      <td>No</td>\n",
       "      <td>No</td>\n",
       "      <td>No</td>\n",
       "      <td>DSL</td>\n",
       "      <td>Yes</td>\n",
       "      <td>Yes</td>\n",
       "      <td>No</td>\n",
       "      <td>No</td>\n",
       "      <td>No</td>\n",
       "      <td>No</td>\n",
       "      <td>No</td>\n",
       "      <td>1</td>\n",
       "      <td>61</td>\n",
       "    </tr>\n",
       "    <tr>\n",
       "      <th>3</th>\n",
       "      <td>One year</td>\n",
       "      <td>No</td>\n",
       "      <td>Bank transfer (automatic)</td>\n",
       "      <td>42.30</td>\n",
       "      <td>1840.75</td>\n",
       "      <td>Male</td>\n",
       "      <td>No</td>\n",
       "      <td>No</td>\n",
       "      <td>No</td>\n",
       "      <td>DSL</td>\n",
       "      <td>Yes</td>\n",
       "      <td>No</td>\n",
       "      <td>Yes</td>\n",
       "      <td>Yes</td>\n",
       "      <td>No</td>\n",
       "      <td>No</td>\n",
       "      <td>Not used</td>\n",
       "      <td>0</td>\n",
       "      <td>1371</td>\n",
       "    </tr>\n",
       "    <tr>\n",
       "      <th>4</th>\n",
       "      <td>Month-to-month</td>\n",
       "      <td>Yes</td>\n",
       "      <td>Electronic check</td>\n",
       "      <td>70.70</td>\n",
       "      <td>151.65</td>\n",
       "      <td>Female</td>\n",
       "      <td>No</td>\n",
       "      <td>No</td>\n",
       "      <td>No</td>\n",
       "      <td>Fiber optic</td>\n",
       "      <td>No</td>\n",
       "      <td>No</td>\n",
       "      <td>No</td>\n",
       "      <td>No</td>\n",
       "      <td>No</td>\n",
       "      <td>No</td>\n",
       "      <td>No</td>\n",
       "      <td>1</td>\n",
       "      <td>61</td>\n",
       "    </tr>\n",
       "  </tbody>\n",
       "</table>\n",
       "</div>"
      ],
      "text/plain": [
       "             type paperless_billing             payment_method  \\\n",
       "0  Month-to-month               Yes           Electronic check   \n",
       "1        One year                No               Mailed check   \n",
       "2  Month-to-month               Yes               Mailed check   \n",
       "3        One year                No  Bank transfer (automatic)   \n",
       "4  Month-to-month               Yes           Electronic check   \n",
       "\n",
       "   monthly_charges  total_charges  gender senior_citizen partner dependents  \\\n",
       "0            29.85          29.85  Female             No     Yes         No   \n",
       "1            56.95        1889.50    Male             No      No         No   \n",
       "2            53.85         108.15    Male             No      No         No   \n",
       "3            42.30        1840.75    Male             No      No         No   \n",
       "4            70.70         151.65  Female             No      No         No   \n",
       "\n",
       "  internet_service online_security online_backup device_protection  \\\n",
       "0              DSL              No           Yes                No   \n",
       "1              DSL             Yes            No               Yes   \n",
       "2              DSL             Yes           Yes                No   \n",
       "3              DSL             Yes            No               Yes   \n",
       "4      Fiber optic              No            No                No   \n",
       "\n",
       "  tech_support streaming_tv streaming_movies multiple_lines  churn  days  \n",
       "0           No           No               No       Not used      0    31  \n",
       "1           No           No               No             No      0  1036  \n",
       "2           No           No               No             No      1    61  \n",
       "3          Yes           No               No       Not used      0  1371  \n",
       "4           No           No               No             No      1    61  "
      ]
     },
     "execution_count": 37,
     "metadata": {},
     "output_type": "execute_result"
    }
   ],
   "source": [
    "data.head()"
   ]
  },
  {
   "cell_type": "code",
   "execution_count": 38,
   "metadata": {},
   "outputs": [],
   "source": [
    "# Списки с именами разных колонок\n",
    "\n",
    "# Числовые признаки\n",
    "num_cols = [\n",
    "    'monthly_charges',\n",
    "    'total_charges',\n",
    "    'days'\n",
    "]\n",
    "\n",
    "# Категориальные признаки\n",
    "cat_cols = [\n",
    "    'type',\n",
    "    'paperless_billing',\n",
    "    'payment_method',\n",
    "    'gender',\n",
    "    'senior_citizen',\n",
    "    'partner',\n",
    "    'dependents',\n",
    "    'internet_service',\n",
    "    'online_security',\n",
    "    'online_backup',\n",
    "    'device_protection',\n",
    "    'tech_support',\n",
    "    'streaming_tv',\n",
    "    'streaming_movies',\n",
    "    'multiple_lines'\n",
    "]\n",
    "\n",
    "feature_cols = num_cols + cat_cols\n",
    "target_col = 'churn'"
   ]
  },
  {
   "cell_type": "markdown",
   "metadata": {},
   "source": [
    "## Исследовательский анализ"
   ]
  },
  {
   "cell_type": "markdown",
   "metadata": {},
   "source": [
    "Посмотрим для начала на распределение целевой переменной."
   ]
  },
  {
   "cell_type": "code",
   "execution_count": 39,
   "metadata": {},
   "outputs": [
    {
     "data": {
      "image/png": "[encoded data removed]",
      "text/plain": [
       "<Figure size 432x288 with 1 Axes>"
      ]
     },
     "metadata": {},
     "output_type": "display_data"
    }
   ],
   "source": [
    "# круговая диаграмма для целевого признака\n",
    "sns.set_palette('pastel')\n",
    "plt.title('Target distribution')\n",
    "data['churn'].value_counts().plot(kind='pie', autopct='%.1f%%', ylabel='');"
   ]
  },
  {
   "cell_type": "markdown",
   "metadata": {},
   "source": [
    "Наблюдается небольшой дисбаланс классов. Этот факт необходимо будет учесть при разбиении выборки и обучении моделей.\n",
    "\n",
    "Рассмотрим распределения признаков по группам клиентов (оставшихся и ушедших)."
   ]
  },
  {
   "cell_type": "code",
   "execution_count": 40,
   "metadata": {},
   "outputs": [],
   "source": [
    "# временный столбец с используемыми сервисами\n",
    "data['services'] = 'All services'\n",
    "data.loc[((data['internet_service'] != 'Not used') &\n",
    "          (data['multiple_lines'] == 'Not used')), 'services'] = 'Internet only'\n",
    "data.loc[((data['internet_service'] == 'Not used') &\n",
    "          (data['multiple_lines'] != 'Not used')), 'services'] = 'Phone only'"
   ]
  },
  {
   "cell_type": "code",
   "execution_count": 41,
   "metadata": {},
   "outputs": [
    {
     "data": {
      "image/png": "[encoded data removed]",
      "text/plain": [
       "<Figure size 1440x1152 with 16 Axes>"
      ]
     },
     "metadata": {
      "needs_background": "light"
     },
     "output_type": "display_data"
    }
   ],
   "source": [
    "sns.set_palette('Set2')\n",
    "fig, axes = plt.subplots(nrows=4, ncols=4, figsize=(20, 16))\n",
    "cols = ['services'] + cat_cols\n",
    "\n",
    "for row_index, row in enumerate(axes):\n",
    "    for col_index, _ in enumerate(row):\n",
    "        cat_index = col_index + 4 * row_index\n",
    "        # Too long labels in payment_method, so cut it\n",
    "        x_labels = [name.split()[0] if cols[cat_index] == 'payment_method'\n",
    "                    else name for name in data[cols[cat_index]].unique()]\n",
    "        plot = sns.countplot(data=data, x=cols[cat_index], hue='churn',\n",
    "                             ax=axes[row_index, col_index])\n",
    "        plot.set_xlabel('')\n",
    "        plot.set_xticklabels(x_labels)\n",
    "        plot.set_title(cols[cat_index])"
   ]
  },
  {
   "cell_type": "markdown",
   "metadata": {},
   "source": [
    "Видно, что среди ушедших пользователей доля тех, кто пользуется только интернетом или только телефонной связью, мала. Однако, можно также заметить, что и среди оставшихся довольно много тех, кто пользуется обеими услугами."
   ]
  },
  {
   "cell_type": "code",
   "execution_count": 42,
   "metadata": {},
   "outputs": [],
   "source": [
    "# вспомогательные таблицы по категориям\n",
    "remaining = data.query('churn == 0')\n",
    "gone = data.query('churn == 1')"
   ]
  },
  {
   "cell_type": "code",
   "execution_count": 43,
   "metadata": {},
   "outputs": [
    {
     "data": {
      "image/png": "[encoded data removed]",
      "text/plain": [
       "<Figure size 864x1080 with 3 Axes>"
      ]
     },
     "metadata": {
      "needs_background": "light"
     },
     "output_type": "display_data"
    }
   ],
   "source": [
    "# построение гистограмм числовых признаков по группам клиентов\n",
    "fig, axes = plt.subplots(nrows=len(num_cols), figsize=(12, 15))\n",
    "for ax_index, axis in enumerate(axes):\n",
    "    axis.hist(remaining[num_cols[ax_index]], bins=30, color='lightgreen',\n",
    "              edgecolor='grey', alpha=0.5, label='remainig', density=True)\n",
    "    axis.hist(gone[num_cols[ax_index]], bins=30, color='olive',\n",
    "              edgecolor='grey', alpha=0.5, label='gone', density=True)\n",
    "    axis.axvline(remaining[num_cols[ax_index]].mean(), color='lightgreen',\n",
    "                 linestyle='dashed', linewidth=3,\n",
    "                 label=f'Mean remaining: {remaining[num_cols[ax_index]].mean():.0f}')\n",
    "    axis.axvline(gone[num_cols[ax_index]].mean(), color='olive',\n",
    "                 linestyle='dashed', linewidth=3,\n",
    "                 label=f'Mean gone: {gone[num_cols[ax_index]].mean():.0f}')\n",
    "    axis.legend()\n",
    "    axis.set_title(f'{num_cols[ax_index]} histogram')"
   ]
  },
  {
   "cell_type": "markdown",
   "metadata": {},
   "source": [
    "В среднем ушедшие пользователи ежемесячно тратят на услуги больше, чем те, кто остался. По все видимости, ушедшие пользователи чаще подключают много дополнительных услуг, из-за которых растёт ежемесячных платёж.\n",
    "\n",
    "Также можно заметить, что клиенты уходят часто спустя довольно короткий промежуток времени, в то время как распределение действующих пользователей по числу дней довольно равномерно.\n",
    "\n",
    "Посмотрим также на корреляцию признаков, т.к. для использования в линейных моделях классификации необходимо будет избавляться от мультиколлинеарности в данных."
   ]
  },
  {
   "cell_type": "code",
   "execution_count": 44,
   "metadata": {},
   "outputs": [],
   "source": [
    "data.drop('services', axis=1, inplace=True)"
   ]
  },
  {
   "cell_type": "code",
   "execution_count": 45,
   "metadata": {},
   "outputs": [
    {
     "data": {
      "text/html": [
       "<div>\n",
       "<style scoped>\n",
       "    .dataframe tbody tr th:only-of-type {\n",
       "        vertical-align: middle;\n",
       "    }\n",
       "\n",
       "    .dataframe tbody tr th {\n",
       "        vertical-align: top;\n",
       "    }\n",
       "\n",
       "    .dataframe thead th {\n",
       "        text-align: right;\n",
       "    }\n",
       "</style>\n",
       "<table border=\"1\" class=\"dataframe\">\n",
       "  <thead>\n",
       "    <tr style=\"text-align: right;\">\n",
       "      <th></th>\n",
       "      <th>monthly_charges</th>\n",
       "      <th>total_charges</th>\n",
       "      <th>days</th>\n",
       "    </tr>\n",
       "  </thead>\n",
       "  <tbody>\n",
       "    <tr>\n",
       "      <th>monthly_charges</th>\n",
       "      <td>1.000000</td>\n",
       "      <td>0.651182</td>\n",
       "      <td>0.247754</td>\n",
       "    </tr>\n",
       "    <tr>\n",
       "      <th>total_charges</th>\n",
       "      <td>0.651182</td>\n",
       "      <td>1.000000</td>\n",
       "      <td>0.826095</td>\n",
       "    </tr>\n",
       "    <tr>\n",
       "      <th>days</th>\n",
       "      <td>0.247754</td>\n",
       "      <td>0.826095</td>\n",
       "      <td>1.000000</td>\n",
       "    </tr>\n",
       "  </tbody>\n",
       "</table>\n",
       "</div>"
      ],
      "text/plain": [
       "                 monthly_charges  total_charges      days\n",
       "monthly_charges         1.000000       0.651182  0.247754\n",
       "total_charges           0.651182       1.000000  0.826095\n",
       "days                    0.247754       0.826095  1.000000"
      ]
     },
     "execution_count": 45,
     "metadata": {},
     "output_type": "execute_result"
    }
   ],
   "source": [
    "data[num_cols].corr()"
   ]
  },
  {
   "cell_type": "code",
   "execution_count": 46,
   "metadata": {},
   "outputs": [
    {
     "data": {
      "image/png": "[encoded data removed]",
      "text/plain": [
       "<Figure size 720x576 with 2 Axes>"
      ]
     },
     "metadata": {
      "needs_background": "light"
     },
     "output_type": "display_data"
    }
   ],
   "source": [
    "phik_corr = data.drop('churn', axis=1).phik_matrix(interval_cols=num_cols)\n",
    "phik_corr.round(2)\n",
    "\n",
    "plot_correlation_matrix(phik_corr.values, \n",
    "                        x_labels=phik_corr.columns, \n",
    "                        y_labels=phik_corr.index, \n",
    "                        vmin=0, vmax=1, color_map=\"Reds\", \n",
    "                        title=r\"correlation $\\phi_K$\", \n",
    "                        figsize=(10, 8))\n",
    "plt.tight_layout()"
   ]
  },
  {
   "cell_type": "markdown",
   "metadata": {},
   "source": [
    "Закономерно прослеживается довольно сильная линейная зависимость между общими тратами и количеством дней и немного более слабая от ежемесячного платежа. Удалим `total_charges`, т.к. в принципе этот параметр можно вычислить из ежемесячных трат и длительности пользования услугами."
   ]
  },
  {
   "cell_type": "code",
   "execution_count": 47,
   "metadata": {},
   "outputs": [],
   "source": [
    "data.drop('total_charges', axis=1, inplace=True)\n",
    "num_cols.remove('total_charges')"
   ]
  },
  {
   "cell_type": "markdown",
   "metadata": {},
   "source": [
    "Также заметно довольно сильное влияние дополнительных услуг на месячный платёж. Особенно это касается `internet_service`. Можно обратить внимание и на то, что есть несколько признаков, которые довольно слабо коррелируют со всеми остальными, например, `gender` или `senior_citizen`. Однако данный тип корреляции может находить нелинейные зависимости, поэтому предварительно решим не избавляться от кажущихся лишними признаков.\n",
    "\n",
    "Перейдём к обучению и выбору моделей."
   ]
  },
  {
   "cell_type": "markdown",
   "metadata": {},
   "source": [
    "## Обучение и сравнение моделей"
   ]
  },
  {
   "cell_type": "code",
   "execution_count": 48,
   "metadata": {
    "scrolled": true
   },
   "outputs": [
    {
     "name": "stdout",
     "output_type": "stream",
     "text": [
      "Train size = 5282\n",
      "Test size = 1761\n"
     ]
    }
   ],
   "source": [
    "# подготовка обучающей и тестовой выборки\n",
    "(X_train, X_test,\n",
    " y_train, y_test) = train_test_split(data.drop('churn', axis=1), data['churn'],\n",
    "                                     test_size=0.25, random_state=RANDOM_STATE,\n",
    "                                     stratify=data['churn'])\n",
    "# проверка разбиения\n",
    "print(f'Train size = {X_train.shape[0]}')\n",
    "print(f'Test size = {X_test.shape[0]}')"
   ]
  },
  {
   "cell_type": "markdown",
   "metadata": {},
   "source": [
    "### Логистическая регрессия"
   ]
  },
  {
   "cell_type": "code",
   "execution_count": 49,
   "metadata": {},
   "outputs": [],
   "source": [
    "# предобработка данных по группам признаков\n",
    "transformers = [\n",
    "    ('scaler', StandardScaler(), num_cols),\n",
    "    ('encoder', OneHotEncoder(drop='first'), cat_cols)\n",
    "]\n",
    "preprocessor = ColumnTransformer(transformers, remainder='passthrough', n_jobs=-1)\n",
    "\n",
    "# модель и pipeline\n",
    "classifier = LogisticRegression(class_weight='balanced', max_iter=1000, n_jobs=-1)\n",
    "pipe = Pipeline([\n",
    "    ('preprocessor', preprocessor),\n",
    "    ('classifier', classifier)\n",
    "])\n",
    "\n",
    "# сетка гиперпараметров\n",
    "lr_params = {\n",
    "    'classifier__C': [1000, 100, 10, 1, 0.1, 0.01, 0.001]\n",
    "}"
   ]
  },
  {
   "cell_type": "code",
   "execution_count": 50,
   "metadata": {},
   "outputs": [
    {
     "name": "stdout",
     "output_type": "stream",
     "text": [
      "Best LogisticRegression ROC-AUC: 0.84096\n",
      "Best LogisticRegression parameters: {'classifier__C': 0.1}\n",
      "\n",
      "CPU times: total: 328 ms\n",
      "Wall time: 1.3 s\n"
     ]
    }
   ],
   "source": [
    "%%time\n",
    "lr_searcher = GridSearchCV(pipe, lr_params, scoring='roc_auc',\n",
    "                           refit=True, n_jobs=-1)\n",
    "lr_searcher.fit(X_train, y_train)\n",
    "print(f'Best LogisticRegression ROC-AUC: {lr_searcher.best_score_:.5f}')\n",
    "print(f'Best LogisticRegression parameters: {lr_searcher.best_params_}')\n",
    "print()"
   ]
  },
  {
   "cell_type": "markdown",
   "metadata": {},
   "source": [
    "### RandomForestClassifier"
   ]
  },
  {
   "cell_type": "code",
   "execution_count": 51,
   "metadata": {},
   "outputs": [],
   "source": [
    "# предобработка данных по группам признаков\n",
    "transformers = [\n",
    "    ('encoder', OneHotEncoder(drop='first'), cat_cols)\n",
    "]\n",
    "preprocessor = ColumnTransformer(transformers, remainder='passthrough', n_jobs=-1)\n",
    "\n",
    "# модель и pipeline\n",
    "classifier = RandomForestClassifier(class_weight='balanced',\n",
    "                                    random_state=RANDOM_STATE, n_jobs=-1)\n",
    "pipe = Pipeline([\n",
    "    ('preprocessor', preprocessor),\n",
    "    ('classifier', classifier)\n",
    "])\n",
    "\n",
    "# сетка гиперпараметров\n",
    "rf_params = {\n",
    "    'classifier__n_estimators': range(100, 501, 50),\n",
    "    'classifier__max_depth': range(2, 21, 2),\n",
    "    'classifier__max_features': ['sqrt', 'log2', None]\n",
    "}"
   ]
  },
  {
   "cell_type": "code",
   "execution_count": 52,
   "metadata": {
    "scrolled": true
   },
   "outputs": [
    {
     "name": "stdout",
     "output_type": "stream",
     "text": [
      "Best RandomForest ROC-AUC: 0.86857\n",
      "Best RandomForest parameters: {'classifier__n_estimators': 500, 'classifier__max_features': None, 'classifier__max_depth': 10}\n",
      "\n",
      "CPU times: total: 6.33 s\n",
      "Wall time: 21.2 s\n"
     ]
    }
   ],
   "source": [
    "%%time\n",
    "rf_searcher = RandomizedSearchCV(pipe, rf_params, scoring='roc_auc',\n",
    "                                 refit=True, random_state=RANDOM_STATE, n_jobs=-1)\n",
    "rf_searcher.fit(X_train, y_train)\n",
    "print(f'Best RandomForest ROC-AUC: {rf_searcher.best_score_:.5f}')\n",
    "print(f'Best RandomForest parameters: {rf_searcher.best_params_}')\n",
    "print()"
   ]
  },
  {
   "cell_type": "markdown",
   "metadata": {},
   "source": [
    "### CatBoostClassifier"
   ]
  },
  {
   "cell_type": "code",
   "execution_count": 53,
   "metadata": {},
   "outputs": [],
   "source": [
    "# сетка гиперпараметров\n",
    "cb_params = {'iterations': list(range(100, 501, 50)),\n",
    "             'learning_rate': np.arange(0.05, 0.2, 0.05),\n",
    "             'depth': range(4, 11, 2)\n",
    "            }\n",
    "# модель\n",
    "classifier = CatBoostClassifier(cat_features=cat_cols, logging_level='Silent',\n",
    "                                eval_metric='AUC:hints=skip_train~false',\n",
    "                                random_seed=RANDOM_STATE)"
   ]
  },
  {
   "cell_type": "code",
   "execution_count": 54,
   "metadata": {},
   "outputs": [
    {
     "name": "stdout",
     "output_type": "stream",
     "text": [
      "Best CatBoost ROC-AUC: 0.90838\n",
      "Best CatBoost parameters: {'learning_rate': 0.2, 'iterations': 450, 'depth': 6}\n",
      "\n",
      "CPU times: total: 22.1 s\n",
      "Wall time: 3min 32s\n"
     ]
    }
   ],
   "source": [
    "%%time\n",
    "cb_searcher = RandomizedSearchCV(classifier, cb_params, scoring='roc_auc',\n",
    "                                 refit=True, random_state=RANDOM_STATE, n_jobs=-1)\n",
    "cb_searcher.fit(X_train, y_train)\n",
    "print(f'Best CatBoost ROC-AUC: {cb_searcher.best_score_:.5f}')\n",
    "print(f'Best CatBoost parameters: {cb_searcher.best_params_}')\n",
    "print()"
   ]
  },
  {
   "cell_type": "markdown",
   "metadata": {},
   "source": [
    "### Сравнение моделей"
   ]
  },
  {
   "cell_type": "code",
   "execution_count": 55,
   "metadata": {},
   "outputs": [
    {
     "data": {
      "text/html": [
       "<div>\n",
       "<style scoped>\n",
       "    .dataframe tbody tr th:only-of-type {\n",
       "        vertical-align: middle;\n",
       "    }\n",
       "\n",
       "    .dataframe tbody tr th {\n",
       "        vertical-align: top;\n",
       "    }\n",
       "\n",
       "    .dataframe thead th {\n",
       "        text-align: right;\n",
       "    }\n",
       "</style>\n",
       "<table border=\"1\" class=\"dataframe\">\n",
       "  <thead>\n",
       "    <tr style=\"text-align: right;\">\n",
       "      <th></th>\n",
       "      <th>Model</th>\n",
       "      <th>ROC-AUC</th>\n",
       "    </tr>\n",
       "  </thead>\n",
       "  <tbody>\n",
       "    <tr>\n",
       "      <th>0</th>\n",
       "      <td>LogisticRegression</td>\n",
       "      <td>0.840959</td>\n",
       "    </tr>\n",
       "    <tr>\n",
       "      <th>1</th>\n",
       "      <td>RandomForestClassifier</td>\n",
       "      <td>0.868569</td>\n",
       "    </tr>\n",
       "    <tr>\n",
       "      <th>2</th>\n",
       "      <td>CatBoostClassifier</td>\n",
       "      <td>0.908376</td>\n",
       "    </tr>\n",
       "  </tbody>\n",
       "</table>\n",
       "</div>"
      ],
      "text/plain": [
       "                    Model   ROC-AUC\n",
       "0      LogisticRegression  0.840959\n",
       "1  RandomForestClassifier  0.868569\n",
       "2      CatBoostClassifier  0.908376"
      ]
     },
     "execution_count": 55,
     "metadata": {},
     "output_type": "execute_result"
    }
   ],
   "source": [
    "results = [['LogisticRegression', lr_searcher.best_score_],\n",
    "           ['RandomForestClassifier', rf_searcher.best_score_],\n",
    "           ['CatBoostClassifier', cb_searcher.best_score_]]\n",
    "columns = ['Model', 'ROC-AUC']\n",
    "table = pd.DataFrame(data=results, columns=columns)\n",
    "table"
   ]
  },
  {
   "cell_type": "markdown",
   "metadata": {},
   "source": [
    "На этапе обучения наилучшие результаты показала модель `CatBoostClassifier` с параметрами `learning_rate=0.2, iteration=450, depth=6`. Будем использовать именно эту модель для итогового тестирования."
   ]
  },
  {
   "cell_type": "markdown",
   "metadata": {},
   "source": [
    "## Тестирование модели"
   ]
  },
  {
   "cell_type": "code",
   "execution_count": 56,
   "metadata": {},
   "outputs": [],
   "source": [
    "model = cb_searcher.best_estimator_\n",
    "y_test_predicted = model.predict_proba(X_test)[:,1]"
   ]
  },
  {
   "cell_type": "code",
   "execution_count": 57,
   "metadata": {},
   "outputs": [
    {
     "name": "stdout",
     "output_type": "stream",
     "text": [
      "Test ROC-AUC: 0.92525\n",
      "Test accuracy: 0.87961\n"
     ]
    }
   ],
   "source": [
    "test_auc = roc_auc_score(y_test, y_test_predicted)\n",
    "test_accuracy = accuracy_score(y_test, model.predict(X_test))\n",
    "print(f'Test ROC-AUC: {test_auc:.5f}')\n",
    "print(f'Test accuracy: {test_accuracy:.5f}')"
   ]
  },
  {
   "cell_type": "code",
   "execution_count": 58,
   "metadata": {},
   "outputs": [
    {
     "data": {
      "image/png": "[encoded data removed]",
      "text/plain": [
       "<Figure size 864x432 with 1 Axes>"
      ]
     },
     "metadata": {
      "needs_background": "light"
     },
     "output_type": "display_data"
    }
   ],
   "source": [
    "sns.set_palette('bright')\n",
    "fpr, tpr, thrs = roc_curve(y_test, y_test_predicted) \n",
    "plt.figure(figsize=(12, 6))\n",
    "plt.plot(fpr, tpr, linestyle='-', label=f'test AUC = {test_auc:.5f}')\n",
    "plt.plot([0, 1], [0, 1], linestyle='--')\n",
    "plt.xlim([0.0, 1.0])\n",
    "plt.ylim([0.0, 1.0])\n",
    "plt.xlabel('False Positive Rate')\n",
    "plt.ylabel('True Positive Rate')\n",
    "plt.title('ROC-curve')\n",
    "plt.legend()\n",
    "plt.show()"
   ]
  },
  {
   "cell_type": "markdown",
   "metadata": {},
   "source": [
    "Таким образом, наилучшая по результатам обучения модель `CatBoostClassifier` на тестовой выборке показала результат `ROC-AUC=0.92` и `accuracy=0.88`.\n",
    "\n",
    "Рассмотрим важность признаков полученной модели."
   ]
  },
  {
   "cell_type": "code",
   "execution_count": 59,
   "metadata": {},
   "outputs": [
    {
     "data": {
      "image/png": "[encoded data removed]",
      "text/plain": [
       "<Figure size 720x360 with 1 Axes>"
      ]
     },
     "metadata": {
      "needs_background": "light"
     },
     "output_type": "display_data"
    }
   ],
   "source": [
    "feat_imp = pd.Series(model.feature_importances_, X_train.columns)\n",
    "plt.figure(figsize=(10, 5))\n",
    "feat_imp.sort_values(ascending=False).plot(kind='bar');\n",
    "plt.grid()"
   ]
  },
  {
   "cell_type": "markdown",
   "metadata": {},
   "source": [
    "Таким образом, из 18 признаков наиболее важными для алгоритма оказались `days`, `monthly_charges`, `type`, `payment_method`, `internet_service` и `multiple_lines`. Остальные характеристики имеют меньшее значение."
   ]
  },
  {
   "cell_type": "markdown",
   "metadata": {},
   "source": [
    "## Вывод"
   ]
  },
  {
   "cell_type": "markdown",
   "metadata": {},
   "source": [
    "На первом этапе данные были загружены и предобработаны (объединены таблицы, заполнены пропуски). Затем была проведена подготовка данных для дальнейшего анализа и обучения моделей (выделен целевой признак, добавлены новые и удалены лишние признаки).\n",
    "\n",
    "Проведён исследовательский анализ данных. Выявлена несбалансированность выбобрки по целевому признаку. На основани корреляции числовых признаков часть была удалена для устранения мультиколлинеарности.\n",
    "\n",
    "Выборка была поделена на тренировочную и тестовую. С использованием кросс-валидации были подобраны гиперпараметры и обучены три модели классификации:\n",
    " - *LogisticRegression* (с применением *Pipeline* для обработки столбцов перед применением в модели);\n",
    " - *RandomForestClassifier*;\n",
    " - *CatBoostClassifier*.\n",
    "\n",
    "На основании полученных резльтатов в качестве итоговой модели был выбран `CatBoostClassifier` с параметрами `learning_rate=0.2, iteration=450, depth=6`. На тестовой выборке эта модель показала результат `ROC-AUC=0.92` и `accuracy=0.88`."
   ]
  },
  {
   "cell_type": "markdown",
   "metadata": {},
   "source": [
    "# Отчёт"
   ]
  },
  {
   "cell_type": "markdown",
   "metadata": {},
   "source": [
    "В ходе выполнения работы была решена задача построения модели, предсказывающей отток клиентов оператора связи. В качестве метрики был выбран ROC-AUC.\n",
    "\n",
    "Предоставленные входные данные, актуальные на 01.02.2020, содержат следующее:\n",
    " - *информация о контрактах* (дата начала пользования услугами, дата окончания пользования услугами, тип оплаты, безналичный расчёт, способ оплаты, ежемесячные траты на услуги, общие траты на услуги);\n",
    " - *информация о клиентах* (пол клиента, пенсионный статус, наличие супруга(-и), наличие иждивенцев);\n",
    " - *информация об использовании интернет-услуг* (тип подключения, блокировка небезопасных сайтов, резервное копирвоание, антивирус, техническая поддержка, стриминговое телевидение, каталог фильмов);\n",
    " - *информация об использовании телефонной связи* (подключение телефона к нескольким линиям).\n",
    "  \n",
    "\n",
    "Первоначальный план состоял из следующих пунктов:\n",
    " 1. *Предобработка данных*\n",
    " 0. *Исследовательский анализ данных*\n",
    " 0. *Подготовка данных*\n",
    " 0. *Обучение и сравнение моделей*\n",
    " 0. *Тестирование лучшей модели*\n",
    " 0. *Составление отчёта*\n",
    " \n",
    "После начала работы порядко пунктов *2 (Исследовательский анализ данных)* и *3 (Подготовка данных)* был изменён. В остальном план остался прежним, а все его пункты были реализованы.\n",
    "\n",
    "**Предобработка данных**\n",
    "\n",
    "Перед началом работы имеющиеся данные были объединены в общую таблицу по параметру `сustomerID`. Образованные после объединения технические пропуски были заменены на следующие значения:\n",
    " - для столбцов `InternetService` и `MultipleLines` -- `Not used` (чтобы подчеркнуть, что определённый вид услуг не был использован вовсе);\n",
    " - для прочих столбцов интернет-услуг -- `No`.\n",
    " \n",
    "Пропуски в колонке `TotalCharges`, которые были выражены пробелами, заменены на значения соседнего столбца `MonthlyCharges` (т.к. данные пропуски обнаружены для новых клиентов).\n",
    "\n",
    "**Подготовка данных**\n",
    "\n",
    "В предоставленных для исследования данных не был явно указан целевой признак -- факт ухода клиента. Однако эта проблема была решена на основаннии данных в столбце `EndDate`:\n",
    " - `Churn = 1`, если в `EndDate` указана дата (т.е. договор расторгнут);\n",
    " - `Churn = 0`, если в `EndDate` содержится значение *No* (т.е. договор ещё действует).\n",
    "\n",
    "Имеющиеся временные признаки были переведены в продолжительность пользования услугами:\n",
    " - разница между `EndDate` и `BeginDate` в днях, если договор расторгнут;\n",
    " - разница между датой выгрузки данных (01.02.2020) и `BeginDate`, если клиент продолжает пользоваться услугами.\n",
    "\n",
    "Для недопущения утечки целевого признака, информация о датах (`BeginDate` и `EndDate`) была удалена. Также был удалён `customerID`, т.к. смысловой нагрузки в решаемой задаче этот признак не имеет.\n",
    "\n",
    "**Исследовательский анализ**\n",
    "\n",
    "Анализ целевого признака показал наличие дисбаланса классов, что было в дальнейшем учтено при разбиении выборки и обцчении моделей. Анализ распределений остальных признаков, а также их корреляций, показал необходимость также удалить информацию об общих тратах `TotalCharges`, т.к. наблюдалась довольно высокая корреляция этого признака с `MonthlyCharges` и продолжительностью пользования услугами.\n",
    "\n",
    "**Обучение и сравнение моделей**\n",
    "\n",
    "После проделанных выше действий к этапу обучения моделей подошли со следующим набором признаков:\n",
    " - присутствующие в исходных данных: *Type*, *PaperlessBilling*, *PaymentMethod*, *MonthlyCharges*, *gender*, *SeniorCitizen*, *Partner*, *Dependents*, *InternetService*, *OnlineSecurity*, *OnlineBackup*, *DeviceProtection*, *TechSupport*, *StreamingTV*, *StreamingMovies*, *MultipleLines*;\n",
    " - *Days* -- добавленный признак -- продолжительность прользования услугами;\n",
    " - *Churn* -- целевой признак -- факт ухода клиента.\n",
    " \n",
    "Как можно заметить, числовыми признаками являются только *MonthlyCharges* и *Days*. Остальные признаки являются категориальными. Данные были разбиты на обучающую и тренировочную выборки в соотношении 3:1.\n",
    "\n",
    "*Логистическая регрессия*\n",
    "\n",
    "Для применения признаков в линейных моделях важна предварительная обраотка данных. Чтобы упростить все преобразования было решено использовать `ColumnTransformer`, который применяет `StandardScaler` для чиловых и `OneHotEncoder` для категориальных признаков. Преобразователь вместе с моделью логистической регрессии (для которой указан аргумент `class_weight='balanced'` ввиду несбалансированности выборки) были объединены в `Pipeline`. Подбором параметра `C` (1000, 100, 10, 1, 0.1, 0.01, 0.001) на кросс-валидации удалось получить наилучшее значение метрики `ROC-AUC = 0.84` для параметра `C = 0.1`.\n",
    "\n",
    "*Случайный лес*\n",
    "\n",
    "Обучение и подбор параметров модели случайного леса был организован схожим образом с моделью логичтической регресси, за исключением применения нормировщика для числовых признаков, т.к. здесь в этом нет необходимости. Т.е. в пайплайн воли только `OneHotEncoder` для категориальных признаков и `RandomForestClassifier(class_weight='balanced')`. Перебором по параметрам     *'n_estimators': range(100, 501, 50), 'max_depth': range(2, 21, 2), 'max_features': ['sqrt', 'log2', None]* при помощи `RandomizedSearchCV` был получен результат `ROC-AUC = 0.87` при параметрах `'n_estimators': 500, 'max_features': None, 'max_depth': 10`.\n",
    "\n",
    "*Градиентный бустинг*\n",
    "\n",
    "Для обучения модели `CatBoostClassifier` особой подготовки признаков не требовалось, достаточно было передать в аргументы модели список категориальных признаков. Для более быстрого подбора параметров среди `'iterations': range(100, 501, 50), 'learning_rate': np.arange(0.05, 0.2, 0.05), 'depth': range(4, 11, 2)` был применён `RandomizedSearchCV`. Наилучший результат `ROC-AUC = 0.91` был достигнут при параметрах `'learning_rate': 0.2, 'iterations': 450, 'depth': 6`.\n",
    "\n",
    "**Тестирование модели**\n",
    "\n",
    "По результатам обучения и сравнения моделей лучшей была выбрана модель градиентного бустинга `CatBoostClassifier(learning_rate=0.2, iterations=450, depth=6)`. Результатов тестирования данной модели стало значение метрики `ROC-AUC = 0.92` (при `accuracy = 0.88`).\n",
    "\n",
    "Таким образом, поставленная задача была успешно выполнена. Существенных трудностей в процессе работы не возникло. Какие-либо явные ключевые этапы, которые позволили добиться высокого результата, выделить сложно т.к. все предпринятые шаги важны: и предобработка с заполнением пропусков, и выделение новых признаков, и удаление лишних по результатам анализа признаков, и сама организация процесса подбора гиперпараметров и обучения моделей."
   ]
  },
  {
   "cell_type": "code",
   "execution_count": null,
   "metadata": {},
   "outputs": [],
   "source": []
  }
 ],
 "metadata": {
  "ExecuteTimeLog": [
   {
    "duration": 358,
    "start_time": "2022-10-18T08:07:13.529Z"
   },
   {
    "duration": 150,
    "start_time": "2022-10-18T08:08:47.048Z"
   },
   {
    "duration": 128,
    "start_time": "2022-10-18T08:08:56.040Z"
   },
   {
    "duration": 141,
    "start_time": "2022-10-18T08:09:09.191Z"
   },
   {
    "duration": 106,
    "start_time": "2022-10-18T08:09:17.815Z"
   },
   {
    "duration": 22,
    "start_time": "2022-10-18T08:09:42.503Z"
   },
   {
    "duration": 12,
    "start_time": "2022-10-18T08:09:51.399Z"
   },
   {
    "duration": 93,
    "start_time": "2022-10-18T08:10:11.566Z"
   },
   {
    "duration": 13,
    "start_time": "2022-10-18T08:10:13.575Z"
   },
   {
    "duration": 56,
    "start_time": "2022-10-18T08:10:55.535Z"
   },
   {
    "duration": 7,
    "start_time": "2022-10-18T08:10:58.583Z"
   },
   {
    "duration": 7,
    "start_time": "2022-10-18T08:11:11.359Z"
   },
   {
    "duration": 57,
    "start_time": "2022-10-18T08:13:25.814Z"
   },
   {
    "duration": 13,
    "start_time": "2022-10-18T08:13:34.709Z"
   },
   {
    "duration": 7,
    "start_time": "2022-10-18T08:14:20.669Z"
   },
   {
    "duration": 15,
    "start_time": "2022-10-18T08:15:11.572Z"
   },
   {
    "duration": 19,
    "start_time": "2022-10-18T08:15:48.372Z"
   },
   {
    "duration": 15,
    "start_time": "2022-10-18T08:15:57.236Z"
   },
   {
    "duration": 12,
    "start_time": "2022-10-18T08:16:09.301Z"
   },
   {
    "duration": 12,
    "start_time": "2022-10-18T08:16:25.781Z"
   },
   {
    "duration": 13,
    "start_time": "2022-10-18T08:17:12.163Z"
   },
   {
    "duration": 353,
    "start_time": "2022-10-18T08:17:22.128Z"
   },
   {
    "duration": 58,
    "start_time": "2022-10-18T08:17:22.483Z"
   },
   {
    "duration": 19,
    "start_time": "2022-10-18T08:17:22.542Z"
   },
   {
    "duration": 20,
    "start_time": "2022-10-18T08:17:22.564Z"
   },
   {
    "duration": 20,
    "start_time": "2022-10-18T08:17:22.585Z"
   },
   {
    "duration": 20,
    "start_time": "2022-10-18T08:17:22.607Z"
   },
   {
    "duration": 18,
    "start_time": "2022-10-18T08:17:22.629Z"
   },
   {
    "duration": 6,
    "start_time": "2022-10-18T08:18:12.101Z"
   },
   {
    "duration": 5,
    "start_time": "2022-10-18T08:18:20.148Z"
   },
   {
    "duration": 6,
    "start_time": "2022-10-18T08:18:29.252Z"
   },
   {
    "duration": 13,
    "start_time": "2022-10-18T08:18:35.428Z"
   },
   {
    "duration": 378,
    "start_time": "2022-10-18T08:18:50.608Z"
   },
   {
    "duration": 56,
    "start_time": "2022-10-18T08:18:50.988Z"
   },
   {
    "duration": 19,
    "start_time": "2022-10-18T08:18:51.045Z"
   },
   {
    "duration": 3,
    "start_time": "2022-10-18T08:18:51.066Z"
   },
   {
    "duration": 26,
    "start_time": "2022-10-18T08:18:51.070Z"
   },
   {
    "duration": 21,
    "start_time": "2022-10-18T08:18:51.097Z"
   },
   {
    "duration": 17,
    "start_time": "2022-10-18T08:18:51.120Z"
   },
   {
    "duration": 5,
    "start_time": "2022-10-18T08:19:08.480Z"
   },
   {
    "duration": 6,
    "start_time": "2022-10-18T08:19:20.720Z"
   },
   {
    "duration": 14,
    "start_time": "2022-10-18T08:19:29.416Z"
   },
   {
    "duration": 21,
    "start_time": "2022-10-18T08:19:37.256Z"
   },
   {
    "duration": 18,
    "start_time": "2022-10-18T08:19:47.610Z"
   },
   {
    "duration": 74,
    "start_time": "2022-10-18T08:20:21.440Z"
   },
   {
    "duration": 97,
    "start_time": "2022-10-18T08:20:46.960Z"
   },
   {
    "duration": 14,
    "start_time": "2022-10-18T08:21:05.231Z"
   },
   {
    "duration": 14,
    "start_time": "2022-10-18T08:21:12.495Z"
   },
   {
    "duration": 8,
    "start_time": "2022-10-18T08:22:29.647Z"
   },
   {
    "duration": 7,
    "start_time": "2022-10-18T08:22:34.391Z"
   },
   {
    "duration": 8,
    "start_time": "2022-10-18T08:23:39.502Z"
   },
   {
    "duration": 14,
    "start_time": "2022-10-18T08:34:59.357Z"
   },
   {
    "duration": 14,
    "start_time": "2022-10-18T08:37:34.766Z"
   },
   {
    "duration": 16,
    "start_time": "2022-10-18T08:37:54.519Z"
   },
   {
    "duration": 12,
    "start_time": "2022-10-18T08:38:54.069Z"
   },
   {
    "duration": 57,
    "start_time": "2022-10-18T08:45:03.568Z"
   },
   {
    "duration": 3,
    "start_time": "2022-10-18T08:45:13.376Z"
   },
   {
    "duration": 16,
    "start_time": "2022-10-18T08:45:15.465Z"
   },
   {
    "duration": 3,
    "start_time": "2022-10-18T08:45:24.977Z"
   },
   {
    "duration": 8,
    "start_time": "2022-10-18T08:45:29.592Z"
   },
   {
    "duration": 7,
    "start_time": "2022-10-18T08:46:29.872Z"
   },
   {
    "duration": 5,
    "start_time": "2022-10-18T08:47:12.559Z"
   },
   {
    "duration": 6,
    "start_time": "2022-10-18T08:47:26.328Z"
   },
   {
    "duration": 9,
    "start_time": "2022-10-18T08:48:18.583Z"
   },
   {
    "duration": 9,
    "start_time": "2022-10-18T08:48:20.943Z"
   },
   {
    "duration": 419,
    "start_time": "2022-10-18T08:48:37.716Z"
   },
   {
    "duration": 60,
    "start_time": "2022-10-18T08:48:38.136Z"
   },
   {
    "duration": 8,
    "start_time": "2022-10-18T08:48:38.198Z"
   },
   {
    "duration": 16,
    "start_time": "2022-10-18T08:48:38.208Z"
   },
   {
    "duration": 27,
    "start_time": "2022-10-18T08:48:38.226Z"
   },
   {
    "duration": 22,
    "start_time": "2022-10-18T08:48:38.254Z"
   },
   {
    "duration": 19,
    "start_time": "2022-10-18T08:48:38.277Z"
   },
   {
    "duration": 17,
    "start_time": "2022-10-18T08:48:38.297Z"
   },
   {
    "duration": 21,
    "start_time": "2022-10-18T08:48:38.316Z"
   },
   {
    "duration": 10,
    "start_time": "2022-10-18T08:49:57.606Z"
   },
   {
    "duration": 7,
    "start_time": "2022-10-18T08:50:13.798Z"
   },
   {
    "duration": 10,
    "start_time": "2022-10-18T08:50:32.067Z"
   },
   {
    "duration": 9,
    "start_time": "2022-10-18T08:50:36.645Z"
   },
   {
    "duration": 9,
    "start_time": "2022-10-18T08:51:40.190Z"
   },
   {
    "duration": 7,
    "start_time": "2022-10-18T08:51:46.316Z"
   },
   {
    "duration": 427,
    "start_time": "2022-10-21T09:49:09.107Z"
   },
   {
    "duration": 186,
    "start_time": "2022-10-21T09:49:09.536Z"
   },
   {
    "duration": 15,
    "start_time": "2022-10-21T09:49:10.381Z"
   }
  ],
  "kernelspec": {
   "display_name": "Python 3 (ipykernel)",
   "language": "python",
   "name": "python3"
  },
  "language_info": {
   "codemirror_mode": {
    "name": "ipython",
    "version": 3
   },
   "file_extension": ".py",
   "mimetype": "text/x-python",
   "name": "python",
   "nbconvert_exporter": "python",
   "pygments_lexer": "ipython3",
   "version": "3.9.10"
  },
  "toc": {
   "base_numbering": 1,
   "nav_menu": {},
   "number_sections": true,
   "sideBar": true,
   "skip_h1_title": true,
   "title_cell": "Table of Contents",
   "title_sidebar": "Contents",
   "toc_cell": false,
   "toc_position": {
    "height": "calc(100% - 180px)",
    "left": "10px",
    "top": "150px",
    "width": "280.062px"
   },
   "toc_section_display": true,
   "toc_window_display": false
  }
 },
 "nbformat": 4,
 "nbformat_minor": 2
}
