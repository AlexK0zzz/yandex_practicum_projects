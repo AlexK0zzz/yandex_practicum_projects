{
 "cells": [
  {
   "cell_type": "markdown",
   "metadata": {},
   "source": [
    "# Классификаци комментариев"
   ]
  },
  {
   "cell_type": "markdown",
   "metadata": {},
   "source": [
    "Интернет-магазин, запускающий новый сервис редактирования и дополнения описаний товаров пользователями, нуждается в инструменте, который определяет токсичные комментарии и отправляет их на модерацию.\n",
    "\n",
    "Необходимо обучить модель классифицировать комментарии на позитивные и негативные.\n",
    "\n",
    "**План**\n",
    "\n",
    "1. Загрузка и подготовка данных.\n",
    "2. Обучение и сравнение моделей. \n",
    "3. Тестирование и выводы.\n",
    "\n",
    "**Описание данных**\n",
    "\n",
    "Входная информация -- набор данных с разметкой о токсичности правок. Столбец *text* в нём содержит текст комментария, а *toxic* — целевой признак."
   ]
  },
  {
   "cell_type": "markdown",
   "metadata": {},
   "source": [
    "## Подготовка"
   ]
  },
  {
   "cell_type": "code",
   "execution_count": 1,
   "metadata": {},
   "outputs": [],
   "source": [
    "import pandas as pd\n",
    "import numpy as np\n",
    "import re\n",
    "\n",
    "import nltk\n",
    "from nltk.corpus import stopwords as nltk_stopwords\n",
    "from nltk.stem import WordNetLemmatizer\n",
    "\n",
    "from sklearn.pipeline import Pipeline\n",
    "\n",
    "from sklearn.feature_extraction.text import TfidfVectorizer\n",
    "from sklearn.preprocessing import StandardScaler\n",
    "\n",
    "from sklearn.model_selection import train_test_split\n",
    "from sklearn.model_selection import RandomizedSearchCV\n",
    "\n",
    "from sklearn.linear_model import LogisticRegression\n",
    "from sklearn.tree import DecisionTreeClassifier\n",
    "from sklearn.ensemble import RandomForestClassifier\n",
    "\n",
    "from sklearn.metrics import f1_score"
   ]
  },
  {
   "cell_type": "code",
   "execution_count": 2,
   "metadata": {},
   "outputs": [
    {
     "name": "stderr",
     "output_type": "stream",
     "text": [
      "[nltk_data] Downloading package wordnet to /home/jovyan/nltk_data...\n",
      "[nltk_data]   Package wordnet is already up-to-date!\n",
      "[nltk_data] Downloading package stopwords to /home/jovyan/nltk_data...\n",
      "[nltk_data]   Package stopwords is already up-to-date!\n"
     ]
    },
    {
     "data": {
      "text/plain": [
       "True"
      ]
     },
     "execution_count": 2,
     "metadata": {},
     "output_type": "execute_result"
    }
   ],
   "source": [
    "nltk.download('wordnet')\n",
    "nltk.download('stopwords')"
   ]
  },
  {
   "cell_type": "code",
   "execution_count": 3,
   "metadata": {},
   "outputs": [],
   "source": [
    "SEED = 6"
   ]
  },
  {
   "cell_type": "code",
   "execution_count": 4,
   "metadata": {},
   "outputs": [],
   "source": [
    "try:\n",
    "    data = pd.read_csv('toxic_comments.csv')\n",
    "except:\n",
    "    data = pd.read_csv('/datasets/toxic_comments.csv')"
   ]
  },
  {
   "cell_type": "code",
   "execution_count": 5,
   "metadata": {},
   "outputs": [
    {
     "name": "stdout",
     "output_type": "stream",
     "text": [
      "<class 'pandas.core.frame.DataFrame'>\n",
      "RangeIndex: 159292 entries, 0 to 159291\n",
      "Data columns (total 3 columns):\n",
      " #   Column      Non-Null Count   Dtype \n",
      "---  ------      --------------   ----- \n",
      " 0   Unnamed: 0  159292 non-null  int64 \n",
      " 1   text        159292 non-null  object\n",
      " 2   toxic       159292 non-null  int64 \n",
      "dtypes: int64(2), object(1)\n",
      "memory usage: 3.6+ MB\n"
     ]
    }
   ],
   "source": [
    "data.info()"
   ]
  },
  {
   "cell_type": "code",
   "execution_count": 6,
   "metadata": {},
   "outputs": [
    {
     "data": {
      "text/html": [
       "<div>\n",
       "<style scoped>\n",
       "    .dataframe tbody tr th:only-of-type {\n",
       "        vertical-align: middle;\n",
       "    }\n",
       "\n",
       "    .dataframe tbody tr th {\n",
       "        vertical-align: top;\n",
       "    }\n",
       "\n",
       "    .dataframe thead th {\n",
       "        text-align: right;\n",
       "    }\n",
       "</style>\n",
       "<table border=\"1\" class=\"dataframe\">\n",
       "  <thead>\n",
       "    <tr style=\"text-align: right;\">\n",
       "      <th></th>\n",
       "      <th>Unnamed: 0</th>\n",
       "      <th>text</th>\n",
       "      <th>toxic</th>\n",
       "    </tr>\n",
       "  </thead>\n",
       "  <tbody>\n",
       "    <tr>\n",
       "      <th>0</th>\n",
       "      <td>0</td>\n",
       "      <td>Explanation\\nWhy the edits made under my usern...</td>\n",
       "      <td>0</td>\n",
       "    </tr>\n",
       "    <tr>\n",
       "      <th>1</th>\n",
       "      <td>1</td>\n",
       "      <td>D'aww! He matches this background colour I'm s...</td>\n",
       "      <td>0</td>\n",
       "    </tr>\n",
       "    <tr>\n",
       "      <th>2</th>\n",
       "      <td>2</td>\n",
       "      <td>Hey man, I'm really not trying to edit war. It...</td>\n",
       "      <td>0</td>\n",
       "    </tr>\n",
       "    <tr>\n",
       "      <th>3</th>\n",
       "      <td>3</td>\n",
       "      <td>\"\\nMore\\nI can't make any real suggestions on ...</td>\n",
       "      <td>0</td>\n",
       "    </tr>\n",
       "    <tr>\n",
       "      <th>4</th>\n",
       "      <td>4</td>\n",
       "      <td>You, sir, are my hero. Any chance you remember...</td>\n",
       "      <td>0</td>\n",
       "    </tr>\n",
       "    <tr>\n",
       "      <th>5</th>\n",
       "      <td>5</td>\n",
       "      <td>\"\\n\\nCongratulations from me as well, use the ...</td>\n",
       "      <td>0</td>\n",
       "    </tr>\n",
       "    <tr>\n",
       "      <th>6</th>\n",
       "      <td>6</td>\n",
       "      <td>COCKSUCKER BEFORE YOU PISS AROUND ON MY WORK</td>\n",
       "      <td>1</td>\n",
       "    </tr>\n",
       "    <tr>\n",
       "      <th>7</th>\n",
       "      <td>7</td>\n",
       "      <td>Your vandalism to the Matt Shirvington article...</td>\n",
       "      <td>0</td>\n",
       "    </tr>\n",
       "    <tr>\n",
       "      <th>8</th>\n",
       "      <td>8</td>\n",
       "      <td>Sorry if the word 'nonsense' was offensive to ...</td>\n",
       "      <td>0</td>\n",
       "    </tr>\n",
       "    <tr>\n",
       "      <th>9</th>\n",
       "      <td>9</td>\n",
       "      <td>alignment on this subject and which are contra...</td>\n",
       "      <td>0</td>\n",
       "    </tr>\n",
       "  </tbody>\n",
       "</table>\n",
       "</div>"
      ],
      "text/plain": [
       "   Unnamed: 0                                               text  toxic\n",
       "0           0  Explanation\\nWhy the edits made under my usern...      0\n",
       "1           1  D'aww! He matches this background colour I'm s...      0\n",
       "2           2  Hey man, I'm really not trying to edit war. It...      0\n",
       "3           3  \"\\nMore\\nI can't make any real suggestions on ...      0\n",
       "4           4  You, sir, are my hero. Any chance you remember...      0\n",
       "5           5  \"\\n\\nCongratulations from me as well, use the ...      0\n",
       "6           6       COCKSUCKER BEFORE YOU PISS AROUND ON MY WORK      1\n",
       "7           7  Your vandalism to the Matt Shirvington article...      0\n",
       "8           8  Sorry if the word 'nonsense' was offensive to ...      0\n",
       "9           9  alignment on this subject and which are contra...      0"
      ]
     },
     "execution_count": 6,
     "metadata": {},
     "output_type": "execute_result"
    }
   ],
   "source": [
    "data.head(10)"
   ]
  },
  {
   "cell_type": "markdown",
   "metadata": {},
   "source": [
    "Столбец `Unnamed: 0` дублирует индекс, избавимся от него. "
   ]
  },
  {
   "cell_type": "code",
   "execution_count": 7,
   "metadata": {},
   "outputs": [
    {
     "name": "stdout",
     "output_type": "stream",
     "text": [
      "<class 'pandas.core.frame.DataFrame'>\n",
      "RangeIndex: 159292 entries, 0 to 159291\n",
      "Data columns (total 2 columns):\n",
      " #   Column  Non-Null Count   Dtype \n",
      "---  ------  --------------   ----- \n",
      " 0   text    159292 non-null  object\n",
      " 1   toxic   159292 non-null  int64 \n",
      "dtypes: int64(1), object(1)\n",
      "memory usage: 2.4+ MB\n"
     ]
    }
   ],
   "source": [
    "data.drop('Unnamed: 0', axis=1, inplace=True)\n",
    "data.info()"
   ]
  },
  {
   "cell_type": "markdown",
   "metadata": {},
   "source": [
    "Очистим и лемматизируем тексты."
   ]
  },
  {
   "cell_type": "code",
   "execution_count": 8,
   "metadata": {},
   "outputs": [],
   "source": [
    "lemmatizer = WordNetLemmatizer()\n",
    "def clear_n_lemmatize(row):\n",
    "    text = row['text']\n",
    "    cleared = ' '.join(re.sub(r'[^a-zA-Z ]', ' ', text).split())\n",
    "    tokens = nltk.word_tokenize(cleared)\n",
    "    lemms = []\n",
    "    for token in tokens:\n",
    "        lemms.append(lemmatizer.lemmatize(token))\n",
    "    return ' '.join(lemms)"
   ]
  },
  {
   "cell_type": "code",
   "execution_count": 9,
   "metadata": {},
   "outputs": [
    {
     "name": "stdout",
     "output_type": "stream",
     "text": [
      "CPU times: user 1min 12s, sys: 193 ms, total: 1min 13s\n",
      "Wall time: 1min 13s\n"
     ]
    }
   ],
   "source": [
    "%%time\n",
    "\n",
    "data['lemm_text'] = data.apply(clear_n_lemmatize, axis=1)"
   ]
  },
  {
   "cell_type": "code",
   "execution_count": 10,
   "metadata": {
    "scrolled": true
   },
   "outputs": [
    {
     "data": {
      "text/html": [
       "<div>\n",
       "<style scoped>\n",
       "    .dataframe tbody tr th:only-of-type {\n",
       "        vertical-align: middle;\n",
       "    }\n",
       "\n",
       "    .dataframe tbody tr th {\n",
       "        vertical-align: top;\n",
       "    }\n",
       "\n",
       "    .dataframe thead th {\n",
       "        text-align: right;\n",
       "    }\n",
       "</style>\n",
       "<table border=\"1\" class=\"dataframe\">\n",
       "  <thead>\n",
       "    <tr style=\"text-align: right;\">\n",
       "      <th></th>\n",
       "      <th>text</th>\n",
       "      <th>toxic</th>\n",
       "      <th>lemm_text</th>\n",
       "    </tr>\n",
       "  </thead>\n",
       "  <tbody>\n",
       "    <tr>\n",
       "      <th>0</th>\n",
       "      <td>Explanation\\nWhy the edits made under my usern...</td>\n",
       "      <td>0</td>\n",
       "      <td>Explanation Why the edits made under my userna...</td>\n",
       "    </tr>\n",
       "    <tr>\n",
       "      <th>1</th>\n",
       "      <td>D'aww! He matches this background colour I'm s...</td>\n",
       "      <td>0</td>\n",
       "      <td>D aww He match this background colour I m seem...</td>\n",
       "    </tr>\n",
       "    <tr>\n",
       "      <th>2</th>\n",
       "      <td>Hey man, I'm really not trying to edit war. It...</td>\n",
       "      <td>0</td>\n",
       "      <td>Hey man I m really not trying to edit war It s...</td>\n",
       "    </tr>\n",
       "    <tr>\n",
       "      <th>3</th>\n",
       "      <td>\"\\nMore\\nI can't make any real suggestions on ...</td>\n",
       "      <td>0</td>\n",
       "      <td>More I can t make any real suggestion on impro...</td>\n",
       "    </tr>\n",
       "    <tr>\n",
       "      <th>4</th>\n",
       "      <td>You, sir, are my hero. Any chance you remember...</td>\n",
       "      <td>0</td>\n",
       "      <td>You sir are my hero Any chance you remember wh...</td>\n",
       "    </tr>\n",
       "    <tr>\n",
       "      <th>5</th>\n",
       "      <td>\"\\n\\nCongratulations from me as well, use the ...</td>\n",
       "      <td>0</td>\n",
       "      <td>Congratulations from me a well use the tool we...</td>\n",
       "    </tr>\n",
       "    <tr>\n",
       "      <th>6</th>\n",
       "      <td>COCKSUCKER BEFORE YOU PISS AROUND ON MY WORK</td>\n",
       "      <td>1</td>\n",
       "      <td>COCKSUCKER BEFORE YOU PISS AROUND ON MY WORK</td>\n",
       "    </tr>\n",
       "    <tr>\n",
       "      <th>7</th>\n",
       "      <td>Your vandalism to the Matt Shirvington article...</td>\n",
       "      <td>0</td>\n",
       "      <td>Your vandalism to the Matt Shirvington article...</td>\n",
       "    </tr>\n",
       "    <tr>\n",
       "      <th>8</th>\n",
       "      <td>Sorry if the word 'nonsense' was offensive to ...</td>\n",
       "      <td>0</td>\n",
       "      <td>Sorry if the word nonsense wa offensive to you...</td>\n",
       "    </tr>\n",
       "    <tr>\n",
       "      <th>9</th>\n",
       "      <td>alignment on this subject and which are contra...</td>\n",
       "      <td>0</td>\n",
       "      <td>alignment on this subject and which are contra...</td>\n",
       "    </tr>\n",
       "  </tbody>\n",
       "</table>\n",
       "</div>"
      ],
      "text/plain": [
       "                                                text  toxic  \\\n",
       "0  Explanation\\nWhy the edits made under my usern...      0   \n",
       "1  D'aww! He matches this background colour I'm s...      0   \n",
       "2  Hey man, I'm really not trying to edit war. It...      0   \n",
       "3  \"\\nMore\\nI can't make any real suggestions on ...      0   \n",
       "4  You, sir, are my hero. Any chance you remember...      0   \n",
       "5  \"\\n\\nCongratulations from me as well, use the ...      0   \n",
       "6       COCKSUCKER BEFORE YOU PISS AROUND ON MY WORK      1   \n",
       "7  Your vandalism to the Matt Shirvington article...      0   \n",
       "8  Sorry if the word 'nonsense' was offensive to ...      0   \n",
       "9  alignment on this subject and which are contra...      0   \n",
       "\n",
       "                                           lemm_text  \n",
       "0  Explanation Why the edits made under my userna...  \n",
       "1  D aww He match this background colour I m seem...  \n",
       "2  Hey man I m really not trying to edit war It s...  \n",
       "3  More I can t make any real suggestion on impro...  \n",
       "4  You sir are my hero Any chance you remember wh...  \n",
       "5  Congratulations from me a well use the tool we...  \n",
       "6       COCKSUCKER BEFORE YOU PISS AROUND ON MY WORK  \n",
       "7  Your vandalism to the Matt Shirvington article...  \n",
       "8  Sorry if the word nonsense wa offensive to you...  \n",
       "9  alignment on this subject and which are contra...  "
      ]
     },
     "execution_count": 10,
     "metadata": {},
     "output_type": "execute_result"
    }
   ],
   "source": [
    "data.head(10)"
   ]
  },
  {
   "cell_type": "markdown",
   "metadata": {},
   "source": [
    "Подготовим выборки. Для начала посмотрим на баланс классов."
   ]
  },
  {
   "cell_type": "code",
   "execution_count": 11,
   "metadata": {},
   "outputs": [
    {
     "data": {
      "text/plain": [
       "0    0.898388\n",
       "1    0.101612\n",
       "Name: toxic, dtype: float64"
      ]
     },
     "execution_count": 11,
     "metadata": {},
     "output_type": "execute_result"
    }
   ],
   "source": [
    "data['toxic'].value_counts() / data.shape[0]"
   ]
  },
  {
   "cell_type": "markdown",
   "metadata": {},
   "source": [
    "Видим дисбаланс, учтём это при разбиении на обучающую и тестовую выборки."
   ]
  },
  {
   "cell_type": "code",
   "execution_count": 12,
   "metadata": {},
   "outputs": [],
   "source": [
    "(text_train, text_test,\n",
    " target_train, target_test) = train_test_split(data['lemm_text'], data['toxic'], test_size=0.25,\n",
    "                                               random_state=SEED, stratify=data['toxic'])"
   ]
  },
  {
   "cell_type": "code",
   "execution_count": 13,
   "metadata": {},
   "outputs": [
    {
     "name": "stdout",
     "output_type": "stream",
     "text": [
      "Train size = 119469\n",
      "Test size = 39823\n"
     ]
    }
   ],
   "source": [
    "# проверка разбиения\n",
    "print(f'Train size = {text_train.shape[0]}')\n",
    "print(f'Test size = {text_test.shape[0]}')"
   ]
  },
  {
   "cell_type": "markdown",
   "metadata": {},
   "source": [
    "## Обучение"
   ]
  },
  {
   "cell_type": "markdown",
   "metadata": {},
   "source": [
    "Перейдём к обучению моделей и подбору параметров. Т.к. параметры можно настраивать и для этапа векторизации текста, и для этапа обучения моделей, то применим `Pipeline`."
   ]
  },
  {
   "cell_type": "code",
   "execution_count": 14,
   "metadata": {},
   "outputs": [],
   "source": [
    "stopwords = set(nltk_stopwords.words('english'))"
   ]
  },
  {
   "cell_type": "markdown",
   "metadata": {},
   "source": [
    "### LogisticRegression"
   ]
  },
  {
   "cell_type": "code",
   "execution_count": 15,
   "metadata": {},
   "outputs": [],
   "source": [
    "pipeline = Pipeline(\n",
    "    [\n",
    "        ('vect', TfidfVectorizer(stop_words=stopwords)),\n",
    "        ('clf', LogisticRegression(solver='sag', class_weight='balanced',\n",
    "                                   max_iter=1000, random_state=SEED))\n",
    "    ]\n",
    ")"
   ]
  },
  {
   "cell_type": "code",
   "execution_count": 16,
   "metadata": {},
   "outputs": [],
   "source": [
    "params = {\n",
    "    'vect__ngram_range':((1, 1), (1, 2), (1, 3), (2, 2)),\n",
    "    'clf__C':(1, 10, 100)\n",
    "}"
   ]
  },
  {
   "cell_type": "code",
   "execution_count": 17,
   "metadata": {},
   "outputs": [
    {
     "name": "stderr",
     "output_type": "stream",
     "text": [
      "/opt/conda/lib/python3.9/site-packages/sklearn/linear_model/_sag.py:328: ConvergenceWarning: The max_iter was reached which means the coef_ did not converge\n",
      "  warnings.warn(\"The max_iter was reached which means \"\n",
      "/opt/conda/lib/python3.9/site-packages/sklearn/linear_model/_sag.py:328: ConvergenceWarning: The max_iter was reached which means the coef_ did not converge\n",
      "  warnings.warn(\"The max_iter was reached which means \"\n",
      "/opt/conda/lib/python3.9/site-packages/sklearn/linear_model/_sag.py:328: ConvergenceWarning: The max_iter was reached which means the coef_ did not converge\n",
      "  warnings.warn(\"The max_iter was reached which means \"\n",
      "/opt/conda/lib/python3.9/site-packages/sklearn/linear_model/_sag.py:328: ConvergenceWarning: The max_iter was reached which means the coef_ did not converge\n",
      "  warnings.warn(\"The max_iter was reached which means \"\n",
      "/opt/conda/lib/python3.9/site-packages/sklearn/linear_model/_sag.py:328: ConvergenceWarning: The max_iter was reached which means the coef_ did not converge\n",
      "  warnings.warn(\"The max_iter was reached which means \"\n",
      "/opt/conda/lib/python3.9/site-packages/sklearn/linear_model/_sag.py:328: ConvergenceWarning: The max_iter was reached which means the coef_ did not converge\n",
      "  warnings.warn(\"The max_iter was reached which means \"\n"
     ]
    },
    {
     "name": "stdout",
     "output_type": "stream",
     "text": [
      "CPU times: user 22min 37s, sys: 13 s, total: 22min 50s\n",
      "Wall time: 22min 51s\n"
     ]
    },
    {
     "data": {
      "text/plain": [
       "RandomizedSearchCV(cv=3,\n",
       "                   estimator=Pipeline(steps=[('vect',\n",
       "                                              TfidfVectorizer(stop_words={'a',\n",
       "                                                                          'about',\n",
       "                                                                          'above',\n",
       "                                                                          'after',\n",
       "                                                                          'again',\n",
       "                                                                          'against',\n",
       "                                                                          'ain',\n",
       "                                                                          'all',\n",
       "                                                                          'am',\n",
       "                                                                          'an',\n",
       "                                                                          'and',\n",
       "                                                                          'any',\n",
       "                                                                          'are',\n",
       "                                                                          'aren',\n",
       "                                                                          \"aren't\",\n",
       "                                                                          'as',\n",
       "                                                                          'at',\n",
       "                                                                          'be',\n",
       "                                                                          'because',\n",
       "                                                                          'been',\n",
       "                                                                          'before',\n",
       "                                                                          'being',\n",
       "                                                                          'below',\n",
       "                                                                          'between',\n",
       "                                                                          'both',\n",
       "                                                                          'but',\n",
       "                                                                          'by',\n",
       "                                                                          'can',\n",
       "                                                                          'couldn',\n",
       "                                                                          \"couldn't\", ...})),\n",
       "                                             ('clf',\n",
       "                                              LogisticRegression(class_weight='balanced',\n",
       "                                                                 max_iter=1000,\n",
       "                                                                 random_state=6,\n",
       "                                                                 solver='sag'))]),\n",
       "                   n_jobs=-1,\n",
       "                   param_distributions={'clf__C': (1, 10, 100),\n",
       "                                        'vect__ngram_range': ((1, 1), (1, 2),\n",
       "                                                              (1, 3), (2, 2))},\n",
       "                   random_state=6, refit=False, scoring='f1')"
      ]
     },
     "execution_count": 17,
     "metadata": {},
     "output_type": "execute_result"
    }
   ],
   "source": [
    "%%time\n",
    "\n",
    "grid_search = RandomizedSearchCV(pipeline, params,\n",
    "                                 n_jobs=-1, cv=3, scoring='f1',\n",
    "                                 random_state=SEED, refit=False\n",
    "                                )\n",
    "grid_search.fit(text_train.values, target_train)"
   ]
  },
  {
   "cell_type": "code",
   "execution_count": 18,
   "metadata": {},
   "outputs": [
    {
     "name": "stdout",
     "output_type": "stream",
     "text": [
      "LogisticRegression\n",
      "Best params {'vect__ngram_range': (1, 2), 'clf__C': 10}\n",
      "F1 = 0.7806318129742852\n"
     ]
    }
   ],
   "source": [
    "lr_best_params = grid_search.best_params_\n",
    "lr_best_score = grid_search.best_score_\n",
    "\n",
    "print('LogisticRegression')\n",
    "print(f'Best params {lr_best_params}')\n",
    "print(f'F1 = {lr_best_score}')"
   ]
  },
  {
   "cell_type": "markdown",
   "metadata": {},
   "source": [
    "### DecisionTreeClassifier"
   ]
  },
  {
   "cell_type": "code",
   "execution_count": 19,
   "metadata": {},
   "outputs": [],
   "source": [
    "pipeline = Pipeline(\n",
    "    [\n",
    "        ('vect', TfidfVectorizer(stop_words=stopwords)),\n",
    "        ('clf', DecisionTreeClassifier(class_weight='balanced', random_state=SEED))\n",
    "    ]\n",
    ")"
   ]
  },
  {
   "cell_type": "code",
   "execution_count": 20,
   "metadata": {},
   "outputs": [],
   "source": [
    "params = {\n",
    "    'vect__ngram_range':((1, 1), (1, 2), (1, 3), (2, 2)),\n",
    "    'vect__max_features':range(1000, 11000, 1000),\n",
    "    'clf__max_depth':range(2, 9, 2)\n",
    "}"
   ]
  },
  {
   "cell_type": "code",
   "execution_count": 21,
   "metadata": {},
   "outputs": [
    {
     "name": "stdout",
     "output_type": "stream",
     "text": [
      "CPU times: user 7min 2s, sys: 12.9 s, total: 7min 15s\n",
      "Wall time: 7min 15s\n"
     ]
    },
    {
     "data": {
      "text/plain": [
       "RandomizedSearchCV(cv=3,\n",
       "                   estimator=Pipeline(steps=[('vect',\n",
       "                                              TfidfVectorizer(stop_words={'a',\n",
       "                                                                          'about',\n",
       "                                                                          'above',\n",
       "                                                                          'after',\n",
       "                                                                          'again',\n",
       "                                                                          'against',\n",
       "                                                                          'ain',\n",
       "                                                                          'all',\n",
       "                                                                          'am',\n",
       "                                                                          'an',\n",
       "                                                                          'and',\n",
       "                                                                          'any',\n",
       "                                                                          'are',\n",
       "                                                                          'aren',\n",
       "                                                                          \"aren't\",\n",
       "                                                                          'as',\n",
       "                                                                          'at',\n",
       "                                                                          'be',\n",
       "                                                                          'because',\n",
       "                                                                          'been',\n",
       "                                                                          'before',\n",
       "                                                                          'being',\n",
       "                                                                          'below',\n",
       "                                                                          'between',\n",
       "                                                                          'both',\n",
       "                                                                          'but',\n",
       "                                                                          'by',\n",
       "                                                                          'can',\n",
       "                                                                          'couldn',\n",
       "                                                                          \"couldn't\", ...})),\n",
       "                                             ('clf',\n",
       "                                              DecisionTreeClassifier(class_weight='balanced',\n",
       "                                                                     random_state=6))]),\n",
       "                   n_jobs=-1,\n",
       "                   param_distributions={'clf__max_depth': range(2, 9, 2),\n",
       "                                        'vect__max_features': range(1000, 11000, 1000),\n",
       "                                        'vect__ngram_range': ((1, 1), (1, 2),\n",
       "                                                              (1, 3), (2, 2))},\n",
       "                   random_state=6, refit=False, scoring='f1')"
      ]
     },
     "execution_count": 21,
     "metadata": {},
     "output_type": "execute_result"
    }
   ],
   "source": [
    "%%time\n",
    "\n",
    "grid_search = RandomizedSearchCV(pipeline, params,\n",
    "                                 n_jobs=-1, cv=3, scoring='f1',\n",
    "                                 random_state=SEED, refit=False\n",
    "                                )\n",
    "grid_search.fit(text_train.values, target_train)"
   ]
  },
  {
   "cell_type": "code",
   "execution_count": 22,
   "metadata": {
    "scrolled": true
   },
   "outputs": [
    {
     "name": "stdout",
     "output_type": "stream",
     "text": [
      "DecisionTreeClassifier\n",
      "Best params {'vect__ngram_range': (1, 2), 'vect__max_features': 10000, 'clf__max_depth': 8}\n",
      "F1 = 0.5254125156039966\n"
     ]
    }
   ],
   "source": [
    "dt_best_params = grid_search.best_params_\n",
    "dt_best_score = grid_search.best_score_\n",
    "\n",
    "print('DecisionTreeClassifier')\n",
    "print(f'Best params {dt_best_params}')\n",
    "print(f'F1 = {dt_best_score}')"
   ]
  },
  {
   "cell_type": "markdown",
   "metadata": {},
   "source": [
    "### RandomForestClassifier"
   ]
  },
  {
   "cell_type": "code",
   "execution_count": 23,
   "metadata": {},
   "outputs": [],
   "source": [
    "pipeline = Pipeline(\n",
    "    [\n",
    "        ('vect', TfidfVectorizer(stop_words=stopwords)),\n",
    "        ('clf', RandomForestClassifier(class_weight='balanced', random_state=SEED))\n",
    "    ]\n",
    ")"
   ]
  },
  {
   "cell_type": "code",
   "execution_count": 24,
   "metadata": {},
   "outputs": [],
   "source": [
    "params = {\n",
    "    'vect__ngram_range':((1, 1), (1, 2), (1, 3), (2, 2)),\n",
    "    'vect__max_features':range(1000, 11000, 1000),\n",
    "    'clf__n_estimators':range(3, 10, 2),\n",
    "    'clf__max_depth':range(2, 9, 2)\n",
    "}"
   ]
  },
  {
   "cell_type": "code",
   "execution_count": 25,
   "metadata": {},
   "outputs": [
    {
     "name": "stdout",
     "output_type": "stream",
     "text": [
      "CPU times: user 5min 25s, sys: 9.27 s, total: 5min 34s\n",
      "Wall time: 5min 35s\n"
     ]
    },
    {
     "data": {
      "text/plain": [
       "RandomizedSearchCV(cv=3,\n",
       "                   estimator=Pipeline(steps=[('vect',\n",
       "                                              TfidfVectorizer(stop_words={'a',\n",
       "                                                                          'about',\n",
       "                                                                          'above',\n",
       "                                                                          'after',\n",
       "                                                                          'again',\n",
       "                                                                          'against',\n",
       "                                                                          'ain',\n",
       "                                                                          'all',\n",
       "                                                                          'am',\n",
       "                                                                          'an',\n",
       "                                                                          'and',\n",
       "                                                                          'any',\n",
       "                                                                          'are',\n",
       "                                                                          'aren',\n",
       "                                                                          \"aren't\",\n",
       "                                                                          'as',\n",
       "                                                                          'at',\n",
       "                                                                          'be',\n",
       "                                                                          'because',\n",
       "                                                                          'been',\n",
       "                                                                          'before',\n",
       "                                                                          'being',\n",
       "                                                                          'below',\n",
       "                                                                          'between',\n",
       "                                                                          'both',\n",
       "                                                                          'but',\n",
       "                                                                          'by',\n",
       "                                                                          'can',\n",
       "                                                                          'couldn',\n",
       "                                                                          \"couldn't\", ...})),\n",
       "                                             ('clf',\n",
       "                                              RandomForestClassifier(class_weight='balanced',\n",
       "                                                                     random_state=6))]),\n",
       "                   n_jobs=-1,\n",
       "                   param_distributions={'clf__max_depth': range(2, 9, 2),\n",
       "                                        'clf__n_estimators': range(3, 10, 2),\n",
       "                                        'vect__max_features': range(1000, 11000, 1000),\n",
       "                                        'vect__ngram_range': ((1, 1), (1, 2),\n",
       "                                                              (1, 3), (2, 2))},\n",
       "                   random_state=6, refit=False, scoring='f1')"
      ]
     },
     "execution_count": 25,
     "metadata": {},
     "output_type": "execute_result"
    }
   ],
   "source": [
    "%%time\n",
    "\n",
    "grid_search = RandomizedSearchCV(pipeline, params,\n",
    "                                 n_jobs=-1, cv=3, scoring='f1',\n",
    "                                 random_state=SEED, refit=False\n",
    "                                )\n",
    "grid_search.fit(text_train.values, target_train)"
   ]
  },
  {
   "cell_type": "code",
   "execution_count": 26,
   "metadata": {},
   "outputs": [
    {
     "name": "stdout",
     "output_type": "stream",
     "text": [
      "RandomForestClassifier\n",
      "Best params {'vect__ngram_range': (1, 1), 'vect__max_features': 8000, 'clf__n_estimators': 9, 'clf__max_depth': 8}\n",
      "F1 = 0.40347425384748153\n"
     ]
    }
   ],
   "source": [
    "rf_best_params = grid_search.best_params_\n",
    "rf_best_score = grid_search.best_score_\n",
    "\n",
    "print('RandomForestClassifier')\n",
    "print(f'Best params {rf_best_params}')\n",
    "print(f'F1 = {rf_best_score}')"
   ]
  },
  {
   "cell_type": "markdown",
   "metadata": {},
   "source": [
    "### Сравнение моделей"
   ]
  },
  {
   "cell_type": "code",
   "execution_count": 27,
   "metadata": {},
   "outputs": [
    {
     "data": {
      "text/html": [
       "<div>\n",
       "<style scoped>\n",
       "    .dataframe tbody tr th:only-of-type {\n",
       "        vertical-align: middle;\n",
       "    }\n",
       "\n",
       "    .dataframe tbody tr th {\n",
       "        vertical-align: top;\n",
       "    }\n",
       "\n",
       "    .dataframe thead th {\n",
       "        text-align: right;\n",
       "    }\n",
       "</style>\n",
       "<table border=\"1\" class=\"dataframe\">\n",
       "  <thead>\n",
       "    <tr style=\"text-align: right;\">\n",
       "      <th></th>\n",
       "      <th>Модель</th>\n",
       "      <th>F1</th>\n",
       "    </tr>\n",
       "  </thead>\n",
       "  <tbody>\n",
       "    <tr>\n",
       "      <th>0</th>\n",
       "      <td>LogisticRegression</td>\n",
       "      <td>0.780632</td>\n",
       "    </tr>\n",
       "    <tr>\n",
       "      <th>1</th>\n",
       "      <td>DecisionTreeClassifier</td>\n",
       "      <td>0.525413</td>\n",
       "    </tr>\n",
       "    <tr>\n",
       "      <th>2</th>\n",
       "      <td>RandomForestClassifier</td>\n",
       "      <td>0.403474</td>\n",
       "    </tr>\n",
       "  </tbody>\n",
       "</table>\n",
       "</div>"
      ],
      "text/plain": [
       "                   Модель        F1\n",
       "0      LogisticRegression  0.780632\n",
       "1  DecisionTreeClassifier  0.525413\n",
       "2  RandomForestClassifier  0.403474"
      ]
     },
     "execution_count": 27,
     "metadata": {},
     "output_type": "execute_result"
    }
   ],
   "source": [
    "results = [['LogisticRegression', lr_best_score],\n",
    "           ['DecisionTreeClassifier', dt_best_score],\n",
    "           ['RandomForestClassifier', rf_best_score]]\n",
    "columns = ['Модель', 'F1']\n",
    "table = pd.DataFrame(data=results, columns=columns)\n",
    "table"
   ]
  },
  {
   "cell_type": "markdown",
   "metadata": {},
   "source": [
    "На этапе обучения моделей и подбора гиперпараметров наилучший результат показала модель логичстической регрессии. Проведём тестирование данной модели."
   ]
  },
  {
   "cell_type": "markdown",
   "metadata": {},
   "source": [
    "## Тестирование"
   ]
  },
  {
   "cell_type": "code",
   "execution_count": 28,
   "metadata": {},
   "outputs": [],
   "source": [
    "vectorizer = TfidfVectorizer(stop_words=stopwords,\n",
    "                             ngram_range=lr_best_params['vect__ngram_range']\n",
    "                            )\n",
    "model = LogisticRegression(solver='sag', class_weight='balanced',\n",
    "                           max_iter=1000, random_state=SEED,\n",
    "                           C=lr_best_params['clf__C']\n",
    "                          )"
   ]
  },
  {
   "cell_type": "code",
   "execution_count": 29,
   "metadata": {},
   "outputs": [
    {
     "name": "stdout",
     "output_type": "stream",
     "text": [
      "CPU times: user 17.6 s, sys: 647 ms, total: 18.2 s\n",
      "Wall time: 18.2 s\n"
     ]
    }
   ],
   "source": [
    "%%time\n",
    "\n",
    "features_train = vectorizer.fit_transform(text_train.values)"
   ]
  },
  {
   "cell_type": "code",
   "execution_count": 30,
   "metadata": {},
   "outputs": [
    {
     "name": "stdout",
     "output_type": "stream",
     "text": [
      "CPU times: user 3min 25s, sys: 172 ms, total: 3min 26s\n",
      "Wall time: 3min 26s\n"
     ]
    },
    {
     "data": {
      "text/plain": [
       "LogisticRegression(C=10, class_weight='balanced', max_iter=1000, random_state=6,\n",
       "                   solver='sag')"
      ]
     },
     "execution_count": 30,
     "metadata": {},
     "output_type": "execute_result"
    }
   ],
   "source": [
    "%%time\n",
    "\n",
    "model.fit(features_train, target_train)"
   ]
  },
  {
   "cell_type": "code",
   "execution_count": 31,
   "metadata": {},
   "outputs": [
    {
     "name": "stdout",
     "output_type": "stream",
     "text": [
      "Final F1 = 0.7748384737291235\n",
      "CPU times: user 3.51 s, sys: 0 ns, total: 3.51 s\n",
      "Wall time: 3.52 s\n"
     ]
    }
   ],
   "source": [
    "%%time\n",
    "\n",
    "features_test = vectorizer.transform(text_test)\n",
    "predicted_test = model.predict(features_test)\n",
    "print(f'Final F1 = {f1_score(target_test, predicted_test)}')"
   ]
  },
  {
   "cell_type": "markdown",
   "metadata": {},
   "source": [
    "Итоговое значение метрики на выбранной модели оказалось больше 0.75, что удовлетворяет указанному в задании требованию."
   ]
  },
  {
   "cell_type": "markdown",
   "metadata": {},
   "source": [
    "## Выводы"
   ]
  },
  {
   "cell_type": "markdown",
   "metadata": {},
   "source": [
    "На первом этапе были загружены предложенные данные. Тексты очищены и лемматизированы. Все данные поделены на обучающую и тестовую выборки.\n",
    "\n",
    "При помощи `Pipeline` и `RandomizedSearchCV` были обучены следующие модели:\n",
    " - `LogisticRegression`\n",
    " - `DecisionTreeClassifier`\n",
    " - `RandomForestClassifier`,\n",
    " \n",
    "а при векторизации текстов были рассмотрены следующие случаи:\n",
    " - только униграммы (`ngram_range=(1, 1)`);\n",
    " - униграммы и биграммы (`ngram_range=(1, 2)`);\n",
    " - униграммы, биграммы и триграммы (`ngram_range=(1, 3)`);\n",
    " - только биграммы (`ngram_range=(2, 2)`).\n",
    "\n",
    "Наилучший результат на этапе обучения показала модель `'LogisticRegression'` с параметрами `C=10, class_weight='balanced', max_iter=1000, solver='sag'` на униграммах и биграммах.\n",
    "\n",
    "На тестовых данных данная модель показала значение метрики `F1 = 0.775`."
   ]
  }
 ],
 "metadata": {
  "ExecuteTimeLog": [
   {
    "duration": 1369,
    "start_time": "2022-08-31T15:12:22.292Z"
   },
   {
    "duration": 327,
    "start_time": "2022-08-31T15:12:23.663Z"
   },
   {
    "duration": 3,
    "start_time": "2022-08-31T15:12:23.991Z"
   },
   {
    "duration": 2437,
    "start_time": "2022-08-31T15:12:23.996Z"
   },
   {
    "duration": 32,
    "start_time": "2022-08-31T15:12:26.435Z"
   },
   {
    "duration": 9,
    "start_time": "2022-08-31T15:12:26.469Z"
   },
   {
    "duration": 42,
    "start_time": "2022-08-31T15:12:26.479Z"
   },
   {
    "duration": 3,
    "start_time": "2022-08-31T15:12:26.523Z"
   },
   {
    "duration": 5628,
    "start_time": "2022-08-31T15:12:26.527Z"
   },
   {
    "duration": 9,
    "start_time": "2022-08-31T15:12:32.158Z"
   },
   {
    "duration": 31,
    "start_time": "2022-08-31T15:12:32.168Z"
   },
   {
    "duration": 63,
    "start_time": "2022-08-31T15:12:32.201Z"
   },
   {
    "duration": 4,
    "start_time": "2022-08-31T15:12:32.266Z"
   },
   {
    "duration": 10,
    "start_time": "2022-08-31T15:12:32.271Z"
   },
   {
    "duration": 11,
    "start_time": "2022-08-31T15:12:32.283Z"
   },
   {
    "duration": 6,
    "start_time": "2022-08-31T15:12:32.296Z"
   },
   {
    "duration": 8,
    "start_time": "2022-08-31T15:12:32.304Z"
   },
   {
    "duration": 77049,
    "start_time": "2022-08-31T15:12:32.314Z"
   },
   {
    "duration": 465,
    "start_time": "2022-08-31T15:13:49.365Z"
   },
   {
    "duration": 0,
    "start_time": "2022-08-31T15:13:49.831Z"
   },
   {
    "duration": 0,
    "start_time": "2022-08-31T15:13:49.832Z"
   },
   {
    "duration": 0,
    "start_time": "2022-08-31T15:13:49.833Z"
   },
   {
    "duration": 0,
    "start_time": "2022-08-31T15:13:49.834Z"
   },
   {
    "duration": 0,
    "start_time": "2022-08-31T15:13:49.835Z"
   },
   {
    "duration": 0,
    "start_time": "2022-08-31T15:13:49.837Z"
   },
   {
    "duration": 0,
    "start_time": "2022-08-31T15:13:49.838Z"
   },
   {
    "duration": 0,
    "start_time": "2022-08-31T15:13:49.839Z"
   },
   {
    "duration": 1240,
    "start_time": "2022-08-31T15:20:20.715Z"
   },
   {
    "duration": 140,
    "start_time": "2022-08-31T15:20:21.958Z"
   },
   {
    "duration": 2,
    "start_time": "2022-08-31T15:20:22.100Z"
   },
   {
    "duration": 821,
    "start_time": "2022-08-31T15:20:22.104Z"
   },
   {
    "duration": 35,
    "start_time": "2022-08-31T15:20:22.927Z"
   },
   {
    "duration": 25,
    "start_time": "2022-08-31T15:20:22.964Z"
   },
   {
    "duration": 41,
    "start_time": "2022-08-31T15:20:22.991Z"
   },
   {
    "duration": 5,
    "start_time": "2022-08-31T15:20:23.034Z"
   },
   {
    "duration": 5556,
    "start_time": "2022-08-31T15:20:23.040Z"
   },
   {
    "duration": 8,
    "start_time": "2022-08-31T15:20:28.599Z"
   },
   {
    "duration": 16,
    "start_time": "2022-08-31T15:20:28.608Z"
   },
   {
    "duration": 70,
    "start_time": "2022-08-31T15:20:28.626Z"
   },
   {
    "duration": 3,
    "start_time": "2022-08-31T15:20:28.698Z"
   },
   {
    "duration": 7,
    "start_time": "2022-08-31T15:20:28.703Z"
   },
   {
    "duration": 8,
    "start_time": "2022-08-31T15:20:28.712Z"
   },
   {
    "duration": 5,
    "start_time": "2022-08-31T15:20:28.722Z"
   },
   {
    "duration": 200,
    "start_time": "2022-08-31T15:20:28.729Z"
   },
   {
    "duration": 10,
    "start_time": "2022-08-31T15:20:28.931Z"
   },
   {
    "duration": 0,
    "start_time": "2022-08-31T15:20:28.943Z"
   },
   {
    "duration": 0,
    "start_time": "2022-08-31T15:20:28.944Z"
   },
   {
    "duration": 0,
    "start_time": "2022-08-31T15:20:28.945Z"
   },
   {
    "duration": 0,
    "start_time": "2022-08-31T15:20:28.946Z"
   },
   {
    "duration": 0,
    "start_time": "2022-08-31T15:20:28.947Z"
   },
   {
    "duration": 0,
    "start_time": "2022-08-31T15:20:28.948Z"
   },
   {
    "duration": 0,
    "start_time": "2022-08-31T15:20:28.949Z"
   },
   {
    "duration": 0,
    "start_time": "2022-08-31T15:20:28.950Z"
   },
   {
    "duration": 1408,
    "start_time": "2022-08-31T15:21:04.152Z"
   },
   {
    "duration": 168,
    "start_time": "2022-08-31T15:21:05.562Z"
   },
   {
    "duration": 3,
    "start_time": "2022-08-31T15:21:05.731Z"
   },
   {
    "duration": 840,
    "start_time": "2022-08-31T15:21:05.735Z"
   },
   {
    "duration": 35,
    "start_time": "2022-08-31T15:21:06.577Z"
   },
   {
    "duration": 12,
    "start_time": "2022-08-31T15:21:06.614Z"
   },
   {
    "duration": 43,
    "start_time": "2022-08-31T15:21:06.628Z"
   },
   {
    "duration": 3,
    "start_time": "2022-08-31T15:21:06.686Z"
   },
   {
    "duration": 5578,
    "start_time": "2022-08-31T15:21:06.691Z"
   },
   {
    "duration": 15,
    "start_time": "2022-08-31T15:21:12.271Z"
   },
   {
    "duration": 7,
    "start_time": "2022-08-31T15:21:12.288Z"
   },
   {
    "duration": 61,
    "start_time": "2022-08-31T15:21:12.297Z"
   },
   {
    "duration": 3,
    "start_time": "2022-08-31T15:21:12.360Z"
   },
   {
    "duration": 3,
    "start_time": "2022-08-31T15:21:12.385Z"
   },
   {
    "duration": 7,
    "start_time": "2022-08-31T15:21:12.390Z"
   },
   {
    "duration": 6,
    "start_time": "2022-08-31T15:21:12.398Z"
   },
   {
    "duration": 1444086,
    "start_time": "2022-08-31T15:21:12.405Z"
   },
   {
    "duration": 4,
    "start_time": "2022-08-31T15:45:16.493Z"
   },
   {
    "duration": 13,
    "start_time": "2022-08-31T15:45:16.499Z"
   },
   {
    "duration": 6,
    "start_time": "2022-08-31T15:45:16.514Z"
   },
   {
    "duration": 330336,
    "start_time": "2022-08-31T15:45:16.521Z"
   },
   {
    "duration": 3,
    "start_time": "2022-08-31T15:50:46.859Z"
   },
   {
    "duration": 8,
    "start_time": "2022-08-31T15:50:46.864Z"
   },
   {
    "duration": 13,
    "start_time": "2022-08-31T15:50:46.874Z"
   },
   {
    "duration": 580629,
    "start_time": "2022-08-31T15:50:46.888Z"
   },
   {
    "duration": 5,
    "start_time": "2022-08-31T16:00:27.519Z"
   },
   {
    "duration": 5391,
    "start_time": "2022-08-31T16:10:18.721Z"
   },
   {
    "duration": 24058,
    "start_time": "2022-08-31T16:10:53.312Z"
   },
   {
    "duration": 47025,
    "start_time": "2022-08-31T16:11:29.899Z"
   },
   {
    "duration": 19900,
    "start_time": "2022-08-31T16:15:51.119Z"
   },
   {
    "duration": 23233,
    "start_time": "2022-08-31T16:17:12.192Z"
   },
   {
    "duration": 1339,
    "start_time": "2022-08-31T16:22:41.838Z"
   },
   {
    "duration": 184,
    "start_time": "2022-08-31T16:22:43.179Z"
   },
   {
    "duration": 3,
    "start_time": "2022-08-31T16:22:43.365Z"
   },
   {
    "duration": 858,
    "start_time": "2022-08-31T16:22:43.369Z"
   },
   {
    "duration": 31,
    "start_time": "2022-08-31T16:22:44.229Z"
   },
   {
    "duration": 23,
    "start_time": "2022-08-31T16:22:44.262Z"
   },
   {
    "duration": 52,
    "start_time": "2022-08-31T16:22:44.287Z"
   },
   {
    "duration": 7,
    "start_time": "2022-08-31T16:22:44.340Z"
   },
   {
    "duration": 5973,
    "start_time": "2022-08-31T16:22:44.348Z"
   },
   {
    "duration": 8,
    "start_time": "2022-08-31T16:22:50.323Z"
   },
   {
    "duration": 14,
    "start_time": "2022-08-31T16:22:50.332Z"
   },
   {
    "duration": 80,
    "start_time": "2022-08-31T16:22:50.348Z"
   },
   {
    "duration": 3,
    "start_time": "2022-08-31T16:22:50.430Z"
   },
   {
    "duration": 21,
    "start_time": "2022-08-31T16:22:50.436Z"
   },
   {
    "duration": 5,
    "start_time": "2022-08-31T16:22:50.459Z"
   },
   {
    "duration": 9,
    "start_time": "2022-08-31T16:22:50.465Z"
   },
   {
    "duration": 1147699,
    "start_time": "2022-08-31T16:22:50.475Z"
   },
   {
    "duration": 4,
    "start_time": "2022-08-31T16:41:58.175Z"
   },
   {
    "duration": 25,
    "start_time": "2022-08-31T16:41:58.186Z"
   },
   {
    "duration": 5,
    "start_time": "2022-08-31T16:41:58.213Z"
   },
   {
    "duration": 321972,
    "start_time": "2022-08-31T16:41:58.220Z"
   },
   {
    "duration": 178,
    "start_time": "2022-08-31T16:47:20.194Z"
   },
   {
    "duration": 0,
    "start_time": "2022-08-31T16:47:20.374Z"
   },
   {
    "duration": 0,
    "start_time": "2022-08-31T16:47:20.390Z"
   },
   {
    "duration": 0,
    "start_time": "2022-08-31T16:47:20.392Z"
   },
   {
    "duration": 0,
    "start_time": "2022-08-31T16:47:20.394Z"
   },
   {
    "duration": 0,
    "start_time": "2022-08-31T16:47:20.395Z"
   },
   {
    "duration": 1322,
    "start_time": "2022-08-31T16:47:35.803Z"
   },
   {
    "duration": 223,
    "start_time": "2022-08-31T16:47:37.129Z"
   },
   {
    "duration": 3,
    "start_time": "2022-08-31T16:47:37.354Z"
   },
   {
    "duration": 941,
    "start_time": "2022-08-31T16:47:37.358Z"
   },
   {
    "duration": 33,
    "start_time": "2022-08-31T16:47:38.301Z"
   },
   {
    "duration": 10,
    "start_time": "2022-08-31T16:47:38.336Z"
   },
   {
    "duration": 60,
    "start_time": "2022-08-31T16:47:38.347Z"
   },
   {
    "duration": 3,
    "start_time": "2022-08-31T16:47:38.409Z"
   },
   {
    "duration": 5840,
    "start_time": "2022-08-31T16:47:38.415Z"
   },
   {
    "duration": 10,
    "start_time": "2022-08-31T16:47:44.256Z"
   },
   {
    "duration": 27,
    "start_time": "2022-08-31T16:47:44.268Z"
   },
   {
    "duration": 71,
    "start_time": "2022-08-31T16:47:44.297Z"
   },
   {
    "duration": 5,
    "start_time": "2022-08-31T16:47:44.369Z"
   },
   {
    "duration": 30,
    "start_time": "2022-08-31T16:47:44.376Z"
   },
   {
    "duration": 45,
    "start_time": "2022-08-31T16:47:44.408Z"
   },
   {
    "duration": 0,
    "start_time": "2022-08-31T16:47:44.455Z"
   },
   {
    "duration": 0,
    "start_time": "2022-08-31T16:47:44.457Z"
   },
   {
    "duration": 0,
    "start_time": "2022-08-31T16:47:44.459Z"
   },
   {
    "duration": 0,
    "start_time": "2022-08-31T16:47:44.461Z"
   },
   {
    "duration": 0,
    "start_time": "2022-08-31T16:47:44.462Z"
   },
   {
    "duration": 0,
    "start_time": "2022-08-31T16:47:44.464Z"
   },
   {
    "duration": 0,
    "start_time": "2022-08-31T16:47:44.465Z"
   },
   {
    "duration": 0,
    "start_time": "2022-08-31T16:47:44.467Z"
   },
   {
    "duration": 0,
    "start_time": "2022-08-31T16:47:44.469Z"
   },
   {
    "duration": 0,
    "start_time": "2022-08-31T16:47:44.470Z"
   },
   {
    "duration": 0,
    "start_time": "2022-08-31T16:47:44.472Z"
   },
   {
    "duration": 0,
    "start_time": "2022-08-31T16:47:44.473Z"
   },
   {
    "duration": 3,
    "start_time": "2022-08-31T16:48:03.805Z"
   },
   {
    "duration": 8,
    "start_time": "2022-08-31T16:48:03.810Z"
   },
   {
    "duration": 1836883,
    "start_time": "2022-08-31T16:48:03.819Z"
   },
   {
    "duration": 4,
    "start_time": "2022-08-31T17:18:40.704Z"
   },
   {
    "duration": 7,
    "start_time": "2022-08-31T17:18:40.710Z"
   },
   {
    "duration": 22,
    "start_time": "2022-08-31T17:18:40.719Z"
   },
   {
    "duration": 535729,
    "start_time": "2022-08-31T17:18:40.743Z"
   },
   {
    "duration": 4,
    "start_time": "2022-08-31T17:27:36.473Z"
   },
   {
    "duration": 7,
    "start_time": "2022-08-31T17:27:36.478Z"
   },
   {
    "duration": 24,
    "start_time": "2022-08-31T17:27:36.488Z"
   },
   {
    "duration": 681813,
    "start_time": "2022-08-31T17:27:36.513Z"
   },
   {
    "duration": 4,
    "start_time": "2022-08-31T17:38:58.328Z"
   },
   {
    "duration": 28,
    "start_time": "2022-08-31T17:38:58.334Z"
   },
   {
    "duration": 4,
    "start_time": "2022-08-31T17:43:36.412Z"
   },
   {
    "duration": 23326,
    "start_time": "2022-08-31T17:45:05.806Z"
   },
   {
    "duration": 130999,
    "start_time": "2022-08-31T17:46:39.121Z"
   },
   {
    "duration": 4,
    "start_time": "2022-08-31T17:48:50.122Z"
   },
   {
    "duration": 4569,
    "start_time": "2022-08-31T17:48:50.129Z"
   },
   {
    "duration": 1421,
    "start_time": "2022-08-31T18:56:49.797Z"
   },
   {
    "duration": 241,
    "start_time": "2022-08-31T18:56:51.220Z"
   },
   {
    "duration": 3,
    "start_time": "2022-08-31T18:56:51.463Z"
   },
   {
    "duration": 858,
    "start_time": "2022-08-31T18:56:51.468Z"
   },
   {
    "duration": 34,
    "start_time": "2022-08-31T18:56:52.327Z"
   },
   {
    "duration": 24,
    "start_time": "2022-08-31T18:56:52.363Z"
   },
   {
    "duration": 43,
    "start_time": "2022-08-31T18:56:52.388Z"
   },
   {
    "duration": 5,
    "start_time": "2022-08-31T18:56:52.432Z"
   },
   {
    "duration": 5960,
    "start_time": "2022-08-31T18:56:52.439Z"
   },
   {
    "duration": 9,
    "start_time": "2022-08-31T18:56:58.403Z"
   },
   {
    "duration": 12,
    "start_time": "2022-08-31T18:56:58.414Z"
   },
   {
    "duration": 87,
    "start_time": "2022-08-31T18:56:58.428Z"
   },
   {
    "duration": 3,
    "start_time": "2022-08-31T18:56:58.517Z"
   },
   {
    "duration": 7,
    "start_time": "2022-08-31T18:56:58.522Z"
   },
   {
    "duration": 9,
    "start_time": "2022-08-31T18:56:58.530Z"
   },
   {
    "duration": 6,
    "start_time": "2022-08-31T18:56:58.541Z"
   },
   {
    "duration": 3898653,
    "start_time": "2022-08-31T18:56:58.548Z"
   },
   {
    "duration": 4,
    "start_time": "2022-08-31T20:01:57.203Z"
   },
   {
    "duration": 12,
    "start_time": "2022-08-31T20:01:57.210Z"
   },
   {
    "duration": 6,
    "start_time": "2022-08-31T20:01:57.224Z"
   },
   {
    "duration": 506365,
    "start_time": "2022-08-31T20:01:57.232Z"
   },
   {
    "duration": 4,
    "start_time": "2022-08-31T20:10:23.599Z"
   },
   {
    "duration": 35,
    "start_time": "2022-08-31T20:10:23.605Z"
   },
   {
    "duration": 11,
    "start_time": "2022-08-31T20:10:23.642Z"
   },
   {
    "duration": 404426,
    "start_time": "2022-08-31T20:10:23.654Z"
   },
   {
    "duration": 6,
    "start_time": "2022-08-31T20:17:08.082Z"
   },
   {
    "duration": 20,
    "start_time": "2022-08-31T20:17:08.090Z"
   },
   {
    "duration": 12,
    "start_time": "2022-08-31T20:17:08.113Z"
   },
   {
    "duration": 23326,
    "start_time": "2022-08-31T20:17:08.127Z"
   },
   {
    "duration": 205719,
    "start_time": "2022-08-31T20:17:31.455Z"
   },
   {
    "duration": 4128,
    "start_time": "2022-08-31T20:20:57.176Z"
   },
   {
    "duration": 1446,
    "start_time": "2022-08-31T20:24:43.461Z"
   },
   {
    "duration": 173,
    "start_time": "2022-08-31T20:24:44.909Z"
   },
   {
    "duration": 3,
    "start_time": "2022-08-31T20:24:45.084Z"
   },
   {
    "duration": 854,
    "start_time": "2022-08-31T20:24:45.088Z"
   },
   {
    "duration": 41,
    "start_time": "2022-08-31T20:24:45.945Z"
   },
   {
    "duration": 13,
    "start_time": "2022-08-31T20:24:45.987Z"
   },
   {
    "duration": 41,
    "start_time": "2022-08-31T20:24:46.001Z"
   },
   {
    "duration": 3,
    "start_time": "2022-08-31T20:24:46.044Z"
   },
   {
    "duration": 5746,
    "start_time": "2022-08-31T20:24:46.048Z"
   },
   {
    "duration": 9,
    "start_time": "2022-08-31T20:24:51.796Z"
   },
   {
    "duration": 24,
    "start_time": "2022-08-31T20:24:51.806Z"
   },
   {
    "duration": 82,
    "start_time": "2022-08-31T20:24:51.832Z"
   },
   {
    "duration": 3,
    "start_time": "2022-08-31T20:24:51.916Z"
   },
   {
    "duration": 5,
    "start_time": "2022-08-31T20:24:51.922Z"
   },
   {
    "duration": 13,
    "start_time": "2022-08-31T20:24:51.928Z"
   },
   {
    "duration": 6,
    "start_time": "2022-08-31T20:24:51.943Z"
   },
   {
    "duration": 1623727,
    "start_time": "2022-08-31T20:24:51.951Z"
   },
   {
    "duration": 6,
    "start_time": "2022-08-31T20:51:55.679Z"
   },
   {
    "duration": 11,
    "start_time": "2022-08-31T20:51:55.687Z"
   },
   {
    "duration": 22,
    "start_time": "2022-08-31T20:51:55.700Z"
   },
   {
    "duration": 521110,
    "start_time": "2022-08-31T20:51:55.724Z"
   },
   {
    "duration": 4,
    "start_time": "2022-08-31T21:00:36.836Z"
   },
   {
    "duration": 7,
    "start_time": "2022-08-31T21:00:36.842Z"
   },
   {
    "duration": 4,
    "start_time": "2022-08-31T21:00:36.850Z"
   },
   {
    "duration": 400630,
    "start_time": "2022-08-31T21:00:36.856Z"
   },
   {
    "duration": 4,
    "start_time": "2022-08-31T21:07:17.488Z"
   },
   {
    "duration": 15,
    "start_time": "2022-08-31T21:07:17.494Z"
   },
   {
    "duration": 8,
    "start_time": "2022-08-31T21:07:17.511Z"
   },
   {
    "duration": 23781,
    "start_time": "2022-08-31T21:07:17.520Z"
   },
   {
    "duration": 120970,
    "start_time": "2022-08-31T21:07:41.303Z"
   },
   {
    "duration": 4489,
    "start_time": "2022-08-31T21:09:42.275Z"
   },
   {
    "duration": 45,
    "start_time": "2022-09-01T07:16:55.510Z"
   },
   {
    "duration": 8,
    "start_time": "2022-09-01T07:17:01.394Z"
   },
   {
    "duration": 45,
    "start_time": "2022-09-01T07:17:18.244Z"
   },
   {
    "duration": 4,
    "start_time": "2022-09-01T07:17:25.807Z"
   },
   {
    "duration": 3,
    "start_time": "2022-09-01T07:17:31.382Z"
   },
   {
    "duration": 3,
    "start_time": "2022-09-01T07:17:40.902Z"
   },
   {
    "duration": 4,
    "start_time": "2022-09-01T07:17:44.759Z"
   },
   {
    "duration": 4,
    "start_time": "2022-09-01T07:17:48.512Z"
   },
   {
    "duration": 3,
    "start_time": "2022-09-01T07:17:52.952Z"
   },
   {
    "duration": 3,
    "start_time": "2022-09-01T07:17:54.902Z"
   },
   {
    "duration": 1266,
    "start_time": "2022-09-01T10:29:44.136Z"
   },
   {
    "duration": 265,
    "start_time": "2022-09-01T10:29:45.403Z"
   },
   {
    "duration": 3,
    "start_time": "2022-09-01T10:29:45.669Z"
   },
   {
    "duration": 3329,
    "start_time": "2022-09-01T10:29:45.673Z"
   },
   {
    "duration": 35,
    "start_time": "2022-09-01T10:29:49.003Z"
   },
   {
    "duration": 20,
    "start_time": "2022-09-01T10:29:49.039Z"
   },
   {
    "duration": 52,
    "start_time": "2022-09-01T10:29:49.060Z"
   },
   {
    "duration": 5,
    "start_time": "2022-09-01T10:29:49.114Z"
   },
   {
    "duration": 45168,
    "start_time": "2022-09-01T10:29:49.120Z"
   },
   {
    "duration": 7,
    "start_time": "2022-09-01T10:30:34.290Z"
   },
   {
    "duration": 4,
    "start_time": "2022-09-01T10:30:56.906Z"
   },
   {
    "duration": 7,
    "start_time": "2022-09-01T10:30:56.912Z"
   },
   {
    "duration": 3,
    "start_time": "2022-09-01T10:30:56.920Z"
   },
   {
    "duration": 744,
    "start_time": "2022-09-01T10:30:56.925Z"
   },
   {
    "duration": 27,
    "start_time": "2022-09-01T10:30:57.671Z"
   },
   {
    "duration": 10,
    "start_time": "2022-09-01T10:30:57.701Z"
   },
   {
    "duration": 45,
    "start_time": "2022-09-01T10:30:57.713Z"
   },
   {
    "duration": 3,
    "start_time": "2022-09-01T10:30:57.759Z"
   },
   {
    "duration": 209,
    "start_time": "2022-09-01T10:30:57.764Z"
   },
   {
    "duration": 7,
    "start_time": "2022-09-01T10:30:57.975Z"
   },
   {
    "duration": 4,
    "start_time": "2022-09-01T10:34:03.492Z"
   },
   {
    "duration": 13,
    "start_time": "2022-09-01T10:34:03.497Z"
   },
   {
    "duration": 3,
    "start_time": "2022-09-01T10:34:03.512Z"
   },
   {
    "duration": 744,
    "start_time": "2022-09-01T10:34:03.517Z"
   },
   {
    "duration": 23,
    "start_time": "2022-09-01T10:34:04.263Z"
   },
   {
    "duration": 7,
    "start_time": "2022-09-01T10:34:04.288Z"
   },
   {
    "duration": 38,
    "start_time": "2022-09-01T10:34:04.296Z"
   },
   {
    "duration": 3,
    "start_time": "2022-09-01T10:34:04.354Z"
   },
   {
    "duration": 73671,
    "start_time": "2022-09-01T10:34:04.359Z"
   },
   {
    "duration": 6,
    "start_time": "2022-09-01T10:35:18.032Z"
   },
   {
    "duration": 5,
    "start_time": "2022-09-01T10:35:48.380Z"
   },
   {
    "duration": 15,
    "start_time": "2022-09-01T10:35:48.388Z"
   },
   {
    "duration": 14,
    "start_time": "2022-09-01T10:35:48.405Z"
   },
   {
    "duration": 803,
    "start_time": "2022-09-01T10:35:48.421Z"
   },
   {
    "duration": 29,
    "start_time": "2022-09-01T10:35:49.226Z"
   },
   {
    "duration": 6,
    "start_time": "2022-09-01T10:35:49.256Z"
   },
   {
    "duration": 35,
    "start_time": "2022-09-01T10:35:49.264Z"
   },
   {
    "duration": 3,
    "start_time": "2022-09-01T10:35:49.301Z"
   },
   {
    "duration": 72124,
    "start_time": "2022-09-01T10:35:49.305Z"
   },
   {
    "duration": 7,
    "start_time": "2022-09-01T10:37:01.430Z"
   },
   {
    "duration": 4,
    "start_time": "2022-09-01T10:40:49.797Z"
   },
   {
    "duration": 7,
    "start_time": "2022-09-01T10:40:49.803Z"
   },
   {
    "duration": 3,
    "start_time": "2022-09-01T10:40:49.811Z"
   },
   {
    "duration": 979,
    "start_time": "2022-09-01T10:40:49.815Z"
   },
   {
    "duration": 27,
    "start_time": "2022-09-01T10:40:50.796Z"
   },
   {
    "duration": 6,
    "start_time": "2022-09-01T10:40:50.825Z"
   },
   {
    "duration": 54,
    "start_time": "2022-09-01T10:40:50.832Z"
   },
   {
    "duration": 3,
    "start_time": "2022-09-01T10:40:50.887Z"
   },
   {
    "duration": 4080,
    "start_time": "2022-09-01T10:40:50.892Z"
   },
   {
    "duration": 7,
    "start_time": "2022-09-01T10:40:54.973Z"
   },
   {
    "duration": 4,
    "start_time": "2022-09-01T10:41:33.842Z"
   },
   {
    "duration": 6,
    "start_time": "2022-09-01T10:41:33.848Z"
   },
   {
    "duration": 3,
    "start_time": "2022-09-01T10:41:33.856Z"
   },
   {
    "duration": 714,
    "start_time": "2022-09-01T10:41:33.861Z"
   },
   {
    "duration": 21,
    "start_time": "2022-09-01T10:41:34.577Z"
   },
   {
    "duration": 7,
    "start_time": "2022-09-01T10:41:34.600Z"
   },
   {
    "duration": 48,
    "start_time": "2022-09-01T10:41:34.609Z"
   },
   {
    "duration": 4,
    "start_time": "2022-09-01T10:41:34.659Z"
   },
   {
    "duration": 72404,
    "start_time": "2022-09-01T10:41:34.665Z"
   },
   {
    "duration": 7,
    "start_time": "2022-09-01T10:42:47.070Z"
   },
   {
    "duration": 1260,
    "start_time": "2022-09-01T10:47:54.036Z"
   },
   {
    "duration": 269,
    "start_time": "2022-09-01T10:47:55.298Z"
   },
   {
    "duration": 3,
    "start_time": "2022-09-01T10:47:55.568Z"
   },
   {
    "duration": 781,
    "start_time": "2022-09-01T10:47:55.572Z"
   },
   {
    "duration": 24,
    "start_time": "2022-09-01T10:47:56.355Z"
   },
   {
    "duration": 8,
    "start_time": "2022-09-01T10:47:56.380Z"
   },
   {
    "duration": 41,
    "start_time": "2022-09-01T10:47:56.390Z"
   },
   {
    "duration": 4,
    "start_time": "2022-09-01T10:47:56.432Z"
   },
   {
    "duration": 73250,
    "start_time": "2022-09-01T10:47:56.455Z"
   },
   {
    "duration": 6,
    "start_time": "2022-09-01T10:49:09.709Z"
   },
   {
    "duration": 14,
    "start_time": "2022-09-01T10:49:09.717Z"
   },
   {
    "duration": 68,
    "start_time": "2022-09-01T10:49:09.732Z"
   },
   {
    "duration": 3,
    "start_time": "2022-09-01T10:49:09.801Z"
   },
   {
    "duration": 5,
    "start_time": "2022-09-01T10:49:09.805Z"
   },
   {
    "duration": 4,
    "start_time": "2022-09-01T10:49:09.812Z"
   },
   {
    "duration": 6,
    "start_time": "2022-09-01T10:49:09.817Z"
   },
   {
    "duration": 1371572,
    "start_time": "2022-09-01T10:49:09.825Z"
   },
   {
    "duration": 3,
    "start_time": "2022-09-01T11:12:01.398Z"
   },
   {
    "duration": 10,
    "start_time": "2022-09-01T11:12:01.403Z"
   },
   {
    "duration": 13,
    "start_time": "2022-09-01T11:12:01.414Z"
   },
   {
    "duration": 435776,
    "start_time": "2022-09-01T11:12:01.428Z"
   },
   {
    "duration": 4,
    "start_time": "2022-09-01T11:19:17.205Z"
   },
   {
    "duration": 5,
    "start_time": "2022-09-01T11:19:17.210Z"
   },
   {
    "duration": 6,
    "start_time": "2022-09-01T11:19:17.217Z"
   },
   {
    "duration": 335115,
    "start_time": "2022-09-01T11:19:17.224Z"
   },
   {
    "duration": 3,
    "start_time": "2022-09-01T11:24:52.341Z"
   },
   {
    "duration": 8,
    "start_time": "2022-09-01T11:24:52.355Z"
   },
   {
    "duration": 10,
    "start_time": "2022-09-01T11:24:52.366Z"
   },
   {
    "duration": 18255,
    "start_time": "2022-09-01T11:24:52.377Z"
   },
   {
    "duration": 206222,
    "start_time": "2022-09-01T11:25:10.634Z"
   },
   {
    "duration": 3523,
    "start_time": "2022-09-01T11:28:36.858Z"
   }
  ],
  "kernelspec": {
   "display_name": "Python 3 (ipykernel)",
   "language": "python",
   "name": "python3"
  },
  "language_info": {
   "codemirror_mode": {
    "name": "ipython",
    "version": 3
   },
   "file_extension": ".py",
   "mimetype": "text/x-python",
   "name": "python",
   "nbconvert_exporter": "python",
   "pygments_lexer": "ipython3",
   "version": "3.9.10"
  },
  "toc": {
   "base_numbering": 1,
   "nav_menu": {},
   "number_sections": true,
   "sideBar": true,
   "skip_h1_title": true,
   "title_cell": "Содержание",
   "title_sidebar": "Contents",
   "toc_cell": false,
   "toc_position": {
    "height": "calc(100% - 180px)",
    "left": "10px",
    "top": "150px",
    "width": "302.391px"
   },
   "toc_section_display": true,
   "toc_window_display": false
  }
 },
 "nbformat": 4,
 "nbformat_minor": 2
}
